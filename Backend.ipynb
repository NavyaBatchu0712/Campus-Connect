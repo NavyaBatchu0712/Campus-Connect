{
  "cells": [
    {
      "cell_type": "code",
      "execution_count": 12,
      "metadata": {
        "colab": {
          "base_uri": "https://localhost:8080/"
        },
        "id": "MNU4z16n8vxY",
        "outputId": "c0e5d4f5-ca42-47a0-d086-3261bce797cb"
      },
      "outputs": [
        {
          "name": "stdout",
          "output_type": "stream",
          "text": [
            "Collecting openai\n",
            "  Downloading openai-1.23.5-py3-none-any.whl (311 kB)\n",
            "\u001b[2K     \u001b[90m━━━━━━━━━━━━━━━━━━━━━━━━━━━━━━━━━━━━━━━━\u001b[0m \u001b[32m311.6/311.6 kB\u001b[0m \u001b[31m5.7 MB/s\u001b[0m eta \u001b[36m0:00:00\u001b[0m\n",
            "\u001b[?25hRequirement already satisfied: anyio<5,>=3.5.0 in /usr/local/lib/python3.10/dist-packages (from openai) (3.7.1)\n",
            "Requirement already satisfied: distro<2,>=1.7.0 in /usr/lib/python3/dist-packages (from openai) (1.7.0)\n",
            "Collecting httpx<1,>=0.23.0 (from openai)\n",
            "  Downloading httpx-0.27.0-py3-none-any.whl (75 kB)\n",
            "\u001b[2K     \u001b[90m━━━━━━━━━━━━━━━━━━━━━━━━━━━━━━━━━━━━━━━━\u001b[0m \u001b[32m75.6/75.6 kB\u001b[0m \u001b[31m10.3 MB/s\u001b[0m eta \u001b[36m0:00:00\u001b[0m\n",
            "\u001b[?25hRequirement already satisfied: pydantic<3,>=1.9.0 in /usr/local/lib/python3.10/dist-packages (from openai) (2.7.0)\n",
            "Requirement already satisfied: sniffio in /usr/local/lib/python3.10/dist-packages (from openai) (1.3.1)\n",
            "Requirement already satisfied: tqdm>4 in /usr/local/lib/python3.10/dist-packages (from openai) (4.66.2)\n",
            "Requirement already satisfied: typing-extensions<5,>=4.7 in /usr/local/lib/python3.10/dist-packages (from openai) (4.11.0)\n",
            "Requirement already satisfied: idna>=2.8 in /usr/local/lib/python3.10/dist-packages (from anyio<5,>=3.5.0->openai) (3.7)\n",
            "Requirement already satisfied: exceptiongroup in /usr/local/lib/python3.10/dist-packages (from anyio<5,>=3.5.0->openai) (1.2.1)\n",
            "Requirement already satisfied: certifi in /usr/local/lib/python3.10/dist-packages (from httpx<1,>=0.23.0->openai) (2024.2.2)\n",
            "Collecting httpcore==1.* (from httpx<1,>=0.23.0->openai)\n",
            "  Downloading httpcore-1.0.5-py3-none-any.whl (77 kB)\n",
            "\u001b[2K     \u001b[90m━━━━━━━━━━━━━━━━━━━━━━━━━━━━━━━━━━━━━━━━\u001b[0m \u001b[32m77.9/77.9 kB\u001b[0m \u001b[31m10.1 MB/s\u001b[0m eta \u001b[36m0:00:00\u001b[0m\n",
            "\u001b[?25hCollecting h11<0.15,>=0.13 (from httpcore==1.*->httpx<1,>=0.23.0->openai)\n",
            "  Downloading h11-0.14.0-py3-none-any.whl (58 kB)\n",
            "\u001b[2K     \u001b[90m━━━━━━━━━━━━━━━━━━━━━━━━━━━━━━━━━━━━━━━━\u001b[0m \u001b[32m58.3/58.3 kB\u001b[0m \u001b[31m6.0 MB/s\u001b[0m eta \u001b[36m0:00:00\u001b[0m\n",
            "\u001b[?25hRequirement already satisfied: annotated-types>=0.4.0 in /usr/local/lib/python3.10/dist-packages (from pydantic<3,>=1.9.0->openai) (0.6.0)\n",
            "Requirement already satisfied: pydantic-core==2.18.1 in /usr/local/lib/python3.10/dist-packages (from pydantic<3,>=1.9.0->openai) (2.18.1)\n",
            "Installing collected packages: h11, httpcore, httpx, openai\n",
            "Successfully installed h11-0.14.0 httpcore-1.0.5 httpx-0.27.0 openai-1.23.5\n"
          ]
        }
      ],
      "source": [
        "!pip install openai"
      ]
    },
    {
      "cell_type": "code",
      "execution_count": 26,
      "metadata": {
        "colab": {
          "base_uri": "https://localhost:8080/",
          "height": 528
        },
        "id": "HcHetc_JApv4",
        "outputId": "aba41361-fbb7-4118-bdff-0ee5e280cceb"
      },
      "outputs": [
        {
          "name": "stdout",
          "output_type": "stream",
          "text": [
            "Collecting openai==0.28\n",
            "  Downloading openai-0.28.0-py3-none-any.whl (76 kB)\n",
            "\u001b[2K     \u001b[90m━━━━━━━━━━━━━━━━━━━━━━━━━━━━━━━━━━━━━━━━\u001b[0m \u001b[32m76.5/76.5 kB\u001b[0m \u001b[31m1.9 MB/s\u001b[0m eta \u001b[36m0:00:00\u001b[0m\n",
            "\u001b[?25hRequirement already satisfied: requests>=2.20 in /usr/local/lib/python3.10/dist-packages (from openai==0.28) (2.31.0)\n",
            "Requirement already satisfied: tqdm in /usr/local/lib/python3.10/dist-packages (from openai==0.28) (4.66.2)\n",
            "Requirement already satisfied: aiohttp in /usr/local/lib/python3.10/dist-packages (from openai==0.28) (3.9.5)\n",
            "Requirement already satisfied: charset-normalizer<4,>=2 in /usr/local/lib/python3.10/dist-packages (from requests>=2.20->openai==0.28) (3.3.2)\n",
            "Requirement already satisfied: idna<4,>=2.5 in /usr/local/lib/python3.10/dist-packages (from requests>=2.20->openai==0.28) (3.7)\n",
            "Requirement already satisfied: urllib3<3,>=1.21.1 in /usr/local/lib/python3.10/dist-packages (from requests>=2.20->openai==0.28) (2.0.7)\n",
            "Requirement already satisfied: certifi>=2017.4.17 in /usr/local/lib/python3.10/dist-packages (from requests>=2.20->openai==0.28) (2024.2.2)\n",
            "Requirement already satisfied: aiosignal>=1.1.2 in /usr/local/lib/python3.10/dist-packages (from aiohttp->openai==0.28) (1.3.1)\n",
            "Requirement already satisfied: attrs>=17.3.0 in /usr/local/lib/python3.10/dist-packages (from aiohttp->openai==0.28) (23.2.0)\n",
            "Requirement already satisfied: frozenlist>=1.1.1 in /usr/local/lib/python3.10/dist-packages (from aiohttp->openai==0.28) (1.4.1)\n",
            "Requirement already satisfied: multidict<7.0,>=4.5 in /usr/local/lib/python3.10/dist-packages (from aiohttp->openai==0.28) (6.0.5)\n",
            "Requirement already satisfied: yarl<2.0,>=1.0 in /usr/local/lib/python3.10/dist-packages (from aiohttp->openai==0.28) (1.9.4)\n",
            "Requirement already satisfied: async-timeout<5.0,>=4.0 in /usr/local/lib/python3.10/dist-packages (from aiohttp->openai==0.28) (4.0.3)\n",
            "Installing collected packages: openai\n",
            "  Attempting uninstall: openai\n",
            "    Found existing installation: openai 1.23.5\n",
            "    Uninstalling openai-1.23.5:\n",
            "      Successfully uninstalled openai-1.23.5\n",
            "Successfully installed openai-0.28.0\n"
          ]
        },
        {
          "data": {
            "application/vnd.colab-display-data+json": {
              "id": "8c99e787bd2f45e9b0baf48a2749cdd0",
              "pip_warning": {
                "packages": [
                  "openai"
                ]
              }
            }
          },
          "metadata": {},
          "output_type": "display_data"
        }
      ],
      "source": [
        "pip install openai==0.28\n"
      ]
    },
    {
      "cell_type": "code",
      "execution_count": 24,
      "metadata": {
        "id": "5u9CkPbK8uN-"
      },
      "outputs": [],
      "source": [
        "import openai"
      ]
    },
    {
      "cell_type": "code",
      "execution_count": 1,
      "metadata": {
        "colab": {
          "base_uri": "https://localhost:8080/"
        },
        "id": "bqZJzFul9bpL",
        "outputId": "b8def32f-b2b2-4988-eb76-4b93df5c7093"
      },
      "outputs": [
        {
          "name": "stdout",
          "output_type": "stream",
          "text": [
            "Empty DataFrame\n",
            "Columns: []\n",
            "Index: []\n"
          ]
        }
      ],
      "source": [
        "import openai\n",
        "from bs4 import BeautifulSoup\n",
        "import requests\n",
        "import pandas as pd\n",
        "\n",
        "# Set up your OpenAI API key\n",
        "openai.api_key = 'secrete key'\n",
        "\n",
        "# URL of the webpage to scrape\n",
        "url = 'https://www.csus.edu/college/engineering-computer-science/computer-science/meet-us/'\n",
        "\n",
        "# Fetch the HTML content of the webpage\n",
        "response = requests.get(url)\n",
        "html_content = response.content\n",
        "\n",
        "# Parse the HTML using BeautifulSoup\n",
        "soup = BeautifulSoup(html_content, 'html.parser')\n",
        "\n",
        "# Find professor details: name, specialization, email, location\n",
        "professors = []\n",
        "for professor in soup.find_all('div', class_='faculty'):\n",
        "    name = professor.find('h4', class_='faculty-name').text.strip()\n",
        "    specialization = professor.find('div', class_='faculty-title').text.strip()\n",
        "    email = professor.find('a', class_='faculty-email').text.strip()\n",
        "    location = professor.find('div', class_='faculty-office').text.strip()\n",
        "    professors.append({'Name': name, 'Specialization': specialization, 'Email': email, 'Location': location})\n",
        "\n",
        "# Convert professor details to a DataFrame\n",
        "professors_df = pd.DataFrame(professors)\n",
        "\n",
        "# Print the DataFrame (table)\n",
        "print(professors_df)"
      ]
    },
    {
      "cell_type": "code",
      "execution_count": 8,
      "metadata": {
        "colab": {
          "base_uri": "https://localhost:8080/"
        },
        "id": "teCdCXs_E-BS",
        "outputId": "16dd0b5f-d737-4d80-f786-11903ceed56a"
      },
      "outputs": [
        {
          "data": {
            "text/plain": [
              "<!DOCTYPE html>\n",
              "\n",
              "<html lang=\"en\">\n",
              "<head>\n",
              "<!-- Global site tag (gtag.js) - Google Analytics -->\n",
              "<script async=\"\" src=\"https://www.googletagmanager.com/gtag/js?id=G-P2W6H1YL9L\"></script>\n",
              "<script>// <![CDATA[\n",
              "window.dataLayer = window.dataLayer || [];\n",
              "  function gtag(){dataLayer.push(arguments);}\n",
              "  gtag('js', new Date());\n",
              "\n",
              "  gtag('config', 'G-P2W6H1YL9L');\n",
              "// ]]></script>\n",
              "<script async=\"\" src=\"https://www.googletagmanager.com/gtag/js?id=UA-798015-1\"></script>\n",
              "<script>// <![CDATA[\n",
              "window.dataLayer = window.dataLayer || [];\n",
              "  function gtag(){dataLayer.push(arguments);}\n",
              "  gtag('js', new Date());\n",
              "\n",
              "  gtag('config', 'UA-798015-1');\n",
              "// ]]></script>\n",
              "<meta charset=\"utf-8\"/><meta content=\"7ff1dff70a73e9e427cb7a069caee0cc\" name=\"page-id\"/>\n",
              "<meta content=\"width=device-width, initial-scale=1, shrink-to-fit=no\" name=\"viewport\"/>\n",
              "<title>Meet Us | Computer Science | Sacramento State</title>\n",
              "<link crossorigin=\"anonymous\" href=\"https://cdn.jsdelivr.net/npm/bootstrap@5.3.0/dist/css/bootstrap.min.css\" integrity=\"sha384-9ndCyUaIbzAi2FUVXJi0CjmCapSmO7SnpJef0486qhLnuZ2cdeRhO02iuK6FUUVM\" media=\"screen\" rel=\"stylesheet\" type=\"text/css\"/>\n",
              "<link crossorigin=\"anonymous\" href=\"https://fonts.googleapis.com/css?family=Open+Sans:i,300,400,600,700\" integrity=\"\" media=\"screen\" rel=\"stylesheet\" type=\"text/css\"/>\n",
              "<link crossorigin=\"anonymous\" href=\"https://use.fontawesome.com/releases/v5.3.1/css/all.css\" integrity=\"sha384-mzrmE5qonljUremFsqc01SB46JvROS7bZs3IO2EmfFsd15uHvIt+Y8vEf7N7fWAU\" media=\"screen\" rel=\"stylesheet\" type=\"text/css\"/>\n",
              "<link crossorigin=\"anonymous\" href=\"https://use.fontawesome.com/releases/v5.3.1/css/v4-shims.css\" integrity=\"\" media=\"screen\" rel=\"stylesheet\" type=\"text/css\"/>\n",
              "<link href=\"https://www.csus.edu/newcsus2019-global-assets/_internal/css/all.css?v=202304070551\" id=\"css-all\" media=\"screen\" rel=\"stylesheet\" type=\"text/css\"/>\n",
              "<link href=\"https://www.csus.edu/newcsus2019-global-assets/_internal/css/print-override.css\" id=\"css-print-override\" media=\"print\" rel=\"stylesheet\" type=\"text/css\"/>\n",
              "<link href=\"https://www.csus.edu/newcsus2019-global-assets/_internal/css/v2022/22-headerfooter-mid.css\" id=\"css-22-headerfooter-mid\" media=\"screen\" rel=\"stylesheet\" type=\"text/css\"/>\n",
              "</head>\n",
              "<body>\n",
              "<a class=\"skip-nav\" href=\"#skip\" role=\"link\">Skip to Main Content</a>\n",
              "<div class=\"v22\" role=\"banner\">\n",
              "<h1 aria-hidden=\"true\" class=\"d-none\">California State University, Sacramento</h1>\n",
              "<nav aria-labelledby=\"primary-navigation\" class=\"navbar navbar-default navbar-light navbar-static-top splitter\" id=\"csus-global-navbar\">\n",
              "<h2 hidden=\"\" id=\"primary-navigation\">Primary Navigation</h2>\n",
              "<div class=\"container\"><a class=\"navbar-brand\" href=\"https://www.csus.edu\"> <img alt=\"Sac State logo\" src=\"https://www.csus.edu/NewCSUS2019-global-assets/_internal/images/logo-horizontal.png\"/> </a>\n",
              "<ul aria-labelledby=\"primary-navigation\" class=\"nav justify-content-end\" role=\"menu\">\n",
              "<li role=\"menuitem\"><a href=\"https://www.csus.edu/apply/index.html\">APPLY</a></li>\n",
              "<li role=\"menuitem\"><a href=\"https://www.csus.edu/experience/index.html\">EXPERIENCE</a></li>\n",
              "<li role=\"menuitem\"><a href=\"https://www.csus.edu/giving\">GIVE</a></li>\n",
              "<!-- adjust css to accommodate\n",
              "\t\t<li role=\"menuitem\"><a href=\"https://www.my.csus.edu\">MySacState</a></li>\n",
              "\t --></ul>\n",
              "<button aria-expanded=\"false\" aria-haspopup=\"true\" aria-label=\"Menu\" class=\"navbar-toggler navbar-toggler-right navbar-toggler-icon\" data-bs-target=\"#quicklinks-modal\" data-bs-toggle=\"modal\" href=\"#quicklinks-modal\" type=\"submit\">Menu</button> <!-- Modal: Start -->\n",
              "<div aria-labelledby=\"quicklinksModalLabel\" class=\"modal fade\" id=\"quicklinks-modal\" tabindex=\"-1\">\n",
              "<div class=\"modal-dialog modal-dialog-slideout modal-sm\">\n",
              "<div class=\"modal-content\">\n",
              "<div class=\"modal-header\">\n",
              "<h3 class=\"modal-title\" hidden=\"\" id=\"quicklinksModalLabel\">Explore</h3>\n",
              "<button aria-label=\"Close Primary Navigation\" class=\"close\" data-bs-dismiss=\"modal\" href=\"#\" type=\"submit\">× </button></div>\n",
              "<div class=\"modal-body\"><form action=\"https://www.csus.edu/search/\" method=\"get\" role=\"search\" style=\"border: none;\"><fieldset><legend>Search</legend> <label class=\"d-none form-label\" for=\"search-input\">Search</label> <input aria-label=\"Search CSUS.edu\" autofocus=\"autofocus\" class=\"form-control\" d=\"\" id=\"search-input\" name=\"q\" placeholder=\"Search\" title=\"Search CSUS.edu\" type=\"search\"/> <button aria-label=\"Submit Search\" type=\"submit\"> <span style=\"text-indent: -999px; display: inline-block; max-width: 1px; overflow: hidden;\">Submit Search</span> <img alt=\"Search Icon\" height=\"32\" src=\"https://irt-cdn.webhost.csus.edu/cascade/csusnew2019/NewCSUS2019-global-assets/_internal/images/toolbar_find.png\" title=\"Click to submit your search request\" width=\"32\"/> </button></fieldset></form>\n",
              "<ul class=\"ql-stacker\" id=\"top-quick-links\" role=\"menubar\">\n",
              "<li role=\"menuitem\"><a href=\"https://my.csus.edu\">My Sac State</a></li>\n",
              "<li role=\"menuitem\"><a href=\"https://www.csus.edu/return-to-campus/\">COVID-19 Information</a></li>\n",
              "<li role=\"menuitem\"><a href=\"https://www.csus.edu/experience/innovation-creativity/oried/index.html\">Research</a></li>\n",
              "<li role=\"menuitem\"><a href=\"https://www.csus.edu/apply/financial-aid-scholarships/scholarships/index.html\">Scholarships</a></li>\n",
              "<li role=\"menuitem\"><a href=\"https://www.trumba.com/calendars/sacramento-state-events?trumbaEmbed=filterview%3DFeaturedEvents\">Events</a></li>\n",
              "<li role=\"menuitem\"><a href=\"https://www.csus.edu/parking-transportation/\" target=\"_parent\">Parking</a></li>\n",
              "<li role=\"menuitem\"><a href=\"https://www.csus.edu/campusmap/\">Campus Map</a></li>\n",
              "</ul>\n",
              "<div id=\"nav-accordion\">\n",
              "<div class=\"card\">\n",
              "<div class=\"card-header\" id=\"heading-student-life\"><a aria-controls=\"accordion-student-life\" aria-expanded=\"false\" data-bs-target=\"#accordion-student-life\" data-bs-toggle=\"collapse\" href=\"#accordion-student-life\" role=\"button\">Student Life</a></div>\n",
              "<div aria-labelledby=\"heading-student-life\" class=\"collapse\" data-bs-parent=\"#nav-accordion\" id=\"accordion-student-life\">\n",
              "<div class=\"card-body\">\n",
              "<ul role=\"menubar\">\n",
              "<li role=\"menuitem\"><a href=\"https://www.csus.edu/student-life/academic-advising/index.html\">Academic Advising</a></li>\n",
              "<li role=\"menuitem\"><a href=\"http://www.asi.csus.edu\">ASI</a></li>\n",
              "<li role=\"menuitem\"><a href=\"https://www.csus.edu/student-life/career-center/index.html\">Career Center</a></li>\n",
              "<li role=\"menuitem\"><a href=\"https://www.csus.edu/student-life/class-schedules/index.html\">Class Schedules</a></li>\n",
              "<li role=\"menuitem\"><a href=\"https://www.csus.edu/student-life/health-counseling/index.html\">Health &amp; Counseling</a></li>\n",
              "<li role=\"menuitem\"><a href=\"https://www.csus.edu/student-life/housing/index.html\">Housing</a></li>\n",
              "<li role=\"menuitem\"><a href=\"https://www.csus.edu/student-life/records-transcripts/index.html\">Records &amp; Transcripts</a></li>\n",
              "<li role=\"menuitem\"><a href=\"https://www.csus.edu/student-life/student-organizations/sports-recreation/index.html\">Sport Clubs</a></li>\n",
              "<li role=\"menuitem\"><a href=\"https://www.csus.edu/student-life/student-organizations/index.html\">Student Organizations</a></li>\n",
              "</ul>\n",
              "</div>\n",
              "</div>\n",
              "</div>\n",
              "<div class=\"card mobile-nav-only\">\n",
              "<div class=\"card-header\" id=\"heading-admissions\"><a aria-controls=\"accordion-admissions\" aria-expanded=\"false\" data-bs-target=\"#accordion-admissions\" data-bs-toggle=\"collapse\" href=\"#accordion-admissions\" role=\"button\">Apply</a></div>\n",
              "<div aria-labelledby=\"heading-admissions\" class=\"collapse\" data-bs-parent=\"#nav-accordion\" id=\"accordion-admissions\">\n",
              "<div class=\"card-body\">\n",
              "<ul role=\"menubar\">\n",
              "<li role=\"menuitem\"><a href=\"https://www2.calstate.edu/apply\" target=\"_parent\">Apply Online</a></li>\n",
              "<li role=\"menuitem\"><a href=\"https://www.csus.edu/apply/enrollment-costs-fees/index.html\" target=\"_parent\">Enrollment Costs &amp; Fees</a></li>\n",
              "<li role=\"menuitem\"><a href=\"https://www.csus.edu/apply/financial-aid-scholarships/index.html\" target=\"_parent\">Financial Aid &amp; Scholarships</a></li>\n",
              "<li role=\"menuitem\"><a href=\"https://www.csus.edu/apply/student-orientation/index.html\" target=\"_parent\">Student Orientation</a></li>\n",
              "</ul>\n",
              "</div>\n",
              "</div>\n",
              "</div>\n",
              "<div class=\"card\">\n",
              "<div class=\"card-header\" id=\"heading-academics\"><a aria-controls=\"accordion-academics\" aria-expanded=\"false\" data-bs-target=\"#accordion-academics\" data-bs-toggle=\"collapse\" href=\"#accordion-academics\" role=\"button\">Academics</a></div>\n",
              "<div aria-labelledby=\"heading-academics\" class=\"collapse\" data-bs-parent=\"#nav-accordion\" id=\"accordion-academics\">\n",
              "<div class=\"card-body\">\n",
              "<ul role=\"menubar\">\n",
              "<li role=\"menuitem\"><a href=\"https://www.csus.edu/college/index.html\" target=\"_parent\">Colleges, Majors &amp; Programs</a></li>\n",
              "<li role=\"menuitem\"><a href=\"https://catalog.csus.edu/\">University Catalog</a></li>\n",
              "<li role=\"menuitem\"><a href=\"https://www.csus.edu/undergraduate-studies/index.html\" target=\"_parent\">Undergraduate Studies</a></li>\n",
              "<li role=\"menuitem\"><a href=\"https://www.csus.edu/graduate-studies/index.html\" target=\"_parent\">Graduate Studies</a></li>\n",
              "<li role=\"menuitem\"><a href=\"https://www.csus.edu/international-programs-global-engagement/index.html\" target=\"_parent\">International Programs</a></li>\n",
              "<li role=\"menuitem\"><a href=\"https://library.csus.edu\">Library</a></li>\n",
              "<li role=\"menuitem\"><a href=\"https://scholars.csus.edu\">Sac State Scholars</a></li>\n",
              "</ul>\n",
              "</div>\n",
              "</div>\n",
              "</div>\n",
              "<div class=\"card\">\n",
              "<div class=\"card-header\" id=\"heading-athletics\"><a href=\"https://hornetsports.com/landing/index\">Athletics</a></div>\n",
              "</div>\n",
              "<div class=\"card\">\n",
              "<div class=\"card-header\" id=\"heading-inside-sac-state\"><a aria-controls=\"accordion-inside-sac-state\" aria-expanded=\"false\" data-bs-target=\"#accordion-inside-sac-state\" data-bs-toggle=\"collapse\" href=\"#accordion-inside-sac-state\">Inside Sac State</a></div>\n",
              "<div aria-labelledby=\"heading-inside-sac-state\" class=\"collapse\" data-bs-parent=\"#nav-accordion\" id=\"accordion-inside-sac-state\">\n",
              "<div class=\"card-body\">\n",
              "<ul role=\"menubar\">\n",
              "<li role=\"menuitem\"><a href=\"https://www.csus.edu/academic-affairs/index.html\" target=\"_parent\">Academic Affairs</a></li>\n",
              "<li role=\"menuitem\"><a href=\"https://www.csus.edu/administration-business-affairs/index.html\" target=\"_parent\">Administration &amp; Business Affairs</a></li>\n",
              "<li role=\"menuitem\"><a href=\"https://www.csus.edu/diversity-inclusion/index.html\" target=\"_parent\">Diversity &amp; Inclusion</a></li>\n",
              "<li role=\"menuitem\"><a href=\"https://www.csus.edu/division-inclusive-excellence/index.html\" target=\"_parent\">Inclusive Excellence</a></li>\n",
              "<li role=\"menuitem\"><a href=\"https://www.csus.edu/information-resources-technology/index.html\" target=\"_parent\">Information Resources &amp; Tech.</a></li>\n",
              "<li role=\"menuitem\"><a href=\"https://www.csus.edu/president/index.html\" target=\"_parent\">Office of the President</a></li>\n",
              "<li role=\"menuitem\"><a href=\"https://www.csus.edu/student-affairs/index.html\" target=\"_parent\">Student Affairs</a></li>\n",
              "<li role=\"menuitem\"><a href=\"https://www.enterprises.csus.edu/\">UEI – University Enterprises. Inc.</a></li>\n",
              "<li role=\"menuitem\"><a href=\"https://www.csus.edu/university-advancement/index.html\" target=\"_parent\">University Advancement</a></li>\n",
              "</ul>\n",
              "</div>\n",
              "</div>\n",
              "</div>\n",
              "<div class=\"card mobile-nav-only\">\n",
              "<div class=\"card-header\" id=\"heading-experience-sac-state\"><a aria-controls=\"accordion-experience-sac-state\" aria-expanded=\"false\" data-bs-target=\"#accordion-experience-sac-state\" data-bs-toggle=\"collapse\" href=\"#accordion-experience-sac-state\">Experience Sac State </a></div>\n",
              "<div aria-labelledby=\"heading-experience-sac-state\" class=\"collapse\" data-bs-parent=\"#nav-accordion\" id=\"accordion-experience-sac-state\">\n",
              "<div class=\"card-body\">\n",
              "<ul role=\"menubar\">\n",
              "<li role=\"menuitem\"><a href=\"https://www.csus.edu/experience/alumni-association/index.html\" target=\"_parent\">Alumni Association</a></li>\n",
              "<li role=\"menuitem\"><a href=\"https://www.hornetsports.com\">Athletics</a></li>\n",
              "<li role=\"menuitem\"><a href=\"https://www.csus.edu/experience/anchor-university/index.html\" target=\"_parent\">Community Engagement</a></li>\n",
              "<li role=\"menuitem\"><a href=\"https://www.csus.edu/experience/innovation-creativity/index.html\" target=\"_parent\">Innovation &amp; Creativity</a></li>\n",
              "<li role=\"menuitem\"><a href=\"https://www.csus.edu/news/\">News</a></li>\n",
              "<li role=\"menuitem\"><a href=\"https://www.csus.edu/experience/student-success/index.html\" target=\"_parent\">Student Success</a></li>\n",
              "<li role=\"menuitem\"><a href=\"https://thewellatsacstate.com/\">The WELL</a></li>\n",
              "<li role=\"menuitem\"><a href=\"https://www.csus.edu/experience/visit/index.html\" target=\"_parent\">Visit Sac State</a></li>\n",
              "</ul>\n",
              "</div>\n",
              "</div>\n",
              "</div>\n",
              "<div class=\"card\">\n",
              "<div class=\"card-header\" id=\"heading-directory\"><a href=\"http://directory.csus.edu\">Directory</a></div>\n",
              "</div>\n",
              "<div class=\"card\">\n",
              "<div class=\"card-header\" id=\"heading-jobs\"><a href=\"https://www.csus.edu/administration-business-affairs/human-resources/\">Careers</a></div>\n",
              "</div>\n",
              "<div class=\"card mobile-nav-only\">\n",
              "<div class=\"card-header\" id=\"heading-give\"><a href=\"https://www.csus.edu/give/\">Give</a></div>\n",
              "</div>\n",
              "<ul aria-label=\"Campus-Wide Social Quick Links\" class=\"justify-content-center\" id=\"social-quick-links\" role=\"menubar\">\n",
              "<li role=\"menuitem\"><a href=\"https://www.facebook.com/sacstate\" title=\"Sac State Facebook\"> <span class=\"d-none\">Visit Sac State at Facebook</span> </a></li>\n",
              "<!--<li role=\"menuitem\"><a href=\"https://twitter.com/sacstate\" title=\"Sac State Twitter\"><span class=\"d-none\">Follow Sac State at Twitter</span></a></li>-->\n",
              "<li role=\"menuitem\"><a href=\"https://www.instagram.com/sacstate\" title=\"Sac State Instagram\"> <span class=\"d-none\">Follow Sac State at Instagram</span> </a></li>\n",
              "<li role=\"menuitem\"><a href=\"https://www.youtube.com/SacStateVideo\" title=\"Sac State YouTube\"> <span class=\"d-none\">Visit Sac State at YouTube</span> </a></li>\n",
              "</ul>\n",
              "</div>\n",
              "</div>\n",
              "</div>\n",
              "<!-- Modal: End --></div>\n",
              "</div>\n",
              "</div>\n",
              "</nav></div>\n",
              "<main class=\"t5 t5-meetus-manual college computer-science meet-us\" id=\"skip\">\n",
              "<!--***** START: Hero Section Support Page*****-->\n",
              "<header class=\"bg-image-full\">\n",
              "<style>\n",
              "        /* Large devices (laptops/desktops, 992px and up) */\n",
              "        @media only screen and (min-width: 992px) {\n",
              "            .bg-image-full {\n",
              "                background-image: linear-gradient(270deg, rgba(196,182,129,0) 50%, rgba(0,78,56,0.6) 50%, rgba(0,78,56,1) 100%), url('../_internal/_images/cs-code3-2000.jpg'); \n",
              "            }\n",
              "            /* exception for initial campaign page (give / campaign / index ) */\n",
              "            main.page-campaign .bg-image-full {\n",
              "                background-color: #fff;\n",
              "                background-position: center;\n",
              "                background-image: url('../_internal/_images/cs-code3-2000.jpg'); \n",
              "                background-size: contain;\n",
              "            }\n",
              "        }\n",
              "        </style>\n",
              "<style>\n",
              "        /* Small devices (991px and down) */\n",
              "        @media only screen and (max-width: 991px) {\n",
              "            main:not(.t1) .bg-image-full {\n",
              "                 background-image: linear-gradient(270deg, rgba(0,78,56,0.3) 5%, rgba(0,78,56,.6) 100%), url('../_internal/_images/cs-code3-2000.jpg'); \n",
              "            }\n",
              "            main.t1 .bg-image-full {\n",
              "                 background-image: url('../_internal/_images/cs-code3-2000.jpg'); \n",
              "            }\n",
              "        }\n",
              "        </style>\n",
              "<div class=\"container\">\n",
              "<div class=\"row\">\n",
              "<!-- T4 Hero Header -->\n",
              "<div class=\"col-lg-6\">\n",
              "<h1> <span>Department of</span> Computer Science\n",
              "    \n",
              "                                                                                    <span>College of Engineering &amp; Computer Science</span>\n",
              "</h1>\n",
              "</div>\n",
              "</div>\n",
              "</div>\n",
              "</header>\n",
              "<!--***** END: Hero Section *****-->\n",
              "<!--***** END: Hero Section Support Page*****-->\n",
              "<div class=\"sidebar sac-breadcrumb\">\n",
              "<p aria-hidden=\"true\" class=\"d-none\" id=\"sidebar-menu\">Breadcrumb Navigation</p>\n",
              "<div class=\"container\">\n",
              "<div class=\"row\">\n",
              "<div class=\"col-md-12\">\n",
              "<nav aria-labelledby=\"sidebar-menu\" class=\"navbar navbar-dark\">\n",
              "<a href=\"../../../index.html\">Colleges &amp; Majors</a>\n",
              "<a href=\"../../index.html\">Engineering &amp; Computer Science</a>\n",
              "<a href=\"../index.html\">Computer Science</a>\n",
              "<a href=\"index.html\">Meet Us</a>\n",
              "</nav>\n",
              "</div>\n",
              "</div>\n",
              "</div>\n",
              "</div>\n",
              "<article>\n",
              "<!-- Meet Us: Faculty/Staff -->\n",
              "<section aria-labelledby=\"meet-us-header\" class=\"container meet-us-section meet-us-section-new\" id=\"meet-us-section\">\n",
              "<h1 id=\"meet-us-header\">Meet Us</h1>\n",
              "<img alt=\"Sac State flame logo for Google CSE.\" aria-hidden=\"true\" id=\"meet-us-cse-image\" src=\"https://www.csus.edu/newcsus2019-global-assets/_internal/images/default-member-sq.jpg\"/>\n",
              "<ul class=\"link-anchor\">\n",
              "<li><a href=\"#department\">Department</a></li>\n",
              "<li><a href=\"#full-time-faculty\">Full-Time Faculty</a></li>\n",
              "<li><a href=\"#part-time-faculty\">Part-Time Faculty</a></li>\n",
              "<li><a href=\"#emeritus\">Emeritus</a></li>\n",
              "</ul>\n",
              "<div class=\"group\">\n",
              "<h2 id=\"department\" title=\"Anchor is: department\">Department</h2>\n",
              "<div class=\"group-row\">\n",
              "<div class=\"member-wrap\">\n",
              "<div class=\"group-member faculty-full-time\">\n",
              "<h3 id=\"1-ouyang-jinsong-department\">Jinsong Ouyang</h3>\n",
              "<p class=\"job-title\">Department Chair</p>\n",
              "<div class=\"img-container\">\n",
              "<img alt=\"Photo of Jinsong Ouyang\" class=\"img-fluid\" src=\"_internal/photos/ouyang-sm.jpg\"/>\n",
              "</div>\n",
              "<div class=\"info-container\">\n",
              "<ul class=\"contact-block\">\n",
              "<li class=\"location\"><span>Location:</span> RVR 3018G</li>\n",
              "<li class=\"phone\"><span>Phone:</span> (916) 278-7628</li>\n",
              "<li class=\"email\"><a href=\"mailto:ouyangj@ecs.csus.edu\">ouyangj@ecs.csus.edu</a></li>\n",
              "<li class=\"website\"><a aria-describedby=\"department 1-ouyang-jinsong-department\" href=\"https://www.csus.edu/faculty/o/jouyang/\">Website</a></li>\n",
              "</ul> </div>\n",
              "<ul class=\"office-hours\">\n",
              "<li><span>Office Hours:</span>\n",
              "<br/>\n",
              "                \t\t                                            \t\t                                    \t\t                                        \t\t                                        \t\t                \n",
              "                        \t\t                                        \t\t                                        \t\t                                        \t\t                \n",
              "\n",
              "                        \t\t                \n",
              "                        \t\t                                        \t\t                                        \t\t                                        \t\t                                        \t\t               \n",
              "                        \t\t                \n",
              "                        \t\t                                        \t\t                Tues./Thurs. 1  - 3 p.m.\n",
              "                        \t\t                \n",
              "                        \t\t                                            \t\t                                \t\t                                            \t\t                     <br/>\n",
              "                    \t\t                                            \t\t                                    \t\t                                        \t\t                                        \t\t                \n",
              "                        \t\t                                        \t\t                                        \t\t                                        \t\t                \n",
              "\n",
              "                        \t\t                \n",
              "                        \t\t                                        \t\t                                        \t\t                                        \t\t               \n",
              "                        \t\t                \n",
              "                        \t\t                                        \t\t                Wed. 10 a.m. - noon\n",
              "                        \t\t                \n",
              "                        \t\t                                            \t\t                                \t\t                                            \t\t                                \t\t            </li>\n",
              "</ul>\n",
              "</div> </div>\n",
              "<div class=\"member-wrap\">\n",
              "<div class=\"group-member faculty-full-time\">\n",
              "<h3 id=\"2-baynes-anna-department\">Anna Baynes</h3>\n",
              "<p class=\"job-title\">Associate Chair</p>\n",
              "<div class=\"img-container\">\n",
              "<img alt=\"Photo of Anna Baynes\" class=\"img-fluid\" src=\"_internal/photos/baynes-sm.jpg\"/>\n",
              "</div>\n",
              "<div class=\"info-container\">\n",
              "<ul class=\"contact-block\">\n",
              "<li class=\"location\"><span>Location:</span> RVR 3018H</li>\n",
              "<li class=\"phone\"><span>Phone:</span> (916) 278-7947</li>\n",
              "<li class=\"email\"><a href=\"mailto:abaynes@ecs.csus.edu\">abaynes@ecs.csus.edu</a></li>\n",
              "</ul> </div>\n",
              "</div> </div>\n",
              "<div class=\"member-wrap\">\n",
              "<div class=\"group-member faculty-full-time\">\n",
              "<h3 id=\"3-victor-chen-department\">Haiquan (Victor) Chen</h3>\n",
              "<p class=\"job-title\">Graduate Coordinator</p>\n",
              "<div class=\"img-container\">\n",
              "<img alt=\"Photo of Haiquan (Victor) Chen\" class=\"img-fluid\" src=\"_internal/photos/chen-sm.jpg\"/>\n",
              "</div>\n",
              "<div class=\"info-container\">\n",
              "<ul class=\"contact-block\">\n",
              "<li class=\"location\"><span>Location:</span> RVR 5018 / 3018I</li>\n",
              "<li class=\"phone\"><span>Phone:</span> (916) 278-6087 / 278-5769</li>\n",
              "<li class=\"email\"><a href=\"mailto:chenh@ecs.csus.edu\">chenh@ecs.csus.edu</a></li>\n",
              "<li class=\"website\"><a aria-describedby=\"department 3-victor-chen-department\" href=\"https://athena.ecs.csus.edu/~chenh/index.html\">Website</a></li>\n",
              "</ul> </div>\n",
              "</div> </div>\n",
              "<div class=\"member-wrap\">\n",
              "<div class=\"group-member staff\">\n",
              "<h3 id=\"4-kirk-keturah-department\">Keturah Kirk</h3>\n",
              "<p class=\"job-title\">Administrative Support Assistant</p>\n",
              "<div class=\"img-container\">\n",
              "<img alt=\"Photo of Keturah Kirk\" class=\"img-fluid\" src=\"_internal/photos/keturah-kirk.jpg\"/>\n",
              "</div>\n",
              "<div class=\"info-container\">\n",
              "<ul class=\"contact-block\">\n",
              "<li class=\"location\"><span>Location:</span> RVR 3018</li>\n",
              "<li class=\"phone\"><span>Phone:</span> (916) 278-4351</li>\n",
              "<li class=\"email\"><a href=\"mailto:k.kirk@csus.edu\">k.kirk@csus.edu</a></li>\n",
              "</ul> </div>\n",
              "</div> </div>\n",
              "<div class=\"member-wrap\">\n",
              "<div class=\"group-member staff\">\n",
              "<h3 id=\"5-barber-makenna-department\">Makenna Barber</h3>\n",
              "<p class=\"job-title\">Administrative Support Coordinator II</p>\n",
              "<div class=\"img-container\">\n",
              "<img alt=\"Photo of Makenna Barber\" class=\"img-fluid\" src=\"_internal/photos/makenna-barber-headshot.png\"/>\n",
              "</div>\n",
              "<div class=\"info-container\">\n",
              "<ul class=\"contact-block\">\n",
              "<li class=\"location\"><span>Location:</span> RVR 3018</li>\n",
              "<li class=\"phone\"><span>Phone:</span> (916) 278-6483</li>\n",
              "<li class=\"email\"><a href=\"mailto:makenna.barber@csus.edu\">makenna.barber@csus.edu</a></li>\n",
              "</ul> </div>\n",
              "</div> </div>\n",
              "</div> </div>\n",
              "<div class=\"group\">\n",
              "<h2 id=\"full-time-faculty\" title=\"Anchor is: full-time-faculty\">Full-Time Faculty</h2>\n",
              "<div class=\"group-row\">\n",
              "<div class=\"member-wrap\">\n",
              "<div class=\"group-member faculty-full-time\">\n",
              "<h3 id=\"arad-behnam-full-time-faculty\">Behnam Arad</h3>\n",
              "<p class=\"job-title\">Professor</p>\n",
              "<div class=\"img-container\">\n",
              "<img alt=\"Photo of Behnam Arad\" class=\"img-fluid\" src=\"_internal/photos/arad-sm.jpg\"/>\n",
              "</div>\n",
              "<div class=\"info-container\">\n",
              "<ul class=\"contact-block\">\n",
              "<li class=\"location\"><span>Location:</span> RVR 5044</li>\n",
              "<li class=\"phone\"><span>Phone:</span> (916) 278-7160</li>\n",
              "<li class=\"email\"><a href=\"mailto:arad@csus.edu\">arad@csus.edu</a></li>\n",
              "<li class=\"website\"><a aria-describedby=\"full-time-faculty arad-behnam-full-time-faculty\" href=\"https://athena.ecs.csus.edu/~arad/\">Website</a></li>\n",
              "</ul> </div>\n",
              "</div> </div>\n",
              "<div class=\"member-wrap\">\n",
              "<div class=\"group-member faculty-full-time\">\n",
              "<h3 id=\"badruddoja-syed-full-time-faculty\">Syed Badruddoja</h3>\n",
              "<p class=\"job-title\">Assistant Professor</p>\n",
              "<div class=\"img-container\">\n",
              "<img alt=\"Photo of Syed Badruddoja\" class=\"img-fluid\" src=\"_internal/photos/syed1-sm.jpg\"/>\n",
              "</div>\n",
              "<div class=\"info-container\">\n",
              "<ul class=\"contact-block\">\n",
              "<li class=\"location\"><span>Location:</span> RVR 3006</li>\n",
              "<li class=\"phone\"><span>Phone:</span> (916) 278-7328</li>\n",
              "<li class=\"email\"><a href=\"mailto:badruddoja@csus.edu\">badruddoja@csus.edu</a></li>\n",
              "<li class=\"website\"><a aria-describedby=\"full-time-faculty badruddoja-syed-full-time-faculty\" href=\"https://www.csus.edu/faculty/b/badruddoja/\">Website</a></li>\n",
              "</ul> </div>\n",
              "<ul class=\"sec-info-block\">\n",
              "<li><span class=\"member-about-header\">Specialty &amp; Interests:</span> Computer Systems, Security, and Artificial Intelligence</li>\n",
              "</ul>\n",
              "</div> </div>\n",
              "<div class=\"member-wrap\">\n",
              "<div class=\"group-member faculty-full-time\">\n",
              "<h3 id=\"baynes-anna-full-time-faculty\">Anna Baynes</h3>\n",
              "<p class=\"job-title\">Associate Professor</p>\n",
              "<div class=\"img-container\">\n",
              "<img alt=\"Photo of Anna Baynes\" class=\"img-fluid\" src=\"_internal/photos/baynes-sm.jpg\"/>\n",
              "</div>\n",
              "<div class=\"info-container\">\n",
              "<ul class=\"contact-block\">\n",
              "<li class=\"location\"><span>Location:</span> RVR 3004</li>\n",
              "<li class=\"phone\"><span>Phone:</span> (916) 278-7947</li>\n",
              "<li class=\"email\"><a href=\"mailto:abaynes@ecs.csus.edu\">abaynes@ecs.csus.edu</a></li>\n",
              "</ul> </div>\n",
              "</div> </div>\n",
              "<div class=\"member-wrap\">\n",
              "<div class=\"group-member faculty-full-time\">\n",
              "<h3 id=\"chen-victor-full-time-faculty\">Haiquan (Victor) Chen</h3>\n",
              "<p class=\"job-title\">Associate Professor</p>\n",
              "<div class=\"img-container\">\n",
              "<img alt=\"Photo of Haiquan (Victor) Chen\" class=\"img-fluid\" src=\"_internal/photos/chen-sm.jpg\"/>\n",
              "</div>\n",
              "<div class=\"info-container\">\n",
              "<ul class=\"contact-block\">\n",
              "<li class=\"location\"><span>Location:</span> RVR 5018</li>\n",
              "<li class=\"phone\"><span>Phone:</span> (916) 278-6087</li>\n",
              "<li class=\"email\"><a href=\"mailto:chenh@ecs.csus.edu\">chenh@ecs.csus.edu</a></li>\n",
              "<li class=\"website\"><a aria-describedby=\"full-time-faculty chen-victor-full-time-faculty\" href=\"https://athena.ecs.csus.edu/~chenh/index.html\">Website</a></li>\n",
              "</ul> </div>\n",
              "</div> </div>\n",
              "<div class=\"member-wrap\">\n",
              "<div class=\"group-member faculty-full-time\">\n",
              "<h3 id=\"faroughi-nikrouz-full-time-faculty\">Nikrouz Faroughi</h3>\n",
              "<p class=\"job-title\">Professor</p>\n",
              "<div class=\"img-container\">\n",
              "<img alt=\"Photo of Nikrouz Faroughi\" class=\"img-fluid\" src=\"_internal/photos/faroughi-sm.jpg\"/>\n",
              "</div>\n",
              "<div class=\"info-container\">\n",
              "<ul class=\"contact-block\">\n",
              "<li class=\"location\"><span>Location:</span> RVR 5004</li>\n",
              "<li class=\"phone\"><span>Phone:</span> (916) 278-6799</li>\n",
              "<li class=\"email\"><a href=\"mailto:faroughi@csus.edu\">faroughi@csus.edu</a></li>\n",
              "<li class=\"website\"><a aria-describedby=\"full-time-faculty faroughi-nikrouz-full-time-faculty\" href=\"https://www.csus.edu/faculty/f/faroughi/\">Website</a></li>\n",
              "</ul> </div>\n",
              "</div> </div>\n",
              "<div class=\"member-wrap\">\n",
              "<div class=\"group-member faculty-full-time\">\n",
              "<h3 id=\"gordon-scott-full-time-faculty\">V. Scott Gordon</h3>\n",
              "<p class=\"job-title\">Professor</p>\n",
              "<div class=\"img-container\">\n",
              "<img alt=\"Photo of V. Scott Gordon\" class=\"img-fluid\" src=\"_internal/photos/gordon-sm.jpg\"/>\n",
              "</div>\n",
              "<div class=\"info-container\">\n",
              "<ul class=\"contact-block\">\n",
              "<li class=\"location\"><span>Location:</span> RVR 5040</li>\n",
              "<li class=\"phone\"><span>Phone:</span> (916) 278-7946</li>\n",
              "<li class=\"email\"><a href=\"mailto:gordonvs@ecs.csus.edu\">gordonvs@ecs.csus.edu</a></li>\n",
              "<li class=\"website\"><a aria-describedby=\"full-time-faculty gordon-scott-full-time-faculty\" href=\"https://athena.ecs.csus.edu/~gordonvs\">Website</a></li>\n",
              "</ul> </div>\n",
              "</div> </div>\n",
              "<div class=\"member-wrap\">\n",
              "<div class=\"group-member faculty-full-time\">\n",
              "<h3 id=\"jin-ying-full-time-faculty\">Ying Jin</h3>\n",
              "<p class=\"job-title\">Professor</p>\n",
              "<div class=\"img-container\">\n",
              "<img alt=\"Photo of Ying Jin\" class=\"img-fluid\" src=\"_internal/photos/jin-sm.jpg\"/>\n",
              "</div>\n",
              "<div class=\"info-container\">\n",
              "<ul class=\"contact-block\">\n",
              "<li class=\"location\"><span>Location:</span> RVR 5038</li>\n",
              "<li class=\"phone\"><span>Phone:</span> (916) 278-6250</li>\n",
              "<li class=\"email\"><a href=\"mailto:jiny@ecs.csus.edu\">jiny@ecs.csus.edu</a></li>\n",
              "<li class=\"website\"><a aria-describedby=\"full-time-faculty jin-ying-full-time-faculty\" href=\"https://www.ecs.csus.edu/csc/people/jin/\">Website</a></li>\n",
              "</ul> </div>\n",
              "</div> </div>\n",
              "<div class=\"member-wrap\">\n",
              "<div class=\"group-member faculty-full-time\">\n",
              "<h3 id=\"krovetz-ted-full-time-faculty\">Ted Krovetz</h3>\n",
              "<p class=\"job-title\">Professor</p>\n",
              "<div class=\"img-container\">\n",
              "<img alt=\"Photo of Ted Krovetz\" class=\"img-fluid\" src=\"_internal/photos/krovetz-sm.jpg\"/>\n",
              "</div>\n",
              "<div class=\"info-container\">\n",
              "<ul class=\"contact-block\">\n",
              "<li class=\"location\"><span>Location:</span> RVR 5012</li>\n",
              "<li class=\"phone\"><span>Phone:</span> (916) 278-6498</li>\n",
              "<li class=\"email\"><a href=\"mailto:krovetz@ecs.csus.edu\">krovetz@ecs.csus.edu</a></li>\n",
              "<li class=\"website\"><a aria-describedby=\"full-time-faculty krovetz-ted-full-time-faculty\" href=\"http://krovetz.net/csus/\">Website</a></li>\n",
              "</ul> </div>\n",
              "</div> </div>\n",
              "<div class=\"member-wrap\">\n",
              "<div class=\"group-member faculty-full-time\">\n",
              "<h3 id=\"kwan-kin-chung-full-time-faculty\">Kin Chung Kwan</h3>\n",
              "<p class=\"job-title\">Assistant Professor</p>\n",
              "<div class=\"img-container\">\n",
              "<img alt=\"Photo of Kin Chung Kwan\" class=\"img-fluid\" src=\"_internal/photos/kin-chung-kwan.jpg\"/>\n",
              "</div>\n",
              "<div class=\"info-container\">\n",
              "<ul class=\"contact-block\">\n",
              "<li class=\"location\"><span>Location:</span> RVR 5016</li>\n",
              "<li class=\"phone\"><span>Phone:</span> (916) 278-7360</li>\n",
              "<li class=\"email\"><a href=\"mailto:kwan@csus.edu\">kwan@csus.edu</a></li>\n",
              "<li class=\"website\"><a aria-describedby=\"full-time-faculty kwan-kin-chung-full-time-faculty\" href=\"https://webpages.csus.edu/kwan/\">Website</a></li>\n",
              "</ul> </div>\n",
              "<ul class=\"sec-info-block\">\n",
              "<li><span class=\"member-about-header\">Specialty &amp; Interests:</span> Computer Graphics &amp; Game Engineering</li>\n",
              "</ul>\n",
              "</div> </div>\n",
              "<div class=\"member-wrap\">\n",
              "<div class=\"group-member faculty-full-time\">\n",
              "<h3 id=\"muyan-ozcelik-pinar-full-time-faculty\">Pinar Muyan-Ozcelik</h3>\n",
              "<p class=\"job-title\">Associate Professor</p>\n",
              "<div class=\"img-container\">\n",
              "<img alt=\"Photo of Pinar Muyan-Ozcelik\" class=\"img-fluid\" src=\"_internal/photos/muyan-ozcelik-sm.jpg\"/>\n",
              "</div>\n",
              "<div class=\"info-container\">\n",
              "<ul class=\"contact-block\">\n",
              "<li class=\"location\"><span>Location:</span> RVR 5008</li>\n",
              "<li class=\"phone\"><span>Phone:</span> (916) 278-5008</li>\n",
              "<li class=\"email\"><a href=\"mailto:pmuyan@ecs.csus.edu\">pmuyan@ecs.csus.edu</a></li>\n",
              "<li class=\"website\"><a aria-describedby=\"full-time-faculty muyan-ozcelik-pinar-full-time-faculty\" href=\"https://www.ecs.csus.edu/wcm/csc/people/muyan-ozcelik/index.html\">Website</a></li>\n",
              "</ul> </div>\n",
              "</div> </div>\n",
              "<div class=\"member-wrap\">\n",
              "<div class=\"group-member faculty-full-time\">\n",
              "<h3 id=\"ouyang-jinsong-full-time-faculty\">Jinsong Ouyang</h3>\n",
              "<p class=\"job-title\">Professor</p>\n",
              "<div class=\"img-container\">\n",
              "<img alt=\"Photo of Jinsong Ouyang\" class=\"img-fluid\" src=\"_internal/photos/ouyang-sm.jpg\"/>\n",
              "</div>\n",
              "<div class=\"info-container\">\n",
              "<ul class=\"contact-block\">\n",
              "<li class=\"location\"><span>Location:</span> RVR 5046</li>\n",
              "<li class=\"phone\"><span>Phone:</span> (916) 278-7096</li>\n",
              "<li class=\"email\"><a href=\"mailto:ouyangj@ecs.csus.edu\">ouyangj@ecs.csus.edu</a></li>\n",
              "<li class=\"website\"><a aria-describedby=\"full-time-faculty ouyang-jinsong-full-time-faculty\" href=\"https://www.csus.edu/faculty/o/jouyang/\">Website</a></li>\n",
              "</ul> </div>\n",
              "<ul class=\"office-hours\">\n",
              "<li><span>Office Hours:</span>\n",
              "                \t\t                                            \t\t                                    \t\t                                        \t\t                                        \t\t                \n",
              "                        \t\t                                        \t\t                                        \t\t                                        \t\t                \n",
              "\n",
              "                        \t\t                \n",
              "                        \t\t                                        \t\t                                        \t\t                                        \t\t                                        \t\t               \n",
              "                        \t\t                \n",
              "                        \t\t                                        \t\t                Wed. 10  - 11:30 a.m.\n",
              "                        \t\t                \n",
              "                        \t\t                                            \t\t                                            \t\t                                                            \t\t                        \t                                <a aria-label=\"Jinsong Ouyang's Wed. 10  to 11:30 a.m. Zoom Link\" class=\"zoom-link\" href=\"https://csus.zoom.us/j/93069282295\" target=\"_blank\">Zoom</a>\n",
              "</li>\n",
              "</ul>\n",
              "</div> </div>\n",
              "<div class=\"member-wrap\">\n",
              "<div class=\"group-member faculty-full-time\">\n",
              "<h3 id=\"phoulady-parham-full-time-faculty\">Hady (Parham) Ahmady Phoulady</h3>\n",
              "<p class=\"job-title\">Assistant Professor</p>\n",
              "<div class=\"img-container\">\n",
              "<img alt=\"Photo of Hady (Parham) Ahmady Phoulady\" class=\"img-fluid\" src=\"_internal/photos/phoulady-sm.jpg\"/>\n",
              "</div>\n",
              "<div class=\"info-container\">\n",
              "<ul class=\"contact-block\">\n",
              "<li class=\"location\"><span>Location:</span> RVR 5003</li>\n",
              "<li class=\"phone\"><span>Phone:</span> (916) 278-5490</li>\n",
              "<li class=\"email\"><a href=\"mailto:phoulady@csus.edu\">phoulady@csus.edu</a></li>\n",
              "</ul> </div>\n",
              "</div> </div>\n",
              "<div class=\"member-wrap\">\n",
              "<div class=\"group-member faculty-full-time\">\n",
              "<h3 id=\"salem-ahmed-full-time-faculty\">Ahmed Salem</h3>\n",
              "<p class=\"job-title\">Professor</p>\n",
              "<div class=\"img-container\">\n",
              "<img alt=\"Photo of Ahmed Salem\" class=\"img-fluid\" src=\"_internal/photos/salem-sm.jpg\"/>\n",
              "</div>\n",
              "<div class=\"info-container\">\n",
              "<ul class=\"contact-block\">\n",
              "<li class=\"location\"><span>Location:</span> RVR 5005</li>\n",
              "<li class=\"phone\"><span>Phone:</span> (916) 278-5005</li>\n",
              "<li class=\"email\"><a href=\"mailto:salema@ecs.csus.edu\">salema@ecs.csus.edu</a></li>\n",
              "<li class=\"website\"><a aria-describedby=\"full-time-faculty salem-ahmed-full-time-faculty\" href=\"https://www.ecs.csus.edu/csc/people/salem/\">Website</a></li>\n",
              "</ul> </div>\n",
              "</div> </div>\n",
              "<div class=\"member-wrap\">\n",
              "<div class=\"group-member faculty-full-time\">\n",
              "<h3 id=\"shobaki-ghassan-full-time-faculty\">Ghassan Shobaki</h3>\n",
              "<p class=\"job-title\">Associate Professor</p>\n",
              "<div class=\"img-container\">\n",
              "<img alt=\"Photo of Ghassan Shobaki\" class=\"img-fluid\" src=\"_internal/photos/shobaki-am.jpg\"/>\n",
              "</div>\n",
              "<div class=\"info-container\">\n",
              "<ul class=\"contact-block\">\n",
              "<li class=\"location\"><span>Location:</span> RVR 5020</li>\n",
              "<li class=\"phone\"><span>Phone:</span> (916) 278-7952</li>\n",
              "<li class=\"email\"><a href=\"mailto:shobaki@ecs.csus.edu\">shobaki@ecs.csus.edu</a></li>\n",
              "<li class=\"website\"><a aria-describedby=\"full-time-faculty shobaki-ghassan-full-time-faculty\" href=\"https://www.csus.edu/faculty/s/ghassan.shobaki\">Website</a></li>\n",
              "</ul> </div>\n",
              "</div> </div>\n",
              "<div class=\"member-wrap\">\n",
              "<div class=\"group-member faculty-full-time\">\n",
              "<h3 id=\"tran-bang-full-time-faculty\">Bang Tran</h3>\n",
              "<p class=\"job-title\">Assistant Professor</p>\n",
              "<div class=\"img-container\">\n",
              "<img alt=\"Photo of Bang Tran\" class=\"img-fluid\" src=\"_internal/photos/tran-bang-sm.jpg\"/>\n",
              "</div>\n",
              "<div class=\"info-container\">\n",
              "<ul class=\"contact-block\">\n",
              "<li class=\"location\"><span>Location:</span> RVR 5042</li>\n",
              "<li class=\"phone\"><span>Phone:</span> (916) 278-6088</li>\n",
              "<li class=\"email\"><a href=\"mailto:s.tran@csus.edu\">s.tran@csus.edu</a></li>\n",
              "<li class=\"website\"><a aria-describedby=\"full-time-faculty tran-bang-full-time-faculty\" href=\"https://webpages.csus.edu/s.tran/\">Website</a></li>\n",
              "</ul> </div>\n",
              "<ul class=\"sec-info-block\">\n",
              "<li><span class=\"member-about-header\">Specialty &amp; Interests:</span> Artificial Intelligence, Machine Learning, &amp; Data Mining</li>\n",
              "</ul>\n",
              "</div> </div>\n",
              "<div class=\"member-wrap\">\n",
              "<div class=\"group-member faculty-full-time\">\n",
              "<h3 id=\"zhang-cui-full-time-faculty\">Cui Zhang</h3>\n",
              "<p class=\"job-title\">Professor</p>\n",
              "<div class=\"img-container\">\n",
              "<img alt=\"Photo of Cui Zhang\" class=\"img-fluid\" src=\"_internal/photos/zhang-sm.jpg\"/>\n",
              "</div>\n",
              "<div class=\"info-container\">\n",
              "<ul class=\"contact-block\">\n",
              "<li class=\"location\"><span>Location:</span> RVR 5052</li>\n",
              "<li class=\"phone\"><span>Phone:</span> (916) 278-7352</li>\n",
              "<li class=\"email\"><a href=\"mailto:zhangc@ecs.csus.edu\">zhangc@ecs.csus.edu</a></li>\n",
              "<li class=\"website\"><a aria-describedby=\"full-time-faculty zhang-cui-full-time-faculty\" href=\"https://www.ecs.csus.edu/csc/people/zhang/\">Website</a></li>\n",
              "</ul> </div>\n",
              "</div> </div>\n",
              "</div> </div>\n",
              "<div class=\"group\">\n",
              "<h2 id=\"part-time-faculty\" title=\"Anchor is: part-time-faculty\">Part-Time Faculty</h2>\n",
              "<div class=\"group-row\">\n",
              "<div class=\"member-wrap\">\n",
              "<div class=\"group-member faculty-part-time\">\n",
              "<h3 id=\"aminee-ajmal-part-time-faculty\">Ajmal Aminee</h3>\n",
              "<p class=\"job-title\">Instructor</p>\n",
              "<div class=\"img-container\">\n",
              "<img alt=\"Place holder image for faculty/staff member.\" class=\"img-fluid\" src=\"https://www.csus.edu/newcsus2019-global-assets/_internal/images/default-member-sq.jpg\"/>\n",
              "</div>\n",
              "<div class=\"info-container\">\n",
              "<ul class=\"contact-block\">\n",
              "<li class=\"location\"><span>Location:</span> RVR 3024</li>\n",
              "<li class=\"email\"><a href=\"mailto:aminee@csus.edu\">aminee@csus.edu</a></li>\n",
              "</ul> </div>\n",
              "<ul class=\"sec-info-block\">\n",
              "<li><span class=\"member-about-header\">Specialty &amp; Interests:</span> Computer Systems, Software Engineering</li>\n",
              "</ul>\n",
              "</div> </div>\n",
              "<div class=\"member-wrap\">\n",
              "<div class=\"group-member faculty-part-time\">\n",
              "<h3 id=\"ataya-ali-part-time-faculty\">Ali Ataya</h3>\n",
              "<p class=\"job-title\">Instructor</p>\n",
              "<div class=\"img-container\">\n",
              "<img alt=\"Place holder image for faculty/staff member.\" class=\"img-fluid\" src=\"https://www.csus.edu/newcsus2019-global-assets/_internal/images/default-member-sq.jpg\"/>\n",
              "</div>\n",
              "<div class=\"info-container\">\n",
              "<ul class=\"contact-block\">\n",
              "<li class=\"location\"><span>Location:</span> RVR 3024</li>\n",
              "<li class=\"email\"><a href=\"mailto:ali.ataya@csus.edu\">ali.ataya@csus.edu</a></li>\n",
              "</ul> </div>\n",
              "<ul class=\"sec-info-block\">\n",
              "<li><span class=\"member-about-header\">Specialty &amp; Interests:</span> Computer Graphics, Computer Networks, Database Management Systems</li>\n",
              "</ul>\n",
              "</div> </div>\n",
              "<div class=\"member-wrap\">\n",
              "<div class=\"group-member faculty-part-time\">\n",
              "<h3 id=\"biel-ruthann-part-time-faculty\">Ruthann Biel</h3>\n",
              "<p class=\"job-title\">Instructor</p>\n",
              "<div class=\"img-container\">\n",
              "<img alt=\"Place holder image for faculty/staff member.\" class=\"img-fluid\" src=\"https://www.csus.edu/newcsus2019-global-assets/_internal/images/default-member-sq.jpg\"/>\n",
              "</div>\n",
              "<div class=\"info-container\">\n",
              "<ul class=\"contact-block\">\n",
              "<li class=\"location\"><span>Location:</span> RVR 5015</li>\n",
              "<li class=\"phone\"><span>Phone:</span> (916) 278-4205</li>\n",
              "<li class=\"email\"><a href=\"mailto:bielr@ecs.csus.edu\">bielr@ecs.csus.edu</a></li>\n",
              "</ul> </div>\n",
              "</div> </div>\n",
              "<div class=\"member-wrap\">\n",
              "<div class=\"group-member faculty-part-time\">\n",
              "<h3 id=\"biring-amarjot-part-time-faculty\">Amarjot Biring</h3>\n",
              "<p class=\"job-title\">Instructor</p>\n",
              "<div class=\"img-container\">\n",
              "<img alt=\"Place holder image for faculty/staff member.\" class=\"img-fluid\" src=\"https://www.csus.edu/newcsus2019-global-assets/_internal/images/default-member-sq.jpg\"/>\n",
              "</div>\n",
              "<div class=\"info-container\">\n",
              "<ul class=\"contact-block\">\n",
              "<li class=\"location\"><span>Location:</span> RVR 3024</li>\n",
              "<li class=\"email\"><a href=\"mailto:amarjot.biring@csus.edu\">amarjot.biring@csus.edu</a></li>\n",
              "</ul> </div>\n",
              "<ul class=\"sec-info-block\">\n",
              "<li><span class=\"member-about-header\">Specialty &amp; Interests:</span> Software Engineering</li>\n",
              "</ul>\n",
              "</div> </div>\n",
              "<div class=\"member-wrap\">\n",
              "<div class=\"group-member faculty-part-time\">\n",
              "<h3 id=\"cantillo-fernando-part-time-faculty\">Fernando Cantillo</h3>\n",
              "<p class=\"job-title\">Instructor</p>\n",
              "<div class=\"img-container\">\n",
              "<img alt=\"Place holder image for faculty/staff member.\" class=\"img-fluid\" src=\"https://www.csus.edu/newcsus2019-global-assets/_internal/images/default-member-sq.jpg\"/>\n",
              "</div>\n",
              "<div class=\"info-container\">\n",
              "<ul class=\"contact-block\">\n",
              "<li class=\"location\"><span>Location:</span> RVR 3024</li>\n",
              "<li class=\"email\"><a href=\"mailto:f.cantillo@csus.edu\">f.cantillo@csus.edu</a></li>\n",
              "</ul> </div>\n",
              "<ul class=\"sec-info-block\">\n",
              "<li><span class=\"member-about-header\">Specialty &amp; Interests:</span> Computer Architecture &amp; Operating Systems</li>\n",
              "</ul>\n",
              "</div> </div>\n",
              "<div class=\"member-wrap\">\n",
              "<div class=\"group-member faculty-part-time\">\n",
              "<h3 id=\"chen-yu-part-time-faculty\">Yu Chen</h3>\n",
              "<p class=\"job-title\">Instructor</p>\n",
              "<div class=\"img-container\">\n",
              "<img alt=\"Place holder image for faculty/staff member.\" class=\"img-fluid\" src=\"https://www.csus.edu/newcsus2019-global-assets/_internal/images/default-member-sq.jpg\"/>\n",
              "</div>\n",
              "<div class=\"info-container\">\n",
              "<ul class=\"contact-block\">\n",
              "<li class=\"location\"><span>Location:</span> RVR 5015</li>\n",
              "<li class=\"email\"><a href=\"mailto:yu.chen@csus.edu\">yu.chen@csus.edu</a></li>\n",
              "</ul> </div>\n",
              "</div> </div>\n",
              "<div class=\"member-wrap\">\n",
              "<div class=\"group-member faculty-part-time\">\n",
              "<h3 id=\"chidella-jagan-part-time-faculty\">Jagan Chidella</h3>\n",
              "<p class=\"job-title\">Instructor</p>\n",
              "<div class=\"img-container\">\n",
              "<img alt=\"Place holder image for faculty/staff member.\" class=\"img-fluid\" src=\"https://www.csus.edu/newcsus2019-global-assets/_internal/images/default-member-sq.jpg\"/>\n",
              "</div>\n",
              "<div class=\"info-container\">\n",
              "<ul class=\"contact-block\">\n",
              "<li class=\"location\"><span>Location:</span> RVR 3024</li>\n",
              "<li class=\"email\"><a href=\"mailto:chidellaj@ecs.csus.edu\">chidellaj@ecs.csus.edu</a></li>\n",
              "</ul> </div>\n",
              "</div> </div>\n",
              "<div class=\"member-wrap\">\n",
              "<div class=\"group-member faculty-part-time\">\n",
              "<h3 id=\"cook-devin-part-time-faculty\">Devin Cook</h3>\n",
              "<p class=\"job-title\">Instructor</p>\n",
              "<div class=\"img-container\">\n",
              "<img alt=\"Place holder image for faculty/staff member.\" class=\"img-fluid\" src=\"https://www.csus.edu/newcsus2019-global-assets/_internal/images/default-member-sq.jpg\"/>\n",
              "</div>\n",
              "<div class=\"info-container\">\n",
              "<ul class=\"contact-block\">\n",
              "<li class=\"location\"><span>Location:</span> RVR 5009</li>\n",
              "<li class=\"email\"><a href=\"mailto:dcook@csus.edu\">dcook@csus.edu</a></li>\n",
              "<li class=\"website\"><a aria-describedby=\"part-time-faculty cook-devin-part-time-faculty\" href=\"http://athena.ecs.csus.edu/~cookd/\">Website</a></li>\n",
              "</ul> </div>\n",
              "</div> </div>\n",
              "<div class=\"member-wrap\">\n",
              "<div class=\"group-member faculty-part-time\">\n",
              "<h3 id=\"faroughi-gita-part-time-faculty\">Gita Faroughi</h3>\n",
              "<p class=\"job-title\">Instructor</p>\n",
              "<div class=\"img-container\">\n",
              "<img alt=\"Place holder image for faculty/staff member.\" class=\"img-fluid\" src=\"https://www.csus.edu/newcsus2019-global-assets/_internal/images/default-member-sq.jpg\"/>\n",
              "</div>\n",
              "<div class=\"info-container\">\n",
              "<ul class=\"contact-block\">\n",
              "<li class=\"location\"><span>Location:</span> RVR 5015</li>\n",
              "<li class=\"email\"><a href=\"mailto:dcook@csus.edu\">dcook@csus.edu</a></li>\n",
              "<li class=\"website\"><a aria-describedby=\"part-time-faculty faroughi-gita-part-time-faculty\" href=\"https://athena.ecs.csus.edu/~faroughg/\">Website</a></li>\n",
              "</ul> </div>\n",
              "</div> </div>\n",
              "<div class=\"member-wrap\">\n",
              "<div class=\"group-member faculty-part-time\">\n",
              "<h3 id=\"hammon-daniel-part-time-faculty\">Daniel Hammon</h3>\n",
              "<p class=\"job-title\">Instructor</p>\n",
              "<div class=\"img-container\">\n",
              "<img alt=\"Place holder image for faculty/staff member.\" class=\"img-fluid\" src=\"https://www.csus.edu/newcsus2019-global-assets/_internal/images/default-member-sq.jpg\"/>\n",
              "</div>\n",
              "<div class=\"info-container\">\n",
              "<ul class=\"contact-block\">\n",
              "<li class=\"location\"><span>Location:</span> RVR 3024</li>\n",
              "<li class=\"email\"><a href=\"mailto:daniel.hammon@csus.edu\">daniel.hammon@csus.edu</a></li>\n",
              "</ul> </div>\n",
              "<ul class=\"sec-info-block\">\n",
              "<li><span class=\"member-about-header\">Specialty &amp; Interests:</span> Computer and Network Security</li>\n",
              "</ul>\n",
              "</div> </div>\n",
              "<div class=\"member-wrap\">\n",
              "<div class=\"group-member faculty-part-time\">\n",
              "<h3 id=\"huang-mikaela-part-time-faculty\">Mikaela Huang</h3>\n",
              "<p class=\"job-title\">Instructor</p>\n",
              "<div class=\"img-container\">\n",
              "<img alt=\"Place holder image for faculty/staff member.\" class=\"img-fluid\" src=\"https://www.csus.edu/newcsus2019-global-assets/_internal/images/default-member-sq.jpg\"/>\n",
              "</div>\n",
              "<div class=\"info-container\">\n",
              "<ul class=\"contact-block\">\n",
              "<li class=\"location\"><span>Location:</span> RVR 3024</li>\n",
              "<li class=\"email\"><a href=\"mailto:meinihuang@csus.edu\">meinihuang@csus.edu</a></li>\n",
              "</ul> </div>\n",
              "<ul class=\"sec-info-block\">\n",
              "<li><span class=\"member-about-header\">Specialty &amp; Interests:</span> Professional Writing in Computer Science</li>\n",
              "</ul>\n",
              "</div> </div>\n",
              "<div class=\"member-wrap\">\n",
              "<div class=\"group-member faculty-part-time\">\n",
              "<h3 id=\"mitchell-bill-part-time-faculty\">Bill Mitchell</h3>\n",
              "<p class=\"job-title\">Professor</p>\n",
              "<div class=\"img-container\">\n",
              "<img alt=\"Place holder image for faculty/staff member.\" class=\"img-fluid\" src=\"https://www.csus.edu/newcsus2019-global-assets/_internal/images/default-member-sq.jpg\"/>\n",
              "</div>\n",
              "<div class=\"info-container\">\n",
              "<ul class=\"contact-block\">\n",
              "<li class=\"location\"><span>Location:</span> RVR 5003</li>\n",
              "<li class=\"email\"><a href=\"mailto:mitchell@ecs.csus.edu\">mitchell@ecs.csus.edu</a></li>\n",
              "</ul> </div>\n",
              "</div> </div>\n",
              "<div class=\"member-wrap\">\n",
              "<div class=\"group-member faculty-part-time\">\n",
              "<h3 id=\"mukarram-abida-part-time-faculty\">Abida Mukarram</h3>\n",
              "<p class=\"job-title\">Instructor</p>\n",
              "<div class=\"img-container\">\n",
              "<img alt=\"Place holder image for faculty/staff member.\" class=\"img-fluid\" src=\"https://www.csus.edu/newcsus2019-global-assets/_internal/images/default-member-sq.jpg\"/>\n",
              "</div>\n",
              "<div class=\"info-container\">\n",
              "<ul class=\"contact-block\">\n",
              "<li class=\"location\"><span>Location:</span> RVR 3024</li>\n",
              "<li class=\"email\"><a href=\"mailto:abida.mukarram@csus.edu\">abida.mukarram@csus.edu</a></li>\n",
              "</ul> </div>\n",
              "</div> </div>\n",
              "<div class=\"member-wrap\">\n",
              "<div class=\"group-member faculty-part-time\">\n",
              "<h3 id=\"pappu-laks-part-time-faculty\">Laks Pappu</h3>\n",
              "<p class=\"job-title\">Instructor</p>\n",
              "<div class=\"img-container\">\n",
              "<img alt=\"Place holder image for faculty/staff member.\" class=\"img-fluid\" src=\"https://www.csus.edu/newcsus2019-global-assets/_internal/images/default-member-sq.jpg\"/>\n",
              "</div>\n",
              "<div class=\"info-container\">\n",
              "<ul class=\"contact-block\">\n",
              "<li class=\"location\"><span>Location:</span> RVR 3024</li>\n",
              "</ul> </div>\n",
              "</div> </div>\n",
              "<div class=\"member-wrap\">\n",
              "<div class=\"group-member faculty-part-time\">\n",
              "<h3 id=\"phillips, Matthew-part-time-faculty\">Matthew Phillips</h3>\n",
              "<p class=\"job-title\">Instructor</p>\n",
              "<div class=\"img-container\">\n",
              "<img alt=\"Place holder image for faculty/staff member.\" class=\"img-fluid\" src=\"https://www.csus.edu/newcsus2019-global-assets/_internal/images/default-member-sq.jpg\"/>\n",
              "</div>\n",
              "<div class=\"info-container\">\n",
              "<ul class=\"contact-block\">\n",
              "<li class=\"location\"><span>Location:</span> RVR 5046</li>\n",
              "<li class=\"email\"><a href=\"mailto:matthew.phillips@csus.edu\">matthew.phillips@csus.edu</a></li>\n",
              "</ul> </div>\n",
              "<ul class=\"sec-info-block\">\n",
              "<li><span class=\"member-about-header\">Specialty &amp; Interests:</span> Game programming and development, Database programming</li>\n",
              "</ul>\n",
              "</div> </div>\n",
              "<div class=\"member-wrap\">\n",
              "<div class=\"group-member faculty-part-time\">\n",
              "<h3 id=\"pierce-michael-part-time-faculty\">Michael Pierce</h3>\n",
              "<p class=\"job-title\">Instructor</p>\n",
              "<div class=\"img-container\">\n",
              "<img alt=\"Place holder image for faculty/staff member.\" class=\"img-fluid\" src=\"https://www.csus.edu/newcsus2019-global-assets/_internal/images/default-member-sq.jpg\"/>\n",
              "</div>\n",
              "<div class=\"info-container\">\n",
              "<ul class=\"contact-block\">\n",
              "<li class=\"location\"><span>Location:</span> RVR 3024</li>\n",
              "<li class=\"email\"><a href=\"mailto:michael.pierce@csus.edu\">michael.pierce@csus.edu</a></li>\n",
              "</ul> </div>\n",
              "<ul class=\"sec-info-block\">\n",
              "<li><span class=\"member-about-header\">Specialty &amp; Interests:</span> Information Security and Assurance</li>\n",
              "</ul>\n",
              "</div> </div>\n",
              "<div class=\"member-wrap\">\n",
              "<div class=\"group-member faculty-part-time\">\n",
              "<h3 id=\"posnett-daryl-part-time-faculty\">Daryl Posnett</h3>\n",
              "<p class=\"job-title\">Instructor</p>\n",
              "<div class=\"img-container\">\n",
              "<img alt=\"Place holder image for faculty/staff member.\" class=\"img-fluid\" src=\"https://www.csus.edu/newcsus2019-global-assets/_internal/images/default-member-sq.jpg\"/>\n",
              "</div>\n",
              "<div class=\"info-container\">\n",
              "<ul class=\"contact-block\">\n",
              "<li class=\"email\"><a href=\"mailto:daryl.posnett@csus.edu\">daryl.posnett@csus.edu</a></li>\n",
              "</ul> </div>\n",
              "</div> </div>\n",
              "<div class=\"member-wrap\">\n",
              "<div class=\"group-member faculty-part-time\">\n",
              "<h3 id=\"siddique-maryam-part-time-faculty\">Maryam Siddique</h3>\n",
              "<p class=\"job-title\">Instructor</p>\n",
              "<div class=\"img-container\">\n",
              "<img alt=\"Place holder image for faculty/staff member.\" class=\"img-fluid\" src=\"https://www.csus.edu/newcsus2019-global-assets/_internal/images/default-member-sq.jpg\"/>\n",
              "</div>\n",
              "<div class=\"info-container\">\n",
              "<ul class=\"contact-block\">\n",
              "<li class=\"location\"><span>Location:</span> RVR 3024</li>\n",
              "<li class=\"email\"><a href=\"mailto:maryamsiddique@csus.edu\">maryamsiddique@csus.edu</a></li>\n",
              "</ul> </div>\n",
              "<ul class=\"sec-info-block\">\n",
              "<li><span class=\"member-about-header\">Specialty &amp; Interests:</span> Discrete Mathematics, Theory of Computation, Computer Networks, Operating Systems</li>\n",
              "</ul>\n",
              "</div> </div>\n",
              "<div class=\"member-wrap\">\n",
              "<div class=\"group-member faculty-part-time\">\n",
              "<h3 id=\"srivatsa-sankara-part-time-faculty\">Sankar Srivatsa</h3>\n",
              "<p class=\"job-title\">Instructor</p>\n",
              "<div class=\"img-container\">\n",
              "<img alt=\"Place holder image for faculty/staff member.\" class=\"img-fluid\" src=\"https://www.csus.edu/newcsus2019-global-assets/_internal/images/default-member-sq.jpg\"/>\n",
              "</div>\n",
              "<div class=\"info-container\">\n",
              "<ul class=\"contact-block\">\n",
              "<li class=\"email\"><a href=\"mailto:srivatsa@csus.edu\">srivatsa@csus.edu</a></li>\n",
              "</ul> </div>\n",
              "</div> </div>\n",
              "<div class=\"member-wrap\">\n",
              "<div class=\"group-member faculty-part-time\">\n",
              "<h3 id=\"swamy-shankar-part-time-faculty\">Shankar Swamy</h3>\n",
              "<p class=\"job-title\">Instructor</p>\n",
              "<div class=\"img-container\">\n",
              "<img alt=\"Place holder image for faculty/staff member.\" class=\"img-fluid\" src=\"https://www.csus.edu/newcsus2019-global-assets/_internal/images/default-member-sq.jpg\"/>\n",
              "</div>\n",
              "<div class=\"info-container\">\n",
              "<ul class=\"contact-block\">\n",
              "<li class=\"location\"><span>Location:</span> RVR 3024</li>\n",
              "<li class=\"email\"><a href=\"mailto:shankar.swamy@csus.edu\">shankar.swamy@csus.edu</a></li>\n",
              "<li class=\"website\"><a aria-describedby=\"part-time-faculty swamy-shankar-part-time-faculty\" href=\"https://www.csus.edu/faculty/s/shankar.swamy/\">Website</a></li>\n",
              "</ul> </div>\n",
              "<ul class=\"sec-info-block\">\n",
              "<li><span class=\"member-about-header\">Specialty &amp; Interests:</span> Visual Computing, AI, Quantum Computing, Architecture, OS, Networking, Linear Algebra &amp; HPC</li>\n",
              "</ul>\n",
              "</div> </div>\n",
              "<div class=\"member-wrap\">\n",
              "<div class=\"group-member faculty-part-time\">\n",
              "<h3 id=\"tajlil-holly-part-time-faculty\">Holly Tajlil</h3>\n",
              "<p class=\"job-title\">Instructor</p>\n",
              "<div class=\"img-container\">\n",
              "<img alt=\"Place holder image for faculty/staff member.\" class=\"img-fluid\" src=\"https://www.csus.edu/newcsus2019-global-assets/_internal/images/default-member-sq.jpg\"/>\n",
              "</div>\n",
              "<div class=\"info-container\">\n",
              "<ul class=\"contact-block\">\n",
              "<li class=\"location\"><span>Location:</span> RVR 5052</li>\n",
              "<li class=\"email\"><a href=\"mailto:holly.tajlil@csus.edu\">holly.tajlil@csus.edu</a></li>\n",
              "</ul> </div>\n",
              "</div> </div>\n",
              "<div class=\"member-wrap\">\n",
              "<div class=\"group-member faculty-part-time\">\n",
              "<h3 id=\"uppala-srilakshmi1-part-time-faculty\">Srilakshmi Uppala</h3>\n",
              "<p class=\"job-title\">Instructor</p>\n",
              "<div class=\"img-container\">\n",
              "<img alt=\"Place holder image for faculty/staff member.\" class=\"img-fluid\" src=\"https://www.csus.edu/newcsus2019-global-assets/_internal/images/default-member-sq.jpg\"/>\n",
              "</div>\n",
              "<div class=\"info-container\">\n",
              "<ul class=\"contact-block\">\n",
              "<li class=\"location\"><span>Location:</span> RVR 3024</li>\n",
              "<li class=\"email\"><a href=\"mailto:uppala@csus.edu\">uppala@csus.edu</a></li>\n",
              "</ul> </div>\n",
              "<ul class=\"sec-info-block\">\n",
              "<li><span class=\"member-about-header\">Specialty &amp; Interests:</span> Computer Systems and Software Engineering</li>\n",
              "</ul>\n",
              "</div> </div>\n",
              "</div> </div>\n",
              "<div class=\"group\">\n",
              "<h2 id=\"emeritus\" title=\"Anchor is: emeritus\">Emeritus</h2>\n",
              "<div class=\"group-row\">\n",
              "<div class=\"member-wrap\">\n",
              "<div class=\"group-member emeritus\">\n",
              "<h3 id=\"buckley-bob-emeritus\">Bob Buckley</h3>\n",
              "<p class=\"job-title\">Lecturer</p>\n",
              "<div class=\"img-container\">\n",
              "<img alt=\"Place holder image for faculty/staff member.\" class=\"img-fluid\" src=\"https://www.csus.edu/newcsus2019-global-assets/_internal/images/default-member-sq.jpg\"/>\n",
              "</div>\n",
              "<div class=\"info-container\">\n",
              "<ul class=\"contact-block\">\n",
              "<li class=\"email\"><a href=\"mailto:buckley@csus.edu\">buckley@csus.edu</a></li>\n",
              "</ul> </div>\n",
              "</div> </div>\n",
              "<div class=\"member-wrap\">\n",
              "<div class=\"group-member emeritus\">\n",
              "<h3 id=\"busovaca-senad-emeritus\">Senad Busovaca</h3>\n",
              "<p class=\"job-title\">Professor</p>\n",
              "<div class=\"img-container\">\n",
              "<img alt=\"Place holder image for faculty/staff member.\" class=\"img-fluid\" src=\"https://www.csus.edu/newcsus2019-global-assets/_internal/images/default-member-sq.jpg\"/>\n",
              "</div>\n",
              "<div class=\"info-container\">\n",
              "<ul class=\"contact-block\">\n",
              "<li class=\"email\"><a href=\"mailto:busovaca@ecs.csus.edu\">busovaca@ecs.csus.edu</a></li>\n",
              "</ul> </div>\n",
              "</div> </div>\n",
              "<div class=\"member-wrap\">\n",
              "<div class=\"group-member emeritus\">\n",
              "<h3 id=\"chang-weide-emeritus\">Weide Chang</h3>\n",
              "<p class=\"job-title\">Associate Professor</p>\n",
              "<div class=\"img-container\">\n",
              "<img alt=\"Place holder image for faculty/staff member.\" class=\"img-fluid\" src=\"https://www.csus.edu/newcsus2019-global-assets/_internal/images/default-member-sq.jpg\"/>\n",
              "</div>\n",
              "</div> </div>\n",
              "<div class=\"member-wrap\">\n",
              "<div class=\"group-member emeritus\">\n",
              "<h3 id=\"clevenger-john-emeritus\">John Clevenger</h3>\n",
              "<p class=\"job-title\">Professor</p>\n",
              "<div class=\"img-container\">\n",
              "<img alt=\"Place holder image for faculty/staff member.\" class=\"img-fluid\" src=\"https://www.csus.edu/newcsus2019-global-assets/_internal/images/default-member-sq.jpg\"/>\n",
              "</div>\n",
              "<div class=\"info-container\">\n",
              "<ul class=\"contact-block\">\n",
              "<li class=\"email\"><a href=\"mailto:clevengr@ecs.csus.edu\">clevengr@ecs.csus.edu</a></li>\n",
              "<li class=\"website\"><a aria-describedby=\"emeritus clevenger-john-emeritus\" href=\"http://athena.ecs.csus.edu/~clevengr/\">Website</a></li>\n",
              "</ul> </div>\n",
              "</div> </div>\n",
              "<div class=\"member-wrap\">\n",
              "<div class=\"group-member emeritus\">\n",
              "<h3 id=\"freund-dwight-emeritus\">Dwight Freund</h3>\n",
              "<p class=\"job-title\">Professor</p>\n",
              "<div class=\"img-container\">\n",
              "<img alt=\"Place holder image for faculty/staff member.\" class=\"img-fluid\" src=\"https://www.csus.edu/newcsus2019-global-assets/_internal/images/default-member-sq.jpg\"/>\n",
              "</div>\n",
              "<div class=\"info-container\">\n",
              "<ul class=\"contact-block\">\n",
              "<li class=\"email\"><a href=\"mailto:freund@ecs.csus.edu\">freund@ecs.csus.edu</a></li>\n",
              "</ul> </div>\n",
              "</div> </div>\n",
              "<div class=\"member-wrap\">\n",
              "<div class=\"group-member faculty-full-time\">\n",
              "<h3 id=\"ghansah-isaac-emeritus\">Isaac Ghansah</h3>\n",
              "<p class=\"job-title\">Professor</p>\n",
              "<div class=\"img-container\">\n",
              "<img alt=\"Photo of Isaac Ghansah\" class=\"img-fluid\" src=\"_internal/photos/ghansah-sm.jpg\"/>\n",
              "</div>\n",
              "<div class=\"info-container\">\n",
              "<ul class=\"contact-block\">\n",
              "<li class=\"email\"><a href=\"mailto:ghansah@ecs.csus.edu\">ghansah@ecs.csus.edu</a></li>\n",
              "</ul> </div>\n",
              "</div> </div>\n",
              "<div class=\"member-wrap\">\n",
              "<div class=\"group-member emeritus\">\n",
              "<h3 id=\"lan-kwai-ting-emeritus\">Kwai-Ting Lan</h3>\n",
              "<p class=\"job-title\">Professor</p>\n",
              "<div class=\"img-container\">\n",
              "<img alt=\"Place holder image for faculty/staff member.\" class=\"img-fluid\" src=\"https://www.csus.edu/newcsus2019-global-assets/_internal/images/default-member-sq.jpg\"/>\n",
              "</div>\n",
              "<div class=\"info-container\">\n",
              "<ul class=\"contact-block\">\n",
              "<li class=\"email\"><a href=\"mailto:lan@ecs.csus.edu\">lan@ecs.csus.edu</a></li>\n",
              "</ul> </div>\n",
              "</div> </div>\n",
              "<div class=\"member-wrap\">\n",
              "<div class=\"group-member emeritus\">\n",
              "<h3 id=\"lee-mary-jane-emeritus\">Mary Jane Lee</h3>\n",
              "<p class=\"job-title\">Professor</p>\n",
              "<div class=\"img-container\">\n",
              "<img alt=\"Place holder image for faculty/staff member.\" class=\"img-fluid\" src=\"https://www.csus.edu/newcsus2019-global-assets/_internal/images/default-member-sq.jpg\"/>\n",
              "</div>\n",
              "<div class=\"info-container\">\n",
              "<ul class=\"contact-block\">\n",
              "<li class=\"email\"><a href=\"mailto:lee@ecs.csus.edu\">lee@ecs.csus.edu</a></li>\n",
              "</ul> </div>\n",
              "</div> </div>\n",
              "<div class=\"member-wrap\">\n",
              "<div class=\"group-member faculty-full-time\">\n",
              "<h3 id=\"lu-meiliu-emeritus\">Meiliu Lu</h3>\n",
              "<p class=\"job-title\">Professor</p>\n",
              "<div class=\"img-container\">\n",
              "<img alt=\"Photo of Meiliu Lu\" class=\"img-fluid\" src=\"_internal/photos/lu-sm.jpg\"/>\n",
              "</div>\n",
              "<div class=\"info-container\">\n",
              "<ul class=\"contact-block\">\n",
              "<li class=\"email\"><a href=\"mailto:mei@ecs.csus.edu\">mei@ecs.csus.edu</a></li>\n",
              "</ul> </div>\n",
              "</div> </div>\n",
              "<div class=\"member-wrap\">\n",
              "<div class=\"group-member emeritus\">\n",
              "<h3 id=\"zhang-du-emeritus\">Du Zhang</h3>\n",
              "<p class=\"job-title\">Professor</p>\n",
              "<div class=\"img-container\">\n",
              "<img alt=\"Place holder image for faculty/staff member.\" class=\"img-fluid\" src=\"https://www.csus.edu/newcsus2019-global-assets/_internal/images/default-member-sq.jpg\"/>\n",
              "</div>\n",
              "<div class=\"info-container\">\n",
              "<ul class=\"contact-block\">\n",
              "<li class=\"email\"><a href=\"mailto:zhangd@ecs.csus.edu\">zhangd@ecs.csus.edu</a></li>\n",
              "</ul> </div>\n",
              "</div> </div>\n",
              "</div> </div> <div style=\"display:none\">Total Members: 53</div>\n",
              "</section>\n",
              "</article>\n",
              "</main>\n",
              "<footer aria-labelledby=\"footer-extras\" class=\"footer vcard\" id=\"csus-global-footer\">\n",
              "<div class=\"container-fluid\">\n",
              "<h2 aria-hidden=\"true\" class=\"d-none\" id=\"footer-extras\">Campus Contact Information</h2>\n",
              "<div class=\"row\">\n",
              "<h3 aria-hidden=\"true\" class=\"d-none\" id=\"campus-social-links\">Campus-Wide Social Media Navigation</h3>\n",
              "<ul aria-labelledby=\"campus-social-links\" class=\"list-inline text-center col-md-4 order-md-2\"><!-- Removed IDs for icons in favor of `a[href=*\"twitter\"]` etc -->\n",
              "<li><a class=\"url uid\" href=\"https://www.facebook.com/sacstate\">Visit Sac State at Facebook</a></li>\n",
              "<li><a class=\"url uid\" href=\"https://www.instagram.com/sacstate\">Visit Sac State at Instagram</a></li>\n",
              "<li><a href=\"https://www.linkedin.com/school/sacstate\">Visit Sac State at LinkedIn</a></li>\n",
              "<li><a class=\"url uid\" href=\"https://twitter.com/sacstate\">Visit Sac State at Twitter</a></li>\n",
              "<li><a class=\"url uid\" href=\"https://www.flickr.com/photos/sacstate\">Visit Sac State at Flickr</a></li>\n",
              "<li><a class=\"url uid\" href=\"https://www.youtube.com/SacStateVideo\">Visit Sac State at Youtube</a></li>\n",
              "<li><a class=\"url uid\" href=\"https://www.tiktok.com/@sacstate\">Visit State State at TikTok</a></li>\n",
              "</ul>\n",
              "<a href=\"https://www.csus.edu\" title=\"Click logo to return to Sac State Home Page\"> <img alt=\"Sac State Logo, white on dark\" src=\"https://irt-cdn.webhost.csus.edu/cascade/csusnew2019/NewCSUS2019-global-assets/_internal/images/whitelogo-stacked.png\"/></a><address class=\"col-md-4 order-md-3 adr text-light\" translate=\"no\" typeof=\"schema:PostalAddress\"><span class=\"organization-name org fn\" property=\"schema:name\">California State University, Sacramento</span><br/> <span class=\"nickname d-none\">Sac State</span> <span class=\"street-address\" property=\"schema:streetAddress\">6000 J Street</span>, <span class=\"locality\" property=\"schema:addressLocality\">Sacramento</span>, <abbr class=\"region\" property=\"schema:addressRegion\" title=\"California\">CA</abbr> <span class=\"postal-code\" property=\"schema:postalCode\">95819</span> <abbr class=\"country-name\" property=\"schema:addressCountry\" title=\"United States\">USA</abbr><br/>Campus Main Phone: <a class=\"phone\" href=\"tel:+19162786011\">(916) 278-6011</a> <span class=\"geo d-none\"> <abbr class=\"latitude\" title=\"48.816667\">N 56° 38.5607423</abbr> <abbr class=\"longitude\" title=\"2.366667\">W 42° -121.4235885</abbr> </span></address></div>\n",
              "</div>\n",
              "<div class=\"container-fluid bottombar\">\n",
              "<h3 aria-hidden=\"true\" class=\"d-none\" id=\"compliance-links\">Compliance Links</h3>\n",
              "<ul aria-labelledby=\"compliance-links\" class=\"offset-md-2\" role=\"menu\">\n",
              "<li role=\"menuitem\"><a class=\"url uid\" href=\"https://www2.calstate.edu/\">California State University</a></li>\n",
              "<li role=\"menuitem\"><a class=\"url uid\" href=\"https://www.csus.edu/compliance/index.html\">Compliance</a></li>\n",
              "<li role=\"menuitem\"><a class=\"url uid\" href=\"https://www.csus.edu/campus-safety/index.html\">Campus Safety </a></li>\n",
              "<li role=\"menuitem\"><a class=\"url uid\" href=\"https://www.csus.edu/information-resources-technology/ati/accessibility-statement.html\">Accessibility Statement</a></li>\n",
              "<li role=\"menuitem\"><a href=\"https://www.csus.edu/information-resources-technology/information-security/privacy-policy.html\">Privacy Statement</a></li>\n",
              "<li role=\"menuitem\"><a class=\"url uid\" href=\"https://www.csus.edu/title-ix/index.html\">Title IX</a></li>\n",
              "<li role=\"menuitem\"><a class=\"url uid\" href=\"https://www.csus.edu/comments/index.html\">Comments</a></li>\n",
              "</ul>\n",
              "</div>\n",
              "</footer>\n",
              "<script crossorigin=\"anonymous\" integrity=\"sha384-geWF76RCwLtnZ8qwWowPQNguL3RmwHVBC9FhGdlKrxdiJJigb/j/68SIy3Te4Bkz\" src=\"https://cdn.jsdelivr.net/npm/bootstrap@5.3.0/dist/js/bootstrap.bundle.min.js\" type=\"text/javascript\"></script>\n",
              "<script src=\"https://www.csus.edu/newcsus2019-global-assets/_internal/js/global-scripts.js\" type=\"text/javascript\"></script>\n",
              "</body>\n",
              "</html>"
            ]
          },
          "execution_count": 8,
          "metadata": {},
          "output_type": "execute_result"
        }
      ],
      "source": [
        "soup"
      ]
    },
    {
      "cell_type": "code",
      "execution_count": 6,
      "metadata": {
        "colab": {
          "base_uri": "https://localhost:8080/"
        },
        "id": "J8IKuG5d_c7L",
        "outputId": "0f38f590-9e7a-4d90-98f9-04d86753cfa5"
      },
      "outputs": [
        {
          "name": "stdout",
          "output_type": "stream",
          "text": [
            "Empty DataFrame\n",
            "Columns: []\n",
            "Index: []\n"
          ]
        }
      ],
      "source": [
        "import openai\n",
        "from bs4 import BeautifulSoup\n",
        "import requests\n",
        "import pandas as pd\n",
        "\n",
        "# Set up your OpenAI API key\n",
        "openai.api_key = 'secrete key'\n",
        "\n",
        "# URL of the webpage to scrape\n",
        "url = 'https://www.csus.edu/college/engineering-computer-science/computer-science/meet-us/'\n",
        "\n",
        "# Fetch the HTML content of the webpage\n",
        "response = requests.get(url)\n",
        "html_content = response.content\n",
        "\n",
        "# Parse the HTML using BeautifulSoup\n",
        "soup = BeautifulSoup(html_content, 'html.parser')\n",
        "\n",
        "# Find professor details: name, specialization, email, location\n",
        "professors = []\n",
        "for professor in soup.find_all('div', class_='faculty'):\n",
        "    name = professor.find('h3', class_='faculty-name').text.strip()\n",
        "    specialization = professor.find('div', class_='faculty-info').find('p').text.strip()\n",
        "    email = professor.find('span', class_='faculty-email')['href'].replace('mailto:', '').strip()\n",
        "    location = professor.find('span', class_='faculty-office').text.strip()\n",
        "    professors.append({'Name': name, 'Specialization': specialization, 'Email': email, 'Location': location})\n",
        "\n",
        "# Convert professor details to a DataFrame\n",
        "professors_df = pd.DataFrame(professors)\n",
        "\n",
        "# Print the DataFrame (table)\n",
        "print(professors_df.head())\n"
      ]
    },
    {
      "cell_type": "code",
      "execution_count": 5,
      "metadata": {
        "colab": {
          "base_uri": "https://localhost:8080/"
        },
        "id": "_eB0tRpmAHCU",
        "outputId": "c3fec45c-10bd-4a31-d5fb-40ae2062903a"
      },
      "outputs": [
        {
          "name": "stdout",
          "output_type": "stream",
          "text": [
            "API key is working!\n"
          ]
        }
      ],
      "source": []
    },
    {
      "cell_type": "code",
      "execution_count": 11,
      "metadata": {
        "colab": {
          "base_uri": "https://localhost:8080/"
        },
        "id": "rFMevo3oF1TR",
        "outputId": "a7f05c31-0b5d-456b-9d2b-285c0b5cdba0"
      },
      "outputs": [
        {
          "name": "stdout",
          "output_type": "stream",
          "text": [
            "                             Name  \\\n",
            "0                  Jinsong Ouyang   \n",
            "1                     Anna Baynes   \n",
            "2           Haiquan (Victor) Chen   \n",
            "3                     Behnam Arad   \n",
            "4                 Syed Badruddoja   \n",
            "5                     Anna Baynes   \n",
            "6           Haiquan (Victor) Chen   \n",
            "7                Nikrouz Faroughi   \n",
            "8                 V. Scott Gordon   \n",
            "9                        Ying Jin   \n",
            "10                    Ted Krovetz   \n",
            "11                 Kin Chung Kwan   \n",
            "12            Pinar Muyan-Ozcelik   \n",
            "13                 Jinsong Ouyang   \n",
            "14  Hady (Parham) Ahmady Phoulady   \n",
            "15                    Ahmed Salem   \n",
            "16                Ghassan Shobaki   \n",
            "17                      Bang Tran   \n",
            "18                      Cui Zhang   \n",
            "19                  Isaac Ghansah   \n",
            "20                      Meiliu Lu   \n",
            "\n",
            "                                       Specialization                  Email  \\\n",
            "0                            Specialization not found   ouyangj@ecs.csus.edu   \n",
            "1                            Specialization not found   abaynes@ecs.csus.edu   \n",
            "2                            Specialization not found     chenh@ecs.csus.edu   \n",
            "3                            Specialization not found          arad@csus.edu   \n",
            "4   Computer Systems, Security, and Artificial Int...    badruddoja@csus.edu   \n",
            "5                            Specialization not found   abaynes@ecs.csus.edu   \n",
            "6                            Specialization not found     chenh@ecs.csus.edu   \n",
            "7                            Specialization not found      faroughi@csus.edu   \n",
            "8                            Specialization not found  gordonvs@ecs.csus.edu   \n",
            "9                            Specialization not found      jiny@ecs.csus.edu   \n",
            "10                           Specialization not found   krovetz@ecs.csus.edu   \n",
            "11               Computer Graphics & Game Engineering          kwan@csus.edu   \n",
            "12                           Specialization not found    pmuyan@ecs.csus.edu   \n",
            "13                           Specialization not found   ouyangj@ecs.csus.edu   \n",
            "14                           Specialization not found      phoulady@csus.edu   \n",
            "15                           Specialization not found    salema@ecs.csus.edu   \n",
            "16                           Specialization not found   shobaki@ecs.csus.edu   \n",
            "17  Artificial Intelligence, Machine Learning, & D...        s.tran@csus.edu   \n",
            "18                           Specialization not found    zhangc@ecs.csus.edu   \n",
            "19                           Specialization not found   ghansah@ecs.csus.edu   \n",
            "20                           Specialization not found       mei@ecs.csus.edu   \n",
            "\n",
            "              Location  \n",
            "0            RVR 3018G  \n",
            "1            RVR 3018H  \n",
            "2     RVR 5018 / 3018I  \n",
            "3             RVR 5044  \n",
            "4             RVR 3006  \n",
            "5             RVR 3004  \n",
            "6             RVR 5018  \n",
            "7             RVR 5004  \n",
            "8             RVR 5040  \n",
            "9             RVR 5038  \n",
            "10            RVR 5012  \n",
            "11            RVR 5016  \n",
            "12            RVR 5008  \n",
            "13            RVR 5046  \n",
            "14            RVR 5003  \n",
            "15            RVR 5005  \n",
            "16            RVR 5020  \n",
            "17            RVR 5042  \n",
            "18            RVR 5052  \n",
            "19  Location not found  \n",
            "20  Location not found  \n"
          ]
        }
      ],
      "source": [
        "import openai\n",
        "from bs4 import BeautifulSoup\n",
        "import requests\n",
        "import pandas as pd\n",
        "\n",
        "# Set up your OpenAI API key\n",
        "openai.api_key = 'secrete key'\n",
        "\n",
        "# URL of the webpage to scrape\n",
        "url = 'https://www.csus.edu/college/engineering-computer-science/computer-science/meet-us/'\n",
        "\n",
        "# Fetch the HTML content of the webpage\n",
        "response = requests.get(url)\n",
        "html_content = response.content\n",
        "\n",
        "# Parse the HTML using BeautifulSoup\n",
        "soup = BeautifulSoup(html_content, 'html.parser')\n",
        "\n",
        "# Find professor details: name, specialization, email, location\n",
        "professors = []\n",
        "for professor in soup.find_all('div', class_='group-member faculty-full-time'):\n",
        "    name_element = professor.find('h3')\n",
        "    name = name_element.text.strip() if name_element else \"Name not found\"\n",
        "\n",
        "    try:\n",
        "        specialization_element = professor.find('ul', class_='sec-info-block').find('li')\n",
        "        specialization_text = specialization_element.text.strip()\n",
        "        specialization = specialization_text.split(':')[1].strip() if specialization_text else \"Specialization not found\"\n",
        "    except AttributeError:\n",
        "        specialization = \"Specialization not found\"\n",
        "\n",
        "    email_element = professor.find('li', class_='email')\n",
        "    email = email_element.find('a')['href'].replace('mailto:', '').strip() if email_element else \"Email not found\"\n",
        "\n",
        "    location_element = professor.find('li', class_='location')\n",
        "    location = location_element.text.strip().split(':')[1].strip() if location_element else \"Location not found\"\n",
        "\n",
        "    professors.append({'Name': name, 'Specialization': specialization, 'Email': email, 'Location': location})\n",
        "\n",
        "# Convert professor details to a DataFrame\n",
        "professors_df = pd.DataFrame(professors)\n",
        "\n",
        "# Print the DataFrame (table)\n",
        "print(professors_df)\n"
      ]
    },
    {
      "cell_type": "code",
      "execution_count": 15,
      "metadata": {
        "colab": {
          "base_uri": "https://localhost:8080/"
        },
        "id": "raqsjOYqGxjf",
        "outputId": "4e4f35c2-c808-48a8-f614-7ff4a995dee2"
      },
      "outputs": [
        {
          "name": "stdout",
          "output_type": "stream",
          "text": [
            "Data saved to Excel file: /content/professors_info.xlsx\n"
          ]
        }
      ],
      "source": [
        "import os\n",
        "\n",
        "# Get the current working directory\n",
        "current_directory = os.getcwd()\n",
        "\n",
        "# Specify the Excel file path in the Downloads directory\n",
        "excel_file_path = os.path.join(current_directory, 'professors_info.xlsx')\n",
        "\n",
        "# Save DataFrame to Excel file\n",
        "professors_df.to_excel(excel_file_path, index=False)\n",
        "\n",
        "print(\"Data saved to Excel file:\", excel_file_path)\n"
      ]
    },
    {
      "cell_type": "code",
      "execution_count": 3,
      "metadata": {
        "colab": {
          "base_uri": "https://localhost:8080/"
        },
        "id": "W5irSpSjIFJP",
        "outputId": "59883c87-107b-48fc-ac0d-8f1a3e2df34b"
      },
      "outputs": [
        {
          "name": "stdout",
          "output_type": "stream",
          "text": [
            "Collecting langchain\n",
            "  Downloading langchain-0.1.16-py3-none-any.whl (817 kB)\n",
            "\u001b[2K     \u001b[90m━━━━━━━━━━━━━━━━━━━━━━━━━━━━━━━━━━━━━━━━\u001b[0m \u001b[32m817.7/817.7 kB\u001b[0m \u001b[31m8.7 MB/s\u001b[0m eta \u001b[36m0:00:00\u001b[0m\n",
            "\u001b[?25hRequirement already satisfied: PyYAML>=5.3 in /usr/local/lib/python3.10/dist-packages (from langchain) (6.0.1)\n",
            "Requirement already satisfied: SQLAlchemy<3,>=1.4 in /usr/local/lib/python3.10/dist-packages (from langchain) (2.0.29)\n",
            "Requirement already satisfied: aiohttp<4.0.0,>=3.8.3 in /usr/local/lib/python3.10/dist-packages (from langchain) (3.9.5)\n",
            "Requirement already satisfied: async-timeout<5.0.0,>=4.0.0 in /usr/local/lib/python3.10/dist-packages (from langchain) (4.0.3)\n",
            "Collecting dataclasses-json<0.7,>=0.5.7 (from langchain)\n",
            "  Downloading dataclasses_json-0.6.4-py3-none-any.whl (28 kB)\n",
            "Collecting jsonpatch<2.0,>=1.33 (from langchain)\n",
            "  Downloading jsonpatch-1.33-py2.py3-none-any.whl (12 kB)\n",
            "Collecting langchain-community<0.1,>=0.0.32 (from langchain)\n",
            "  Downloading langchain_community-0.0.34-py3-none-any.whl (1.9 MB)\n",
            "\u001b[2K     \u001b[90m━━━━━━━━━━━━━━━━━━━━━━━━━━━━━━━━━━━━━━━━\u001b[0m \u001b[32m1.9/1.9 MB\u001b[0m \u001b[31m20.0 MB/s\u001b[0m eta \u001b[36m0:00:00\u001b[0m\n",
            "\u001b[?25hCollecting langchain-core<0.2.0,>=0.1.42 (from langchain)\n",
            "  Downloading langchain_core-0.1.46-py3-none-any.whl (299 kB)\n",
            "\u001b[2K     \u001b[90m━━━━━━━━━━━━━━━━━━━━━━━━━━━━━━━━━━━━━━━━\u001b[0m \u001b[32m299.3/299.3 kB\u001b[0m \u001b[31m15.8 MB/s\u001b[0m eta \u001b[36m0:00:00\u001b[0m\n",
            "\u001b[?25hCollecting langchain-text-splitters<0.1,>=0.0.1 (from langchain)\n",
            "  Downloading langchain_text_splitters-0.0.1-py3-none-any.whl (21 kB)\n",
            "Collecting langsmith<0.2.0,>=0.1.17 (from langchain)\n",
            "  Downloading langsmith-0.1.51-py3-none-any.whl (115 kB)\n",
            "\u001b[2K     \u001b[90m━━━━━━━━━━━━━━━━━━━━━━━━━━━━━━━━━━━━━━━━\u001b[0m \u001b[32m116.0/116.0 kB\u001b[0m \u001b[31m7.4 MB/s\u001b[0m eta \u001b[36m0:00:00\u001b[0m\n",
            "\u001b[?25hRequirement already satisfied: numpy<2,>=1 in /usr/local/lib/python3.10/dist-packages (from langchain) (1.25.2)\n",
            "Requirement already satisfied: pydantic<3,>=1 in /usr/local/lib/python3.10/dist-packages (from langchain) (2.7.0)\n",
            "Requirement already satisfied: requests<3,>=2 in /usr/local/lib/python3.10/dist-packages (from langchain) (2.31.0)\n",
            "Requirement already satisfied: tenacity<9.0.0,>=8.1.0 in /usr/local/lib/python3.10/dist-packages (from langchain) (8.2.3)\n",
            "Requirement already satisfied: aiosignal>=1.1.2 in /usr/local/lib/python3.10/dist-packages (from aiohttp<4.0.0,>=3.8.3->langchain) (1.3.1)\n",
            "Requirement already satisfied: attrs>=17.3.0 in /usr/local/lib/python3.10/dist-packages (from aiohttp<4.0.0,>=3.8.3->langchain) (23.2.0)\n",
            "Requirement already satisfied: frozenlist>=1.1.1 in /usr/local/lib/python3.10/dist-packages (from aiohttp<4.0.0,>=3.8.3->langchain) (1.4.1)\n",
            "Requirement already satisfied: multidict<7.0,>=4.5 in /usr/local/lib/python3.10/dist-packages (from aiohttp<4.0.0,>=3.8.3->langchain) (6.0.5)\n",
            "Requirement already satisfied: yarl<2.0,>=1.0 in /usr/local/lib/python3.10/dist-packages (from aiohttp<4.0.0,>=3.8.3->langchain) (1.9.4)\n",
            "Collecting marshmallow<4.0.0,>=3.18.0 (from dataclasses-json<0.7,>=0.5.7->langchain)\n",
            "  Downloading marshmallow-3.21.1-py3-none-any.whl (49 kB)\n",
            "\u001b[2K     \u001b[90m━━━━━━━━━━━━━━━━━━━━━━━━━━━━━━━━━━━━━━━━\u001b[0m \u001b[32m49.4/49.4 kB\u001b[0m \u001b[31m4.6 MB/s\u001b[0m eta \u001b[36m0:00:00\u001b[0m\n",
            "\u001b[?25hCollecting typing-inspect<1,>=0.4.0 (from dataclasses-json<0.7,>=0.5.7->langchain)\n",
            "  Downloading typing_inspect-0.9.0-py3-none-any.whl (8.8 kB)\n",
            "Collecting jsonpointer>=1.9 (from jsonpatch<2.0,>=1.33->langchain)\n",
            "  Downloading jsonpointer-2.4-py2.py3-none-any.whl (7.8 kB)\n",
            "Collecting packaging<24.0,>=23.2 (from langchain-core<0.2.0,>=0.1.42->langchain)\n",
            "  Downloading packaging-23.2-py3-none-any.whl (53 kB)\n",
            "\u001b[2K     \u001b[90m━━━━━━━━━━━━━━━━━━━━━━━━━━━━━━━━━━━━━━━━\u001b[0m \u001b[32m53.0/53.0 kB\u001b[0m \u001b[31m5.7 MB/s\u001b[0m eta \u001b[36m0:00:00\u001b[0m\n",
            "\u001b[?25hCollecting orjson<4.0.0,>=3.9.14 (from langsmith<0.2.0,>=0.1.17->langchain)\n",
            "  Downloading orjson-3.10.1-cp310-cp310-manylinux_2_17_x86_64.manylinux2014_x86_64.whl (141 kB)\n",
            "\u001b[2K     \u001b[90m━━━━━━━━━━━━━━━━━━━━━━━━━━━━━━━━━━━━━━━━\u001b[0m \u001b[32m141.1/141.1 kB\u001b[0m \u001b[31m9.8 MB/s\u001b[0m eta \u001b[36m0:00:00\u001b[0m\n",
            "\u001b[?25hRequirement already satisfied: annotated-types>=0.4.0 in /usr/local/lib/python3.10/dist-packages (from pydantic<3,>=1->langchain) (0.6.0)\n",
            "Requirement already satisfied: pydantic-core==2.18.1 in /usr/local/lib/python3.10/dist-packages (from pydantic<3,>=1->langchain) (2.18.1)\n",
            "Requirement already satisfied: typing-extensions>=4.6.1 in /usr/local/lib/python3.10/dist-packages (from pydantic<3,>=1->langchain) (4.11.0)\n",
            "Requirement already satisfied: charset-normalizer<4,>=2 in /usr/local/lib/python3.10/dist-packages (from requests<3,>=2->langchain) (3.3.2)\n",
            "Requirement already satisfied: idna<4,>=2.5 in /usr/local/lib/python3.10/dist-packages (from requests<3,>=2->langchain) (3.7)\n",
            "Requirement already satisfied: urllib3<3,>=1.21.1 in /usr/local/lib/python3.10/dist-packages (from requests<3,>=2->langchain) (2.0.7)\n",
            "Requirement already satisfied: certifi>=2017.4.17 in /usr/local/lib/python3.10/dist-packages (from requests<3,>=2->langchain) (2024.2.2)\n",
            "Requirement already satisfied: greenlet!=0.4.17 in /usr/local/lib/python3.10/dist-packages (from SQLAlchemy<3,>=1.4->langchain) (3.0.3)\n",
            "Collecting mypy-extensions>=0.3.0 (from typing-inspect<1,>=0.4.0->dataclasses-json<0.7,>=0.5.7->langchain)\n",
            "  Downloading mypy_extensions-1.0.0-py3-none-any.whl (4.7 kB)\n",
            "Installing collected packages: packaging, orjson, mypy-extensions, jsonpointer, typing-inspect, marshmallow, jsonpatch, langsmith, dataclasses-json, langchain-core, langchain-text-splitters, langchain-community, langchain\n",
            "  Attempting uninstall: packaging\n",
            "    Found existing installation: packaging 24.0\n",
            "    Uninstalling packaging-24.0:\n",
            "      Successfully uninstalled packaging-24.0\n",
            "Successfully installed dataclasses-json-0.6.4 jsonpatch-1.33 jsonpointer-2.4 langchain-0.1.16 langchain-community-0.0.34 langchain-core-0.1.46 langchain-text-splitters-0.0.1 langsmith-0.1.51 marshmallow-3.21.1 mypy-extensions-1.0.0 orjson-3.10.1 packaging-23.2 typing-inspect-0.9.0\n",
            "Collecting openai\n",
            "  Downloading openai-1.23.6-py3-none-any.whl (311 kB)\n",
            "\u001b[2K     \u001b[90m━━━━━━━━━━━━━━━━━━━━━━━━━━━━━━━━━━━━━━━━\u001b[0m \u001b[32m311.6/311.6 kB\u001b[0m \u001b[31m5.9 MB/s\u001b[0m eta \u001b[36m0:00:00\u001b[0m\n",
            "\u001b[?25hRequirement already satisfied: anyio<5,>=3.5.0 in /usr/local/lib/python3.10/dist-packages (from openai) (3.7.1)\n",
            "Requirement already satisfied: distro<2,>=1.7.0 in /usr/lib/python3/dist-packages (from openai) (1.7.0)\n",
            "Collecting httpx<1,>=0.23.0 (from openai)\n",
            "  Downloading httpx-0.27.0-py3-none-any.whl (75 kB)\n",
            "\u001b[2K     \u001b[90m━━━━━━━━━━━━━━━━━━━━━━━━━━━━━━━━━━━━━━━━\u001b[0m \u001b[32m75.6/75.6 kB\u001b[0m \u001b[31m9.9 MB/s\u001b[0m eta \u001b[36m0:00:00\u001b[0m\n",
            "\u001b[?25hRequirement already satisfied: pydantic<3,>=1.9.0 in /usr/local/lib/python3.10/dist-packages (from openai) (2.7.0)\n",
            "Requirement already satisfied: sniffio in /usr/local/lib/python3.10/dist-packages (from openai) (1.3.1)\n",
            "Requirement already satisfied: tqdm>4 in /usr/local/lib/python3.10/dist-packages (from openai) (4.66.2)\n",
            "Requirement already satisfied: typing-extensions<5,>=4.7 in /usr/local/lib/python3.10/dist-packages (from openai) (4.11.0)\n",
            "Requirement already satisfied: idna>=2.8 in /usr/local/lib/python3.10/dist-packages (from anyio<5,>=3.5.0->openai) (3.7)\n",
            "Requirement already satisfied: exceptiongroup in /usr/local/lib/python3.10/dist-packages (from anyio<5,>=3.5.0->openai) (1.2.1)\n",
            "Requirement already satisfied: certifi in /usr/local/lib/python3.10/dist-packages (from httpx<1,>=0.23.0->openai) (2024.2.2)\n",
            "Collecting httpcore==1.* (from httpx<1,>=0.23.0->openai)\n",
            "  Downloading httpcore-1.0.5-py3-none-any.whl (77 kB)\n",
            "\u001b[2K     \u001b[90m━━━━━━━━━━━━━━━━━━━━━━━━━━━━━━━━━━━━━━━━\u001b[0m \u001b[32m77.9/77.9 kB\u001b[0m \u001b[31m9.4 MB/s\u001b[0m eta \u001b[36m0:00:00\u001b[0m\n",
            "\u001b[?25hCollecting h11<0.15,>=0.13 (from httpcore==1.*->httpx<1,>=0.23.0->openai)\n",
            "  Downloading h11-0.14.0-py3-none-any.whl (58 kB)\n",
            "\u001b[2K     \u001b[90m━━━━━━━━━━━━━━━━━━━━━━━━━━━━━━━━━━━━━━━━\u001b[0m \u001b[32m58.3/58.3 kB\u001b[0m \u001b[31m8.8 MB/s\u001b[0m eta \u001b[36m0:00:00\u001b[0m\n",
            "\u001b[?25hRequirement already satisfied: annotated-types>=0.4.0 in /usr/local/lib/python3.10/dist-packages (from pydantic<3,>=1.9.0->openai) (0.6.0)\n",
            "Requirement already satisfied: pydantic-core==2.18.1 in /usr/local/lib/python3.10/dist-packages (from pydantic<3,>=1.9.0->openai) (2.18.1)\n",
            "Installing collected packages: h11, httpcore, httpx, openai\n",
            "Successfully installed h11-0.14.0 httpcore-1.0.5 httpx-0.27.0 openai-1.23.6\n",
            "Collecting PyPDF2\n",
            "  Downloading pypdf2-3.0.1-py3-none-any.whl (232 kB)\n",
            "\u001b[2K     \u001b[90m━━━━━━━━━━━━━━━━━━━━━━━━━━━━━━━━━━━━━━━━\u001b[0m \u001b[32m232.6/232.6 kB\u001b[0m \u001b[31m4.3 MB/s\u001b[0m eta \u001b[36m0:00:00\u001b[0m\n",
            "\u001b[?25hInstalling collected packages: PyPDF2\n",
            "Successfully installed PyPDF2-3.0.1\n",
            "Collecting faiss-cpu\n",
            "  Downloading faiss_cpu-1.8.0-cp310-cp310-manylinux_2_17_x86_64.manylinux2014_x86_64.whl (27.0 MB)\n",
            "\u001b[2K     \u001b[90m━━━━━━━━━━━━━━━━━━━━━━━━━━━━━━━━━━━━━━━━\u001b[0m \u001b[32m27.0/27.0 MB\u001b[0m \u001b[31m46.6 MB/s\u001b[0m eta \u001b[36m0:00:00\u001b[0m\n",
            "\u001b[?25hRequirement already satisfied: numpy in /usr/local/lib/python3.10/dist-packages (from faiss-cpu) (1.25.2)\n",
            "Installing collected packages: faiss-cpu\n",
            "Successfully installed faiss-cpu-1.8.0\n",
            "Collecting tiktoken\n",
            "  Downloading tiktoken-0.6.0-cp310-cp310-manylinux_2_17_x86_64.manylinux2014_x86_64.whl (1.8 MB)\n",
            "\u001b[2K     \u001b[90m━━━━━━━━━━━━━━━━━━━━━━━━━━━━━━━━━━━━━━━━\u001b[0m \u001b[32m1.8/1.8 MB\u001b[0m \u001b[31m11.9 MB/s\u001b[0m eta \u001b[36m0:00:00\u001b[0m\n",
            "\u001b[?25hRequirement already satisfied: regex>=2022.1.18 in /usr/local/lib/python3.10/dist-packages (from tiktoken) (2023.12.25)\n",
            "Requirement already satisfied: requests>=2.26.0 in /usr/local/lib/python3.10/dist-packages (from tiktoken) (2.31.0)\n",
            "Requirement already satisfied: charset-normalizer<4,>=2 in /usr/local/lib/python3.10/dist-packages (from requests>=2.26.0->tiktoken) (3.3.2)\n",
            "Requirement already satisfied: idna<4,>=2.5 in /usr/local/lib/python3.10/dist-packages (from requests>=2.26.0->tiktoken) (3.7)\n",
            "Requirement already satisfied: urllib3<3,>=1.21.1 in /usr/local/lib/python3.10/dist-packages (from requests>=2.26.0->tiktoken) (2.0.7)\n",
            "Requirement already satisfied: certifi>=2017.4.17 in /usr/local/lib/python3.10/dist-packages (from requests>=2.26.0->tiktoken) (2024.2.2)\n",
            "Installing collected packages: tiktoken\n",
            "Successfully installed tiktoken-0.6.0\n"
          ]
        }
      ],
      "source": [
        "!pip install langchain\n",
        "!pip install openai\n",
        "!pip install PyPDF2\n",
        "!pip install faiss-cpu\n",
        "!pip install tiktoken"
      ]
    },
    {
      "cell_type": "code",
      "execution_count": 4,
      "metadata": {
        "id": "w4OxVFdaTEia"
      },
      "outputs": [],
      "source": [
        "from PyPDF2 import PdfReader\n",
        "from langchain.embeddings.openai import OpenAIEmbeddings\n",
        "from langchain.text_splitter import CharacterTextSplitter\n",
        "from langchain.vectorstores import FAISS"
      ]
    },
    {
      "cell_type": "code",
      "execution_count": 6,
      "metadata": {
        "colab": {
          "base_uri": "https://localhost:8080/"
        },
        "id": "Gg_TCO6CTaU4",
        "outputId": "4b73e00e-240a-4cb5-f9f0-53acece6abde"
      },
      "outputs": [
        {
          "name": "stdout",
          "output_type": "stream",
          "text": [
            "Number of pages in PDF: 45\n",
            "Number of pages in PDF: 22\n",
            "Excel data:\n",
            "                    Name                                     Specialization  \\\n",
            "0         Jinsong Ouyang                           Specialization not found   \n",
            "1            Anna Baynes                           Specialization not found   \n",
            "2  Haiquan (Victor) Chen                           Specialization not found   \n",
            "3            Behnam Arad                           Specialization not found   \n",
            "4        Syed Badruddoja  Computer Systems, Security, and Artificial Int...   \n",
            "\n",
            "                  Email          Location  \n",
            "0  ouyangj@ecs.csus.edu         RVR 3018G  \n",
            "1  abaynes@ecs.csus.edu         RVR 3018H  \n",
            "2    chenh@ecs.csus.edu  RVR 5018 / 3018I  \n",
            "3         arad@csus.edu          RVR 5044  \n",
            "4   badruddoja@csus.edu          RVR 3006  \n"
          ]
        }
      ],
      "source": [
        "from PyPDF2 import PdfReader\n",
        "import pandas as pd\n",
        "\n",
        "# Read PDF file\n",
        "pdf_path = '/content/cds_2021-2022-final.pdf'\n",
        "pdf_reader = PdfReader(pdf_path)\n",
        "\n",
        "pdf_paths = '/content/Computer Science (CSC) _ Sacramento State.pdf'\n",
        "pdf_readers = PdfReader(pdf_paths)\n",
        "\n",
        "# Read Excel file\n",
        "excel_path = '/content/professors_info.xlsx'\n",
        "excel_df = pd.read_excel(excel_path)\n",
        "\n",
        "# Perform operations with PDF and Excel data as needed\n",
        "# For example:\n",
        "print(\"Number of pages in PDF:\", len(pdf_reader.pages))\n",
        "print(\"Number of pages in PDF:\", len(pdf_readers.pages))\n",
        "print(\"Excel data:\")\n",
        "print(excel_df.head())\n"
      ]
    },
    {
      "cell_type": "code",
      "execution_count": 7,
      "metadata": {
        "id": "1t3MBfY9TqEV"
      },
      "outputs": [],
      "source": [
        "import os\n",
        "\n",
        "# Set your OpenAI API key\n",
        "os.environ[\"OPENAI_API_KEY\"] = \"secrete key\""
      ]
    },
    {
      "cell_type": "code",
      "execution_count": 8,
      "metadata": {
        "id": "um2YEu5aUC_5"
      },
      "outputs": [],
      "source": [
        "from typing_extensions import Concatenate\n",
        "from PyPDF2 import PdfReader\n",
        "# Create an instance of the PDF reader\n",
        "pdfreader = PdfReader(pdf_path)\n",
        "\n",
        "# Read text from the PDF\n",
        "raw_text = ''\n",
        "for i, page in enumerate(pdfreader.pages):\n",
        "    content = page.extract_text()\n",
        "    if content:\n",
        "        raw_text += content\n"
      ]
    },
    {
      "cell_type": "code",
      "execution_count": 9,
      "metadata": {
        "colab": {
          "base_uri": "https://localhost:8080/",
          "height": 178
        },
        "id": "duHkJGtdUGFr",
        "outputId": "4ee9e2d3-a4c5-45c5-87cb-52e418af21d1"
      },
      "outputs": [
        {
          "data": {
            "application/vnd.google.colaboratory.intrinsic+json": {
              "type": "string"
            },
            "text/plain": [
              "'Common Data Set 2021-2022\\nA0 Respondent Information (Not for Publication)\\nName: Erryn Rvers\\nTitle: Research Technician II\\nOffice: Institutional Research, Effectiveness, and Planning\\nMailing Address:\\nCity/State/Zip/Country: Sacramento, CA, 95819\\nPhone:\\nFax:E-mail Address: errynrivers@csus.edu\\nx Yes\\nNo\\nIf yes, please provide the URL of the corresponding Web page:\\nA0A\\nA1 Address Information\\nName of College/University: California State University, Sacramento\\nMailing Address: 6000 J Street\\nCity/State/Zip/Country: Sacramento, CA 95819\\nStreet Address (if different):\\nCity/State/Zip/Country:\\nMain Phone Number: (916)278-6011\\nWWW Home Page Address: https://www.csus.edu\\nAdmissions Phone Number: (916)278-1000\\nAdmissions Toll-Free Phone Number:\\nAdmissions Office Mailing Address: 6000 J Street, Lassen 1102\\nCity/State/Zip/Country: Sacramento, CA 95819\\nAdmissions Fax Number:\\nAdmissions E-mail Address: admissions@csus.edu\\nA2\\nx Public\\nPrivate (nonprofit)ProprietaryA.  General Information\\nAre your responses to the CDS posted for reference on your institution\\'s Web site?\\nWe invite you to indicate if there are items on the CDS for which you cannot use the requested analytic \\nconvention, cannot provide data for the cohort requested, whose methodology is unclear, or about which you have questions or comments in general. This information will not be published but will help the publishers further refine CDS items.\\nIf there is a separate URL for your school’s online application, please specify:\\nhttps://www.calstate.edu/apply/Pages/default.aspx\\nIf you have a mailing address other than the above to which applications should be sent, please provide:\\nCalifornia State University, Sacramento Office of Admissions & Outreach\\nSource of institutional control (Check only one) :\\nCDS-A Page 1Common Data Set 2021-2022\\nA3 Classify your undergraduate institution:\\nx Coeducational college\\nMen\\'s collegeWomen\\'s college\\nA\\n4Academic year calendar:\\nx Semester\\nQuarterTrimester4-1-4ContinuousDiffers by program (describe):\\nOther (describe):\\nA\\n5Degrees offered by your institution:\\nCertificate\\nDiplomaAssociateTransfer AssociateTerminal Associate\\nx Bachelor\\'s\\nPostbachelor\\'s certificate\\nx Master\\'s\\nPost-master\\'s certificate\\nDoctoral degree research/scholarship\\nx Doctoral degree – professional practice\\nDoctoral degree -- other\\nA\\n5Doctoral degree -- otherIf your academic year has changed because of the \\nCOVID-19 pandemic, please indicate as other below.\\nCDS-A Page 2Common Data Set 2021-2022\\nB1\\nMen Women Men Women\\nUnder graduates\\nDegree-seeking, first-time \\nfreshmen 1,389 1,963 53 38\\nOther first-year, degree-seeking 412 560 132 105\\nAll other degree-seeking 7,816 11,044 2,631 2,659\\nTotal de gree-seekin g 9,617 13,567 2,816 2,802\\nAll other undergraduates \\nenrolled in credit courses 15 10 15 39\\nTotal under graduates 9,632 13,577 2,831 2,841\\nGraduate\\nDegree-seeking, first-time 196 505 96 179\\nAll other degree-seeking 256 563 364 493\\nAll other graduates enrolled in \\ncredit courses 21 1 0 3\\nTotal graduate 454 1079 460 675\\nTotal all students 10,086 14,656 3,291 3,516\\nTotal all undergraduates 28,881\\nTotal all graduate 2668GRAND TOTAL ALL STUDENTS 31,549\\nB2B. ENROLLMENT AND PERSISTENC E\\nInstitutional Enrollment - Men and Women \\nFULL-TIME PART-TIME\\nEnrollment by Racial/Ethnic Category. Provide numbers of students for each of the following categories as of the institution\\'s official fall reporting \\ndate or as of October 15, 2021 .\\n•     Note: Report students formerly designated as “first professional” in the graduate cells. For information on \\n      reporting study abroad students please see this link. \\nActual grand total number is 31,572 this differs from \\nenrollment by the race/ethnicity (B2) count because CDS does not include non-binary students\\nProvide numbers of undergraduate students for each of the following categories as of the institution’s official \\nfall reporting date or as of October 15, \\n2021 . \\n•     Report as your institution reports to IPEDS: persons who are Hispanic should be reported only on the \\n      Hispanic line, not under any race, and persons who are non-Hispanic multi-racial should be reported only       under \"Two or more races.\"•     Include international students only in the category \"Nonresident aliens.\" \\n•     Complete the “Total Undergraduates” column only if you cannot provide data for the first two columns.\\nCDS-B Page 3Common Data Set 2021-2022\\nDegree-Seeking\\nFirst-Time\\nFirst YearDegree-Seeking\\nUndergraduates \\n(include first-time \\nfirst-year)Total\\nUndergraduates \\n(both degree- and \\nnon-degree-\\nseeking)\\n112 1,037 1,063\\n1,517 10,533 10,556\\n229 1,830 1,831529 6,792 6,807\\n10 64 64\\n744 5,677 5,686\\n27 257 257\\n216 1,656 1,657\\n66 979 983\\n3,450 28,825 28,904\\nPersistence\\nB3 Number of degrees awarded by your institution from July 1, 2020 , to June 30, 2021 .\\nCertificate/diploma\\nAssociate degreesBachelor\\'s degrees 7,378Postbachelor\\'s certificatesMaster\\'s degrees 799Post-Master\\'s certificates\\nDoctoral degrees – \\nresearch/scholarship\\nDoctoral degrees – professional \\npractice 47\\nDoctoral degrees – other\\nB4-B21: Graduation Rates\\n•     For complete instructions and definitions of data elements, see the IPEDS GRS Forms and Instructions       for the 2021-2022  Survey. https://nces.ed.gov/ipeds/use-the-data/survey-components/9/graduation-rates Asian, non-Hispanic\\nNative Hawaiian or other Pacific Islander, non-\\nHispanic\\nTwo or more races, non-Hispanic\\nRace and/or ethnicity unknownBlack or African American, non-Hispanic\\nAmerican Indian or Alaska Native, non-HispanicHispanic/Latino\\nWhite, non-Hispanic\\nTOTAL\\nThe items in this section correspond to data elements collected by the IPEDS Web-based Data Collection \\nSystem’s Graduation Rate Survey (GRS).Nonresident aliens\\nIn the following section for bachelor’s or equivalent programs, please disaggregate the Fall 2014  and \\nFall 2015  cohorts (formerly CDS B4-B11) into four groups:\\n•     Students who received a Federal Pell Grant*\\n•     Recipients of a subsidized Stafford Loan who did not receive a Pell Grant•     Students who did not receive either a Pell Grant or a subsidized Stafford Loan•     Total (all students, regardless of Pell Grant or subsidized loan status)\\n*Students who received both a Federal Pell Grant and a subsidized Stafford Loan should be reported in the \\n\"Recipients of a Federal Pell Grant\" column.\\nFor each graduation rate grid below, the numbers in the first three columns for Questions A-G should sum to \\nthe cohort total in the fourth column (formerly CDS B4-B11).\\nCDS-B Page 4Common Data Set 2021-2022\\nA\\nInitial 2015  cohort of first-time, full-\\ntime, bachelor\\'s (or equivalent) degree -\\nseeking undergraduate students2247 444 1015 3706\\nBOf the initial 2015  cohort, how many \\ndid not persist and did not graduate for the following reasons: \\n• Deceased\\n• Permanently Disabled• Armed Forces• Foreign Aid Service of the Federal Government• Official church missions• Report Total Allowable Exclusions 40 1 5\\nC Final 2015  cohort, after adjusting for \\nallowable exclusions2243 444 1014 3701\\nD\\nOf the initial 2015  cohort, how many \\ncompleted the program in four years or less (by Aug. 31, 2019 ) 354 105 251 710\\nE Of the initial 2015  cohort, how many \\ncompleted the program in more than four years but in five years or less (after Aug. 31, 2019  and by Aug. 31, \\n2020 ) 640 112 264 1016\\nF\\nOf the initial 2015  cohort, how many \\ncompleted the program in more than five years but in six years or less (after Aug. 31, 2020  and by Aug. 31, 2021 )223 38 72 333\\nGTotal graduating within six years (sum \\nof lines D, E, and F)1217 255 587 2059\\nH\\nSix-year graduation rate for 2015 \\ncohort (G divided by C)54.26% 57.43% 57.89% 55.63%Students who did \\nnot receive either \\na Pell Grant or a \\nsubsidized \\nStafford LoanRecipients of a \\nFederal Pell \\nGrantRecipients of a \\nSubsidized \\nStafford Loan \\nwho did not \\nreceive a Pell \\nGrantTotal \\n(sum of 3 columns \\nto the left)For Bachelor’s or Equivalent Programs\\nPlease provide data for the Fall 2015  cohort if available. If Fall 2015  cohort data are not available, provide \\ndata for the  Fall 2014  cohort.\\nFall 2015  Cohort\\nCDS-B Page 5Common Data Set 2021-2022\\nAInitial 2014  cohort of first-time, full-\\ntime, bachelor\\'s (or equivalent) degree -\\nseeking undergraduate students0\\nBOf the initial 2014 cohort, how many \\ndid not persist and did not graduate for the following reasons: \\n• Deceased\\n• Permanently Disabled• Armed Forces• Foreign Aid Service of the Federal Government• Official church missions• Report Total Allowable Exclusions 0\\nCFinal 2014  cohort, after adjusting for \\nallowable exclusions00 0 0\\nDOf the initial 2014  cohort, how many \\ncompleted the program in four years or less (by Aug. 31, 2018 ) 0\\nEOf the initial 2014  cohort, how many \\ncompleted the program in more than four years but in five years or less (after Aug. 31, 2018  and by Aug. 31, \\n2019 ) 0\\nFOf the initial 2014  cohort, how many \\ncompleted the program in more than five years but in six years or less (after Aug. 31, 2019  and by Aug. 31, 2020 )0\\nGTotal graduating within six years (sum \\nof lines D, E, and F)00 0 0\\nHSix-year graduation rate for 2014 \\ncohort (G divided by C)#DIV/0! #DIV/0! #DIV/0! #DIV/0!Fall 2014  Cohort\\nTotal \\n(sum of 3 columns \\nto the left)Recipients of a \\nFederal Pell \\nGrantRecipients of a \\nSubsidized \\nStafford Loan \\nwho did not \\nreceive a Pell \\nGrantStudents who did \\nnot receive either \\na Pell Grant or a \\nsubsidized \\nStafford Loan\\nCDS-B Page 6Common Data Set 2021-2022\\nFor Two-Year Institutions\\n2018  Cohort 2017  Cohort\\nB12\\nB13\\nB14 00\\nB15\\nB16\\nB17\\nB18\\nB19\\nB20B21\\nB22. Retention Rates\\nB22\\n80.40%For the cohort of all full-time bachelor’s (or equivalent) degree-seeking undergraduate \\nstudents who entered your institution as freshmen in Fall 2020  (or the preceding summer \\nterm), what percentage was enrolled at your institution as of the date your institution calculates its official enrollment in Fall 2021 .Report for the cohort of all full-time, first-time bachelor’s (or equivalent) degree-seeking undergraduate \\nstudents who entered in Fall 2020  (or the preceding summer term). Completers of programs of at least two but less than four years (total):\\nCompleters of programs of at least two but less than four-years within 150 \\npercent of normal time:\\nTotal transfers-out (within three years) to other institutions:\\nTotal transfers to two-year institutions:Completers of programs of less than two years duration (total):\\nCompleters of programs of less than two years within 150 percent of normal \\ntime:\\n•      The initial cohort may be adjusted for students who departed for the following reasons:\\n* Death\\n* Permanent Disability* Service in the armed forces* Foreign aid service of the federal government* Official church missions* No other adjustments to the initial cohort should be made.Please provide data for the 2018  cohort if available. If 2018  cohort data are not available, provide data for the \\n2017  cohort.\\nOf the initial cohort, how many did not persist and did not graduate for the \\nfollowing reasons: \\n• Death\\n• Permanently Disability• Service in the armed forces, • Foreign aid service of the federal government• Official church missions• Report total allowable exclusionsInitial cohort, total of first-time, full-time degree/certificate-seeking students:\\nFinal cohort, after adjusting for allowable exclusions:\\nTotal transfers to four-year institutions:\\nCDS-B Page 7Common Data Set 2021-2022\\nC1-C2: Applications\\n9,361\\n13,263\\n8,646\\n12,567\\n1,389\\n53\\n1,963\\n38\\n22,653\\n21,238\\n3,450\\nC2\\nYes No\\nx\\nTOTAL\\n0\\n00\\nIs your waiting list ranked? Yes No\\nxxTotal first-time, first-year (freshman) women who were admitted\\nDo you have a policy of placing students on a waiting list?\\nIf yes, do you release that information to students?\\nDo you release that information to school counselors?Total first-time, first-year (degree-seeking) who applied\\nStudents who met admission requirements but whose final admission was contingent on space availability\\nWAITING LISTTotal first-time, first-year (degree-seeking) who were admitted\\nTotal first-time, first-year (degree-seeking) who enrolledC. FIRST-TIME, FIRST-YEAR (FRESHMAN) ADMISSION\\nTotal first-time, first-year (freshman) men who applied\\nTotal first-time, first-year (freshman) women who applied\\nTotal first-time, first-year (freshman) men who were admitted\\nTotal full-time, first-time, first-year (freshman) men who enrolled\\nTotal part-time, first-time, first-year (freshman) men who enrolled\\nFreshman wait-listed students Total full-time, first-time, first-year (freshman) women who enrolled\\nTotal part-time, first-time, first-year (freshman) women who enrolled\\nIf yes, please answer the questions below for Fall 2021  admissions:\\nNumber of qualified applicants offered a place on waiting list:\\nNumber accepting a place on the waiting list:Number of wait-listed students admitted:C1 First-time, first-year (freshman) students: Provide the number of degree-seeking, first-time, first-year \\nstudents who applied, were admitted, and enrolled (full- or part-time) in Fall 2021 . \\n•     Include early decision, early action, and students who began studies during summer in this cohort.\\n•     Applicants should include only those students who fulfilled the requirements for consideration for       \\n      admission (i.e., who completed actionable applications) and who have been notified of one of the       following actions: admission, non-admission, placement on waiting list, or application withdrawn (by       applicant or institution). \\n•     Since the total may include students who did not provide gender data, the detail need not sum to the total.\\nTotal numbers \\ninclude non-binary students\\nCDS-C Page 8Common Data Set 2021-2022\\nC3-C5: Admission Requirements\\nC3 High school completion requirement\\nx\\nC4\\nx\\nC5\\nUnits\\nRequiredUnits\\nRecommended\\nTotal academic units 15 16\\nEnglish 4 4Mathematics 3 4Science 2 2    Of these, units that must be     lab22\\nForeign language 2 2\\nSocial studies 1 1History 1 1Academic electives 1 1\\nComputer Science\\nVisual/Performing Arts11\\nOther (specify) 00\\nC6-C7: Basis for Selection\\nC6\\nx\\nother (explain):Require\\nDistribution of high school units required and/or recommended. Specify the distribution of academic high \\nDo you have an open admission policy, under which virtually all secondary school graduates or students with \\nOpen admission policy as described above for most students, but--Recommend\\nNeither require nor recommendHigh school diploma or equivalent is not required\\nselective admission for out-of-state students\\nselective admission to some programsOpen admission policy as described above for all students Does your institution require or recommend a general college-preparatory program for degree-Check the appropriate box to identify your high school completion requirement for degree-seeking entering \\nHigh school diploma is required and GED is accepted\\nHigh school diploma is required and GED is not accepted\\nCDS-C Page 9Common Data Set 2021-2022\\nC7\\nVery Important Important Considered Not Considered\\nAcademic\\nRigor of secondary school recordx\\nClass rank x\\n   Academic GPA x\\nStandardized test scores x\\nApplication Essay x\\nRecommendation(s) x\\nNonacademic\\nInterview x\\nExtracurricular activities x\\nTalent/ability x\\nCharacter/personal qualities x\\nFirst generation x\\nAlumni/ae relation x\\nGeographical residence x\\nState residency x\\nReligious affiliation/commitment x\\nRacial/ethnic status x\\nVolunteer work x\\nWork experience x\\nLevel of applicant’s interest x\\nC8: SAT and ACT Policies\\nEntrance exams \\nYes No\\nx\\nC8A\\nRequire Recommend Require for Some Consider if \\nSubmittedNot \\nUsed\\nSAT or ACT x\\nACT Onl y\\nSAT Only\\nSAT and SAT Sub ject Tests or x\\nSAT Subject TestsRelative importance of each of the following academic and nonacademic factors in your first-time, \\nDoes your institution make use of SAT, ACT, or SAT Subject Test \\nscores in admission  decisions for first-time , first- year, degree-seekin g \\nADMISSIONIf yes, place check marks in the appropriate boxes below to reflect your institution’s policies for use in \\nCDS-C Page 10Common Data Set 2021-2022\\nC8B\\nx\\nC8B\\nx\\nC8C\\nSAT essa y ACT essa y\\nFor admissionxx\\nFor placement xx\\nFor advising\\nIn place of an application essay\\nAs a validity check on the \\napplication process\\nNo college policy as of now\\nNot using essay component xx\\nC8D\\nYes\\nxNo\\nC8E\\n1-Mar\\nC8F\\nC8G\\nx SAT\\nx\\nSAT Subject Tests\\nx AP\\nx CLEP\\nInstitutional ExamState Exam (specify):Please indicate which tests your institution uses for placement (e.g., state tests):In addition, does your institution use applicants\\' test scores for academic advising?\\nACTSAT with Essay component requiredIf your institution will make use of the SAT in admission decisions for first-time, first-year, degree-seeking applicants for \\nFall 2023  please indicate which ONE of the following applies (regardless of whether the Essay score will be used in the \\nadmissions process):If your institution will make use of the ACT in admission decisions for first-time, first-year, degree-seeking applicants for \\nFor the Fall 2021-22 and 2022-23 term, California \\nState University and Sacramento State will temporarily Please indicate how your institution will use the SAT or ACT essay component; check all that apply.ACT with writing required\\nACT with writing recommendedACT with or without writing accepted\\nLatest date by which SAT Subject Test scores must be received for fall-term admissionLatest date by which SAT or ACT scores must be received for fall-term admission\\nIf necessary, use this space to clarify your test \\npolicies (e.g., if tests are recommended for some SAT with or without Essay component acceptedSAT with Essay component recommended\\nCDS-C Page 11Common Data Set 2021-2022\\nC9-C12: Freshman Profile\\nC9\\nPercent Number\\nSubmitting SAT Scores 11.1% 382Submitting ACT Scores 1.3% 46\\nAssessmen\\nt 25th Percentile 75th Percentile\\nSAT Composite 880 1100\\nSAT Evidence-Based Reading and \\nWriting450 540\\nSAT Math 440 550\\nACT Composite 16 23.5\\nACT Math 16 22\\nACT English 15 23.25\\nACT Writing\\nScore RangeSAT Evidence -\\nBased Reading \\nand Writin gSAT Math\\n700-800 1.57% 0.79%\\n600-699 9.42% 12.30%500-599 36.13% 38.48%400-499 43.98% 35.34%300-399 8.90% 12.83%200-299 0.00% 0.26%\\nTotals should = 100% 100.00% 100.00%For each assessment listed below, report the score that represents the 25th percentile (the score that 25 \\npercent of the freshman population scored at or below) and the 75th percentile score (the score that 25 percent scored at or above\\n).\\nPercent of first-time, first-year (freshman) students with scores in each range:Provide information for ALL enrolled, degree-seeking, full-time and part-time, first-time, first-year \\n(freshman) students  enrolled in Fall 2021 , including students who began studies during summer, \\ninternational students/nonresident aliens, and students admitted under special arrangements.\\n•     Include information for ALL enrolled, degree-seeking, first-time, first-year (freshman) students \\n      who submitted test scores.\\n•     Do not include partial test scores (e.g., mathematics scores but not critical reading for a category of \\n•     Do not convert SAT scores to ACT scores and vice versa.\\n•     If a student submitted multiple sets of scores for a single test, report this information according to how \\n•     If you consider the highest scores from either submission, use the highest combination of scores \\n•     If you average the scores, use the average to report the scores.Percent and number of first-time, first-year (freshman) students enrolled in Fall 2021  who submitted \\nnational standardized (SAT/ACT) test scores.\\nCDS-C Page 12Common Data Set 2021-2022\\nScore Range SAT Com posite\\n1400-1600 1.05%\\n1200-1399 9.42%\\n1000-1199 37.43%\\n800-999 42.15%\\n600-799 9.95%\\n400-599 0%\\nTotals should = 100% 100.00%\\nScore Range ACT Composite ACT English ACT Math\\n30-36 0.00% 2.17% 0.00%24-29 26.09% 23.91% 17.39%18-23 30.43% 19.57% 34.78%\\n12-17 41.30% 45.65% 47.83%\\n6-11 2.17% 8.70% 0.00%\\nBelow 6 0.00% 0.00% 0.00%\\nTotals should = 100% 99.99% 100.00% 100.00%\\nC10\\nPercent\\nTop half + \\nbottom half = 100%\\nC11\\nPercent\\n12.22%\\n15.05%18.32%19.37%16.93%15.05%\\n3.03%\\n0.03%\\n0.00%\\n100.00%Percent who had GPA between 3.25 and 3.49\\nPercent who had GPA between 3.00 and 3.24Percent in top tenth of high school graduating class\\nPercent in top quarter of high school graduating class\\nPercent in top half of high school graduating class\\nPercent in bottom half of high school graduating class\\nPercent in bottom quarter of high school graduating class\\nPercentage of all enrolled, degree-seeking, first-time, first-year (freshman) students who had high Assessment\\nPercent of total first-time, first-year (freshmen) students who submitted \\nScore Range\\nTotals should = 100%Percent of all degree-seeking, first-time, first-year (freshman) students who had high school class \\nPercent who had GPA between 2.50 and 2.99\\nPercent who had GPA between 2.0 and 2.49\\nPercent who had GPA below 1.0Percent who had GPA between 1.0 and 1.99Percent who had GPA between 3.75 and 3.99\\nPercent who had GPA between 3.50 and 3.74Percent who had GPA of 4.0\\nCDS-C Page 13Common Data Set 2021-2022\\nC12 3.42\\n98.43%\\nC13-C20: Admission Policies\\nC13 Application Fee\\nYes No\\nx\\n$70\\nYes No\\nx\\nxSame fee\\nFree\\nReduced\\nYes No\\nx\\nC14 Application closing date\\nYes No\\nx\\nDate\\nApplication closing date (fall) 11/30\\nPriority Date10/1-11/30\\nYes No\\nC15 x\\nC16 Notification to applicants of admission decision sent (fill in one only)\\nxOn a rolling basis beginning \\n(date):  x\\nBy (date):  1-MarOther:  Can it be waived for applicants with financial need?\\nIf you have an application fee and an on-line application option, please indicate policy for students \\nCan on-line application fee be waived for \\na\\npplicants with financial need?If your institution has waived its application fee for the Fall 2022  admission cycle please select no.\\nDoes your institution have an application fee?Average high school GPA of all degree-seeking, first-time, first-year \\nPercent of total first-time, first-year (freshman) students who submitted \\nAmount of application fee: \\nDoes your institution have an application closing \\nAre first-time, first-year students accepted for terms other than the \\nCDS-C Page 14Common Data Set 2021-2022\\nC17 Reply policy for admitted applicants (fill in one only)\\nx Must reply by (date): May 2nd\\nNo set dateMust reply by May 1st or within weeks if notified thereafterOther:\\nDeadline for housing deposit (MMD\\nD Jun 21st\\nAmount of housing deposit: $250\\nRefundable if student does not enroll?\\nx Yes, in full\\nYes, in part\\nNo\\nC18 Deferred admission\\nYes No\\nx\\nOne Time Per \\nAcademic Year\\nC19 Early admission of high school students\\nYes No\\nx\\nC20 Common Application: Question removed from CDS. (Initiated during 2006-2007 cycle)\\nC21-C22: Early Decision and Early Action Plans\\nC21 Early Decision\\nYes No\\nx\\nNumber of applicants admitted under early decision planOther early decision plan closing date\\nOther early decision plan notification date\\nPlease provide significant details about your early decision plan:  For the Fall 2021  entering class:\\nNumber of early decision applications received by your institutionDoes your institution offer an early decision plan (an admission plan that \\nIf “yes,” please complete the following: Does your institution allow students to postpone enrollment after \\nIf yes, maximum period of postponement:\\nDoes your institution allow high school students to enroll as full-time, first -\\nFirst or only early decision plan closing date\\nFirst or only early decision plan notification date\\nCDS-C Page 15Common Data Set 2021-2022\\nC22 Early action\\nYes No\\nx\\n12/1\\nYes No\\nxDo you have a nonbinding early action plan whereby students are \\nIf “yes,” please complete the following: \\nIs your early action plan a “restrictive” plan under which you limit Early action closing date\\nEarly action notification date\\nCDS-C Page 16Common Data Set 2021-2022\\nD1-D2: Fall Applicants\\nYes No\\nD1x\\nx\\nD2\\nApplicantsAdmitted \\nApplicantsEnrolled \\nApplicants\\nMen 5,345 4,746 1,696\\nWomen 8,352 7,618 2,656\\nTotal 13,697 12,364 4,352\\nD3-D11: Application for Admission\\nD3\\nx Fall\\nWinter\\nx Spring\\nSummer\\nYes No\\nD4\\nx\\n60 semester units\\nD5\\nRequired of AllRecommended\\nof AllRecommended\\nof SomeRequired of \\nSomeNot Required\\nHigh school transcript x\\nCollege transcript(s) xEssay or personal statementx\\nInterview x\\nStandardized test scores xStatement of good standing from prior institution(s) x\\nD6\\n2D. TRANSFER ADMISSION\\nProvide the number of students who applied, were admitted, and enrolled as degree-seeking transfer \\nstudents in Fall 2021 .\\nIndicate all items required of transfer students to apply for admission:\\nIf a minimum high school grade point average is required of \\ntransfer applicants, specify (on a 4.0 scale):Does your institution enroll transfer students? (If no, please \\nskip to Section E)\\nIf yes, may transfer students earn advanced standing credit \\nby transferring credits earned from course work completed at other colleges/universities?\\nIf yes, what is the minimum number of credits and the \\nunit of measure?  Indicate terms for which transfers may enroll:These Numbers do not include \\nnon-binary students. Non-binary transfer students: 18 applied, 17 admitted, 7 enrolled\\nMust a transfer applicant have a minimum number of \\ncredits completed or else must apply as an entering freshman?\\nCDS-D Page 17Common Data Set 2021-2022\\nD7\\nD8\\nD9\\nD9Priority Date Closing Date Notification Date Reply DateRolling \\nAdmission\\nD9 Fall 10/1 11/30 3/1 5/1\\nD9 Winter\\nD9 Spring 8/1 8/31 9/1 11/8\\nD9 Summer\\nYes No\\nD10x\\nD11\\nD12p\\nspecific GE \\nCourses that \\nNumber Unit Type\\nD1370  semester\\nNumber Unit Type\\nD14no max semester\\nD15\\nN/A\\nD16 30 semester \\nunits\\nD172.00 for CA Residents; 2.40 \\nnon-CA residents\\nDoes an open admission policy, if reported, apply to \\ntransfer students?\\nD12-D17: Transfer Credit Policies\\nMaximum number of credits or courses that may be transferred from a four-year institution:Describe additional requirements for transfer admission, if applicable: \\nDescribe other transfer credit policies:Maximum number of credits or courses that may be \\ntransferred from a two-year institution:\\nMinimum number of credits that transfers must complete at \\nyour institution to earn an associate degree:\\nMinimum number of credits that transfers must complete at \\nyour institution to earn a bachelor’s degree:Report the lowest grade earned for any \\ncourse that may be transferred for credit:  If a minimum college grade point average is required of \\ntransfer applicants, specify (on a 4.0 scale):\\nList application priority, closing, notification, and candidate reply dates for transfer students. If applications \\nare reviewed on a continuous or rolling basis, place a check mark in the “Rolling admission” column.List any other application requirements specific to transfer applicants:\\nIf less than 60 semester units, applicant must meet first time freshmen admission requirements in addition \\nCDS-D Page 18Common Data Set 2021-2022\\nD18-D22: Military Service Transfer Credit Policies\\nD18 Does your institution accept the following military/veteran transfer credits:\\nYes No\\nxxx\\nNumber Unit Type\\nD19\\nNumber Unit Type\\nD20\\nYes No\\nD21\\nD22American Council on Education (ACE)\\n30 semesterMaximum number of credits or courses that may be \\ntransferred based on military education evaluated by the American Council on Education (ACE): 30 semester\\nhttps://www.csus.edu/student-life/records-transcripts/transfer-credit/\\nDescribe other military/veteran transfer credit policies unique to your institution:If yes, please provide the URL where the policy can be located:College Level Examination Program (CLEP)\\nDANTES Subject Standardized Tests (DSST)\\nAre the military/veteran credit transfer policies published on your \\nwebsite?xMaximum number of credits or courses that may be transferred based on Department of Defense supported prior learning assessments (College Level Examination Program (CLEP) or DANTES Subject Standardized Tests (DSST)):\\nCDS-D Page 19Common Data Set 2021-2022\\nE1\\nx Accelerated program\\nx Cooperative education program\\nx Cross-registration\\nx Distance learning\\nx Double major\\nx Dual enrollment\\nx English as a Second Language (ESL)\\nExchange student program (domestic)External degree program\\nx Honors Program\\nx Independent study\\nx Internships\\nLiberal arts/career combination\\nx Student-designed major\\nx Study abroad\\nx Teacher certification program\\nx Weekend college\\nOther (specify):\\nE2 Has been removed from the CDS.\\nE3 Areas in which all or most students are required to complete some course \\nwork \\nprior to graduation:\\nx Arts/fine arts\\nComputer literacy\\nx English (including composition)\\nx Foreign languages\\nx History\\nx Humanities\\nx Mathematics\\nPhilosophy\\nx Sciences (biological or physical)\\nx Social science\\nOther (describe):E. ACADEMIC OFFERINGS AND POLICIE S\\nSpecial study options: Identify those programs available at your institution. Refer to the glossary \\nfor definitions.\\nCDS-E Page 20Common Data Set 2021-2022\\nF1\\nFirst-time, first-\\nyear (freshman) \\nstudents Undergraduates\\n1.3% 0.6%\\n1.9% 2.0%\\n4.0% 3.8%\\n32.5% 9.1%\\n67.5% 90.9%\\n0.2% 20.7%\\n18 22\\n18 23\\nF2\\nx Campus Ministries\\nx Choral groups\\nx Concert bandx Dancex Drama/theaterxx Jazz bandx Literary magazinex Marching bandx Model UNx Music ensemblesx Musical theaterx Opera\\nPep band\\nx Radio stationx Student governmentx Student newspaper\\nStudent-run film society\\nx Symphony orchestra\\nTelevision stationYearbook\\nF3\\nAt Cooperating \\nInstitution \\nArmy ROTC is offered:\\nNaval ROTC is offered:Air Force ROTC is offered:Activities offered. Identify those programs available at your institution. F. STUDENT LIFE\\nPercentages of first-time, first-year (freshman) degree-seeking students and degree-\\nseeking undergraduates enrolled in Fall 2021  who fit the following categories:\\nPercent who are from out of state (exclude \\ninternational/nonresident aliens from the numerator and denominator)\\nPercent of men who join fraternities\\nPercent of women who join sororitiesPercent who live in college-owned, -operated, or -affiliated housin\\ng\\nPercent who live off campus or commutePercent of students age 25 and olderAverage age of full-time studentsAverage age of all students (full- and part-time)\\nInternational Student Organization\\nROTC (program offered in cooperation with Reserve Officers\\' Training Corps)\\nOn CampusName of Cooperating \\nInstitution\\nx\\nx\\nCDS-F Page 21Common Data Set 2021-2022\\nF4\\nx Coed dorms\\nMen\\'s dormsWomen\\'s dorms\\nx\\nxx\\nFraternity/sorority housing\\nx Cooperative housingx Theme housingx Wellness housing\\nx Other housing options Housing: Check all types of college-owned, -operated, or -affiliated housing available for \\nundergraduates at your institution.\\nApartments for married students\\nApartments for single students\\nSpecial housing for disabled \\nSpecial housing for international students\\nCDS-F Page 22Common Data Set 2021-2022\\nG0Please provide the URL of your institution’s net price calculator:\\nG1\\nG1 First-Year Undergraduates\\nPRIVATE INSTITUTIONS\\nTuition:\\nPUBLIC INSTITUTIONS\\nTuition: In-district $5,742 $5,742\\nTuition: In-state (out-of-district): $5,742 $5,742Tuition: Out-of-state: $14,976 $14,976Tuition: Non-resident alien $14,976 $14,976\\nFOR ALL INSTITUTIONS\\nRequired Fees $1,742 $1,742\\nRoom and Board (on-campus): $14,267 $14,267Room Only (on-campus): $8,965 $8,965Board Only (on-campus meal plan): $5,302 $5,302\\nOther:\\nMinimum Maximum\\nG272 1Comprehensive tuition and room and board fee (if your college cannot provide \\nseparate tuition and room and board fees):G. ANNUAL EXPENSE S\\nhttps://www.csus.edu/apply/enrollment-costs-fees/tuition-living-costs/net-price-calculator.html\\nUndergraduate full-time tuition, required fees, room and boardCheck here if your institution\\'s 2022-2023  academic year costs of attendance are not available at this time \\nand provide an approximate date (i.e., month/day) when your institution\\'s final 2022-2023  academic year \\ncosts of attendance will be available:Provide 2022-2023  academic year costs of attendance for the following categories that are applicable \\nto your institution.\\n•     A full academic year refers to the period of time generally extending from September to June; usually \\n      equated to two semesters, two trimesters, three quarters, or the period covered by a four-one-four plan. \\n•     Room and board is defined as double occupancy and 19 meals per week or the maximum meal plan. \\n•     Required fees include only charges that all full-time students must pay that are not included in tuition \\n      (e.g., registration, health, or activity fees.) \\n•     Do not include optional fees (e.g., parking, laboratory use).List the typical tuition, required fees, and room and board for a full-time undergraduate student for the FULL \\n2022-2023  academic year. (30 semester hours or 45 quarter hours for institutions that derive annual tuition \\nby multiplying credit hour cost by number of credits). \\nNumber of credits per term a student can take for the stated \\nfull-time tuition.\\nCDS-G Page 23Common Data Set 2021-2022\\nYes No\\nG3x\\nG4x\\nG5\\nResidentsCommuters\\n(living at home)Commuters\\n(not living at home)\\nBooks and supplies: $1,112 $1,112 $1,112\\nRoom only: $14,960\\nBoard only: $5,302 $5,302\\nRoom and board total* $19,096\\nTransportation: $1,076 $1,610 $1,326\\nOther expenses: $2,564 $2,564 $2,564\\nG6\\nPRIVATE INSTITUTIONS:\\nPUBLIC INSTITUTIONS:\\nIn-district:In-state (out-of-district):Out-of-state:\\nNONRESIDENT ALIENS: $396.00Undergraduate per-credit-hour charges (tuition only): Do tuition and fees vary by year of study (e.g., sophomore, \\njunior, senior)?\\nDo tuition and fees vary by undergraduate instructional \\nprogram?                         \\nIf yes, what percentage of full-time undergraduates pay \\nmore than the tuition and fees reported in G1?\\nProvide the estimated expenses for a typical full-time undergraduate student:\\n* If your college cannot provide separate room and board figures for commuters not living at home\\nCDS-G Page 24Common Data Set 2021-2022\\n1. Non-need institutional grants\\n2. Non-need tuition waivers3. Non-need athletic awards4. Non-need federal grants\\n5. Non-need state grantsH. FINANCIAL AI D\\nPlease refer to the following financial aid definitions when completing Section H.\\nAwarded aid:  The dollar amounts offered to financial aid applicants.\\nFinancial aid applicant:  Any applicant who submits any one of the institutionally required financial aid \\napplications/forms, such as the FAFSA. \\nIndebtedness:  Aggregate dollar amount borrowed through any loan program (federal, state, subsidized, \\nunsubsidized, private, etc.; excluding parent loans) while the student was enrolled at an institution. Student \\nloans co-signed by a parent are assumed to be the responsibility of the student and should  be included.\\nNote: Suggested order of precedence for counting non-need money as need-based:\\n6. Non-need outside grants\\n7. Non-need student loans8. Non-need parent loans9. Non-need work\\nNon-need-based self-help aid:  Loans and jobs from institutional, state, or other sources for which a student \\nneed not demonstrate financial need to qualify.Institutional scholarships and grants:  Endowed scholarships, annual gifts and tuition funded grants for \\nwhich the institution determines the recipient.\\nFinancial need:  As determined by your institution using the federal methodology and/or your institution\\'s own \\nstandards.\\nNeed-based aid:  College-funded or college-administered award from institutional, state, federal, or other \\nsources for which a student must have financial need to qualify. This includes both institutional and non-\\ninstitutional student aid (grants, jobs, and loans).\\nNeed-based scholarship or grant aid:  Scholarships and grants from institutional, state, federal, or other \\nsources for which a student must have financial need to qualify.\\nNeed-based self-help aid: Loans and jobs from institutional, state, federal, or other sources for which a \\nstudent must demonstrate financial need to qualify.\\nNon-need-based scholarship or grant aid: Scholarships and grants, gifts, or merit-based aid from \\ninstitutional, state, federal, or other sources (including unrestricted funds or gifts and endowment income) \\nawarded solely on the basis of academic achievement, merit, or any other non-need-based reason. When reporting questions H1 and H2, non-need-based aid that is used to meet need should be counted as need-based aid. \\nPrivate student loans:  A nonfederal loan made by a lender such as a bank, credit union or private lender \\nused to pay for up to the annual cost of education, less any financial aid received.\\nExternal scholarships and grants:  Scholarships and grants received from outside (private) sources that \\nstudents bring with them (e.g., Kiwanis, National Merit scholarships). The institution may process paperwork to \\nreceive the dollars, but it has no role in determining the recipient or the dollar amount awarded.\\nWork study and employment:  Federal and state work study aid, and any employment packaged by your \\ninstitution in financial aid awards.\\nDO NOT INCLUDE ANY AID RELATED TO THE CARES ACT OR UNIQUE THE COVID-19 PANDEMIC\\nCDS-H Page 25Common Data Set 2021-2022\\nH1\\n2021-2022 \\nestimated2020-2021  Final\\n2022\\nNeed-based\\n(Include non-need -\\nbased aid use to \\nmeet need.)Non-need-based\\n(Exclude non-\\nneed-based aid \\nuse to meet \\nneed.)\\nScholarships/Grants\\n$22,983,770 $0\\n$21,588,949 $0\\n$10,929,831 $526,729\\n$50,338 $1,132,746\\n$55,552,888 $1,659,474\\nSelf-Help\\n$14,571,070 $10,972,494\\n$759,754\\n$0 $0\\n$15,330,824 $10,972,494\\n$0 $14,308,595\\n$138,920 $0\\n$2,051,634 $0Enter total dollar amounts awarded  to enrolled full-time and less than full-time degree-seeking \\nundergraduates  (using the same cohort reported in CDS Question B1, “total degree-seeking” \\nundergraduates)  in the following categories.\\n•     If the data being reported are final figures for the 2020-2021  academic year (see the next item below), \\n      use the 2020-2021  academic year\\'s CDS Question B1 cohort.\\n•     Include aid awarded to international students (i.e., those not qualifying for federal aid). \\n•     Aid that is non-need-based but that was used to meet need should be reported in the need-based aid       column.\\n•     For a suggested order of precedence in assigning categories of aid to cover need, see the entry for “non-\\n      need-based scholarship or grant aid” on the last page of the definitions section.\\n•     Do NOT include any aid related to the CARES Act or unique to the COVID-19 pandemic.Aid Awarded to Enrolled Under graduates\\nFederal\\nState  all states, not only the state in which your institution is located\\nInstitutional:  Endowed scholarships, annual gifts and tuition \\nfunded grants, awarded by the college, excluding athletic aid and \\ntuition waivers (which are reported below).\\nScholarships/grants from external sources  (e.g. Kiwanis, \\nNational Merit) not awarded by the college\\nTotal Scholarships/GrantsIndicate the academic year for which data are reported for items H1, \\nH2, H2A , and H6 below:\\nWhich needs-analysis methodology does your institution use in awarding institutional aid? (Formerly H3)\\nFederal methodology (FM)\\nInstitutional methodology (IM)\\nBoth FM and IM\\nAthletic AwardsStudent loans from all sources (excluding parent loans)\\nFederal Work-StudyState and other (e.g., institutional) work-study/employment (Note: Excludes Federal Work-Study captured above.)\\nTotal Self-Help\\nParent LoansTuition Waivers\\nNote: Reporting is optional. Report tuition waivers in this row if you \\nchoose to report them. Do not report tuition waivers elsewhere.\\nCDS-H Page 26Common Data Set 2021-2022\\nH2\\nFirst-time Full-\\ntime FreshmenFull-time \\nUndergrad \\n(Incl. Fresh)Less Than\\nFull-time\\nUndergrad\\nANumber of degree-seeking undergraduate students \\n(CDS Item B1 if reporting on Fall 2021  cohort) 4098 23876 4274\\nBNumber of students in line a who applied for need-\\nbased financial aid2758 8072 913\\nCNumber of students in line b who were determined to \\nhave financial need2443 7316 853\\nDNumber of students in line c who were awarded any \\nfinancial aid2123 6352 648\\nENumber of students in line d who were awarded any \\nneed-based scholarship or grant aid2092 6308 669\\nFNumber of students in line d who were awarded any \\nneed-based self-help aid2110 6254 618\\nGNumber of students in line d who were awarded any \\nnon-need-based scholarship or grant aid174 412 15\\nHNumber of students in line d whose need was fully met \\n(exclude PLUS loans, unsubsidized loans, and private \\nalternative loans )223 516 31\\nIOn average, the percentage of need that was met of \\nstudents who were awarded any need-based aid. Exclude any aid that was awarded in excess of need as well as any resources that were awarded to replace EFC (PLUS loans, unsubsidized loans, and private \\nalternative loans)53.0% 50.0% 39.0%\\nJThe average financial aid package of those in line d. \\nExclude any resources that were awarded to replace \\nEFC (PLUS loans, unsubsidized loans, and private \\nalternative loans)$   11,787 $   10,349 $   7,436\\nKAverage need-based scholarship and grant award of \\nthose in line  e$   9,403 $   8,261 $   6,081\\nLAverage need-based self-help award (excluding PLUS \\nloans, unsubsidized loans, and private alternative \\nloans ) of those in line f$   4,713 $   4,548 $   4,134\\nMAverage need-based loan (excluding PLUS loans, \\nunsubsidized loans, and private alternative loans ) of \\nthose in line  f who were awarded a need-based loan$   4,707 $   4,508 $   4,139Number of Enrolled Students Awarded Aid: List the number of degree-seeking full-time and less-than-full-\\ntime undergraduates who applied for and were awarded financial aid from any source.\\n•     Aid that is non-need-based but that was used to meet need should be counted as need-\\n      based aid.\\n•     Numbers should reflect the cohort awarded the dollars reported in H1.\\n•     In the chart below, students may be counted in more than one row, and full-time freshmen \\n      should also be counted as full-time undergraduates.\\n•     Do NOT include any aid related to the CARES Act or unique to the COVID-19 pandemic.\\nCDS-H Page 27Common Data Set 2021-2022\\nH2A\\nFirst-time\\nFull-time\\nFreshmenFull-time\\nUndergrad\\n(Incl. Fresh.)Less Than\\nFull-time\\nUndergrad\\nNNumber of students in line a who had no financial need \\nand who were awarded institutional non-need-based \\nscholarship or grant aid (exclude those who were awarded athletic awards and tuition benefits)51 7 0\\nO Average dollar amount of institutional non-need-based \\nscholarship and grant aid awarded to students in line n $   3,100 $   2,126 $  0\\nPNumber of students in line a who were awarded an \\ninstitutional non-need-based athletic scholarship or \\ngrant00 0\\nQ Average dollar amount of institutional non-need-based \\nathletic scholarships and grants awarded to students in \\nline p$  0 $  0 $  0\\nInclude:\\nH4\\n2568•     Only loans made to students who borrowed while enrolled at your institution.\\n•     Co-signed loans.Exclude•     Students who transferred in.•     Money borrowed at other institutions.•     Parent loansNumber of Enrolled Students Awarded Non-need-based Scholarships and Grants: List the number of \\ndegree-seeking full-time and less-than-full-time undergraduates who had no financial need and who were \\nawarded institutional non-need-based scholarship or grant aid.\\n•     Numbers should reflect the cohort awarded the dollars reported in H1.\\n•     In the chart below, students may be counted in more than one row, and full-time freshmen should also be \\n      counted as full-time under\\ngraduates.\\n•     Do NOT include any aid related to the CARES Act or unique to the COVID-19 pandemic.\\nNote: These are the graduates and loan types to include and exclude in order to fill out CDS H4 and \\nH5. \\n•     2021  undergraduate class: all students who started at your institution as first-time students and \\n      received a bachelor\\'s degree between July 1, 2020  and June 30, 2021 .\\n•     Students who did not graduate or who graduated with another degree or certificate (but no \\n      bachelor’s degree).•     Any aid related to the CARE Act or unique the COVID-19 pandemic.\\nProvide the number of students in the 2021  undergraduate class who started at your \\ninstitution as first-time students and received a bachelor\\'s degree between July 1, 2020  and June 30, 2021 . Exclude students who transferred into your institution.\\nCDS-H Page 28Common Data Set 2021-2022\\nAAny loan program: Federal Perkins, Federal Stafford \\nSubsidized and Unsubsidized, institutional, state, private loans that your institution is aware of, etc. Include both Federal Direct Student Loans and Federal Family Education Loans.1,187 46.00% $18,245\\nBFederal loan programs: Federal Perkins, Federal \\nStafford Subsidized and Unsubsidized. Include both Federal Direct Student Loans and Federal Family Education Loans.1,173 46.00% $17,523\\nC Institutional loan programs. 0\\nD State loan programs. 0\\nE Private student loans made by a bank or lender. 69 3.00% $15,972\\nH6\\nx•    The numbers, percentages, and averages for each row should be based only on the loan source specified for the \\nparticular row. For example, the federal loans average (row b) should only be the cumulative average of federal loans and the private loans average (row e) should only be the cumulative average of private loans. \\nSource/Type of LoanNumber in the \\nclass (defined \\nin H4 above) \\nwho borrowed from the types \\nof loans \\nspecified in the \\nfirst columnPercent of the \\nclass (defined \\nabove) who \\nborrowed from \\nthe types of \\nloans specified \\nin the first \\ncolumn (nearest \\n1%)Average per-\\nundergraduate-\\nborrower \\ncumulative \\nprincipal \\nborrowed from \\nthe types of \\nloans specified \\nin the first \\ncolumn (nearest \\n$1)H5. Number and percent of students in class (defined in H4 above) borrowing from federal, non-federal, and \\nany loan sources, and the average (or mean) amount borrowed.\\n•     The “Average per-undergraduate-borrower cumulative principal borrowed,” is designed to provide better \\n      information about student borrowing from federal and nonfederal (institutional, state, commercial) sources. \\nAid to Undergraduate Degree-seeking Nonresident Aliens\\n•     Report numbers and dollar amounts for the same academic year checked in item H1\\nIndicate your institution’s policy regarding institutional scholarship and grant aid for undergraduate degree-\\nseeking nonresident aliens:\\nInstitutional need-based scholarship or grant aid is available\\nInstitutional non-need-based scholarship or grant aid is availableInstitutional scholarship or grant aid is not available\\nCDS-H Page 29Common Data Set 2021-2022\\nH7\\nProcess for First-Year/Freshman Students\\nH8\\nx\\nx\\nH9\\nPriority date for filing required financial aid forms: 2-Mar\\nDeadline for filing required financial aid forms: 1-May\\nx\\nH10\\na) Students notified on or about (date): \\nb) Students notified on a rolling basis:\\nxYes\\nNo\\nIf yes, starting date:\\n3-AprIf institutional financial aid is available for undergraduate degree-seeking nonresident \\naliens, provide the number of undergraduate degree-seeking nonresident aliens who were awarded need-based or non-need-based aid:\\nAverage dollar amount of institutional financial aid awarded to undergraduate degree-\\nseeking nonresident aliens:\\nTotal dollar amount of institutional financial aid awarded to undergraduate degree-seeking \\nnonresident aliens:\\nCheck off all financial aid forms nonresident alien first-year financial aid applicants must submit:\\nInstitution’s own financial aid form\\nCSS/Financial Aid PROFILE\\nInstitution\\'s own financial aid form\\nCSS/Financial Aid PROFILEState aid formNoncustodial PROFILEBusiness/Farm SupplementOther (specify):International Student’s Financial Aid Application\\nInternational Student’s Certification of FinancesOther (specify):\\nCheck off all financial aid forms domestic first-year (freshman) financial aid applicants must submit:\\nFAFSA\\nSatisfactory Academic Progress Notification\\nIndicate filing dates for first-year (freshman) students:\\nNo deadline for filing required forms \\n(applications processed on a rolling basis)\\nIndicate notification dates for first-year (freshman) students (answer a or b):\\nCDS-H Page 30Common Data Set 2021-2022\\nH11\\n4.00\\nTypes of Aid Available\\nPlease check off all types of aid available to undergraduates at your institution:\\nH12\\nx\\nxxxx\\nx\\nH13\\nx\\nxxxx\\nx\\nH14\\nNon-Need Based Need-Based\\nxx\\nxxxxxx\\nxx\\nxxxx\\nxxStudents must reply by (date): \\nor within _______ weeks of notification.\\nLoans\\nDirect Subsidized Stafford Loans\\nDirect Unsubsidized Stafford LoansIndicate reply dates:\\nNeed Based Scholarships and Grants\\nFederal Pell\\nSEOGState scholarships/grantsDirect PLUS Loans\\nFederal Perkins LoansFederal Nursing LoansState LoansCollege/university loans from institutional fundsOther (specify):\\nCheck off criteria used in awarding institutional aid. Check all that apply.\\nAcademics\\nAlumni affiliationArtAthleticsPrivate scholarships\\nCollege/university scholarship or grant aid from institutional fundsUnited Negro College FundFederal Nursing ScholarshipOther (specify):\\nTEACH grant\\nState/district residencyJob skills\\nROTCLeadershipMinority statusMusic/dramaReligious affiliation\\nCDS-H Page 31Common Data Set 2021-2022\\nH15\\nYes\\nNoIf your institution has recently implemented any major financial aid policy, program, or \\ninitiative to make your institution more affordable to incoming students such as replacing loans with grants, or waiving costs for families below a certain income level please provide details below:\\nAre these policies related to the COVID-19 pandemic?\\nCDS-H Page 32Common Data Set 2021-2022\\nI-1.\\nFull-time Part-time\\nA ExcludeInclude only if \\nthey teach one \\nor more non-clinical credit \\ncourses\\nB ExcludeInclude if they \\nteach one or \\nmore non-\\nclinical credit \\ncourses\\nC Exclude Include\\nD Exclude Exclude\\nE Include Exclude\\nF Exclude Exclude\\nG Exclude Include\\nPart-time instructional faculty:  Adjuncts and other instructors being paid solely for part-time classroom instruction. \\nAlso includes full-time faculty teaching less than two semesters, three quarters, two trimesters, or two four-month \\nsessions. Employees who are not considered full-time instruction faculty but who teach one or more non-clinical credit courses may be counted as part-time faculty.I. INSTRUCTIONAL FACULTY AND CLASS SIZ E\\nPlease report the number of instructional faculty members in each category for Fall 2021 . Include \\nfaculty who are on your institution’s payroll on the census date your institution uses for IPEDS/AAUP.\\nThe following definition of full-time instructional faculty is used by the American Association of University Professors \\n(AAUP) in its annual Faculty Compensation Survey (the part time definitions are not used by AAUP). Instructional Faculty is defined as those members of the instructional-research staff whose major regular assignment is instruction, including those with released time for research. Use the chart below to determine inclusions and exclusions:\\nInstructional faculty in preclinical and clinical medicine, faculty who are not paid (e.g., \\nthose who donate their services or are in the military), or research-only faculty, post-doctoral fellows, or pre-doctoral fellows\\nAdministrative officers with titles such as dean of students, librarian, registrar, coach, \\nand the like, even though they may devote part of their time to classroom instruction and may have faculty status\\nOther administrators/staff who teach one or more non-clinical credit courses even \\nthough they do not have faculty status\\nUndergraduate or graduate students who assist in the instruction of courses, but have \\ntitles such as teaching assistant, teaching fellow, and the like\\nFaculty on sabbatical or leave with pay\\nFaculty on leave without payReplacement faculty for faculty on sabbatical leave or leave with pay\\nFull-time instructional faculty:  faculty employed on a full-time basis for instruction (including those with released \\ntime for research)\\nMinority faculty:  includes faculty who designate themselves as Black, non-Hispanic; American Indian or Alaska \\nNative; Asian, Native Hawaiian or other Pacific Islander, or Hispanic. \\nDoctorate: includes such degrees as Doctor of Philosophy, Doctor of Education, Doctor of Juridical Science, and \\nDoctor of Public Health in any field such as arts, sciences, education, engineering, business, and public \\nadministration. Also includes terminal degrees formerly designated as “first professional,” including dentistry (DDS or DMD), medicine (MD), optometry (OD), osteopathic medicine (DO), pharmacy (DPharm or BPharm), podiatric medicine (DPM), veterinary medicine (DVM), chiropractic (DC or DCM), or law (JD).  \\nTerminal master’s degree: a master’s degree that is considered the highest degree in a field: example, M. Arch (in \\narchitecture) and MFA (master of fine arts in art or theater).\\nCDS-I Page 33Common Data Set 2021-2022\\nI-1. Full-Time Part-Time Total\\nA 826 969 1795\\nB 111 143 254\\nC 432 491 923\\nD 394 478 872\\nE 26 4 30\\nF 655 342 997\\nG 151 496 647\\nH 20 105 125\\nI 46 1 0\\nJ000\\nI-2.\\n22 to 1 (based on 25099 students\\nand 1149 faculty).\\nI-3. Total number whose highest degree is a bachelor’sTotal number of instructional faculty\\nTotal number who are members of minority groupsTotal number who are womenTotal number who are menTotal number who are nonresident aliens (international)\\nTotal number with doctorate, or other terminal de\\ngree\\nTotal number whose highest degree is a master’s but not a terminal \\nmaster’s\\nUsing the above definitions, please report for each of the following class-size intervals the number of class \\nsections  and class subsections  offered in Fall 2021 . For example, a lecture class with 800 students who \\nmet at another time in 40 separate labs with 20 students should be counted once in the “100+” column in \\nthe class section column and 40 times under the “20-29” column of the class subsections table. Total number whose highest degree is unknown or other (Note: \\nItems f, g, h, and i must sum up to item a.)\\nTotal number in stand-alone graduate/professional programs in \\nwhich faculty teach virtually only graduate-level students\\nStudent to Faculty Ratio\\nReport the Fall 2021  ratio of full-time equivalent students (full-time plus 1/3 part time) to full-time equivalent \\ninstructional faculty (full time plus 1/3 part time). In the ratio calculations, exclude both faculty and students in stand-alone graduate or professional programs such as medicine, law, veterinary, dentistry, social work, business, or public health in which faculty teach virtually only graduate level students.\\n• Do not count undergraduate or graduate student teaching assistants as faculty.\\nFall 2021 Student to Faculty ratio\\nUndergraduate Class Size\\nIn the table below, please use the following definitions to report information about the size of classes and \\nclass sections offered in the Fall 2021  term.\\n•     Please include classes that have been moved online in response to the COVID-19 pandemic.\\nClass Sections:  A class section is an organized course offered for credit, identified by discipline and \\nnumber, meeting at a stated time or times in a classroom or similar setting, and not a subsection such as a laboratory or discussion session. Undergraduate class sections are defined as any sections in which at least one degree-seeking undergraduate student is enrolled for credit. Exclude distance learning classes and noncredit classes and individual instruction such as dissertation or thesis research, music instruction, or one-to-one readings. Exclude students in independent study, co-operative programs, internships, foreign language taped tutor sessions, practicums, and all students in one-on-one classes. Each class section should  be counted only once and should not be duplicated because of course catalog cross-listings.\\nClass Subsections:  A class subsection includes any subsection of a course, such as laboratory, \\nrecitation, and discussion subsections that are supplementary in nature and are scheduled to meet separately from the lecture portion of the course. Undergraduate subsections are defined as any subsections of courses in which degree-seeking undergraduate students enrolled for credit. As above, exclude noncredit classes and individual instruction such as dissertation or thesis research, music instruction, or one-to-one readings. Each class subsection should be counted only once and should not be duplicated because of cross-listings.\\nCDS-I Page 34Common Data Set 2021-2022\\n2-9 10-19 20-29 30-39 40-49 50-99 100+ Total\\n173 557 1067 694 461 444 111 3507\\n2-9 10-19 20-29 30-39 40-49 50-99 100+ Total\\n178 414 386 49 6 4 2 1039CLASS SUB-\\nSECTIONSNumber of Class Sections with Undergraduates Enrolled\\nUndergraduate Class Size (provide numbers)\\nCLASS \\nSECTIONS\\nCDS-I Page 35Common Data Set 2021-2022\\nJ1 De grees conferred between Jul y 1, 2020  and June 30, 2021\\nCategoryDiploma/ \\nCertificatesAssociate Bachelor’sCIP 2020 Categories \\nto Include\\nAgriculture 01\\nNatural resources and conservation 0.73% 03Architecture 0.49% 04\\nArea, ethnic, and gender studies 0.77% 05Communication/journalism 7.62% 09Communication technologies 10\\nComputer and information sciences 3.26% 11Personal and culinary services 12\\nEducation 0.82% 13\\nEngineering 7.56% 14\\nEngineering technologies 15\\nForeign languages, literatures, and linguistics 0.46% 16Family and consumer sciences 8.20% 19Law/legal studies 22\\nEnglish 1.73% 23\\nLiberal arts/general studies 2.56% 24Library science 25\\nBiological/life sciences 4.07% 26Mathematics and statistics 0.70% 27Military science and military technologies 28 & 29Interdisciplinary studies 2.25% 30Parks and recreation 5.94% 31Philosophy and religious studies 0.61% 38Theology and religious vocations 39\\nPhysical sciences 0.74% 40Science technologies 41\\nPsychology 6.75% 42\\nHomeland Security, law enforcement, firefighting, \\nand protective services6.65% 43\\nPublic administration and social services 3.28% 44\\nSocial sciences 9.56% 45\\nConstruction trades 46\\nMechanic and repair technologies 47\\nPrecision production 48\\nTransportation and materials moving 49\\nVisual and performing arts 3.10% 50Health professions and related programs 7.81% 51Business/marketing 12.91% 52J. Disciplinary areas of DEGREES CONFERRED\\nFor each of the following discipline areas, provide the percentage of diplomas/certificates, associate, and bachelor’s degrees \\nawarded. To determine the percentage, use majors, not headcount (e.g., students with one degree but a double major will be represented twice). Calculate the percentage from your institution’s IPEDS Completions by using the sum of 1st and 2nd majors for each CIP code as the numerator and the sum of the Grand Total by 1st Majors and the Grand Total by 2nd major as the denominator. If you prefer, you can compute the percentages using 1st majors only.\\nCDS-J Page 36Common Data Set 2021-2022\\nCategoryDiploma/ \\nCertificatesAssociate Bachelor’sCIP 2020 Categories \\nto Include\\nHistory 1.44% 54\\nOther\\nTOTAL (should = 100% ) 0.00% 0.00% 100.00%\\nCDS-J Page 37Common Data Set 2021-2022\\nCommon Data Set Definitions\\n¨        All definitions related to the financial aid section appear at the end of the Definitions document.\\n¨       Items preceded by an asterisk (*) represent definitions agreed to among publishers which do not appear on the CDS\\ndocument but may be present on individual publishers’ surveys. \\n*Academic advisement: Plan under which each student is assigned to a faculty member or a trained adviser, who,\\nthrough regular meetings, helps the student plan and implement immediate and long-term academic and vocational goals.\\nAccelerated program: Completion of a college program of study in fewer than the usual number of years, most often by\\nattending summer sessions and carrying extra courses during the regular academic term .\\nAdmitted student: Applicant who is offered admission to a degree-granting program  at your institution.\\n*Adult student services: Admission assistance, support, orientation, and other services expressly for adults who have\\nstarted college for the first time, or who are re-entering after a lapse of a few years.\\nAmerican Indian or Alaska Native: A person having origins in any of the original peoples of North and South America\\n(including Central America) and maintaining tribal affiliation or community attachment.\\nApplicant (first-time, first year): An individual who has fulfilled the institution’s requirements to be considered for\\nadmission (including payment or waiving of the application fee, if any) and who has been notified of one of the following\\nactions: admission, nonadmission, placement on waiting list, or application withdrawn (by applicant or institution).\\nApplication fee: That amount of money that an institution charges for processing a student’s application for acceptance.\\nThis amount is notcreditable toward tuition and required fees, nor is it refundable if the student is not admitted to the\\ninstitution.\\nAsian: A person having origins in any of the original peoples of the Far East, Southeast Asia, or the Indian subcontinent,\\nincluding, for example, Cambodia, China, India, Japan, Korea, Malaysia, Pakistan, the Philippine Islands, Thailand, and\\nVietnam.\\nAssociate degree: An award that normally requires at least two but less than four years of full-time equivalent college\\nwork.\\nBachelor’s degree: An award (baccalaureate or equivalent degree, as determined by the Secretary of the U.S.\\nDepartment of Education) that normally requires at least four years but notmore than five years of full-time equivalent\\ncollege-level work. This includes ALL bachelor’s degrees conferred in a five-year cooperative (work-study plan) program.\\n(A cooperative plan provides for alternate class attendance and employment in business, industry, or government; thus, itallows students to combine actual work experience with their college studies.) Also, it includes bachelor’s degrees in whichthe normal four years of work are completed in three years.\\nBlack or African American : A person having origins in any of the black racial groups of Africa.\\nBoard (charges): Assume average cost for 19 meals per week or the maximum meal plan.\\nBooks and supplies (costs): Average cost of books and supplies. Do not include unusual costs for special groups of\\nstudents (e.g., engineering or art majors), unless they constitute the majority of students at your institution.\\nCalendar system: The method by which an institution structures most of its courses for the academic year.\\nCampus Ministry: Religious student organizations (denominational or nondenominational) devoted to fostering religious\\nlife on college campuses. May also refer to Campus Crusade for Christ, an interdenominational Christian organization.\\n*Career and placement services: A range of services, including (often) the following: coordination of visits of employers\\nto campus; aptitude and vocational testing; interest inventories, personal counseling; help in resume writing, interviewing,\\nlaunching the job search; listings for those students desiring employment and those seeking permanent positions;establishment of a permanent reference folder; career resource materials.\\nCarnegie units: One year of study or the equivalent in a secondary school subject.\\nCertificate: See Postsecondary award, certificate, or diploma.\\nClass rank: The relative numerical position of a student in his or her graduating class, calculated by the high school on the\\nbasis of grade-point average, whether weighted or unweighted.\\nCDS-Definitions Page 38Common Data Set 2021-2022\\nCommon Data Set Definitions\\nCollege-preparatory program: Courses in academic subjects (English, history and social studies, foreign languages,\\nmathematics, science, and the arts) that stress preparation for college or university study. \\nCommon Application: The standard application form distributed by the National Association of Secondary School\\nPrincipals for a large number of private colleges who are members of the Common Application Group. \\n*Community service program: Referral center for students wishing to perform volunteer work in the community or\\nparticipate in volunteer activities coordinated by academic departments.\\nCommuter: A student who lives off campus in housing that is not owned by, operated by, or affiliated with the college. This\\ncategory includes students who commute from home and students who have moved to the area to attend college. \\nClock hour: A unit of measure that represents an hour of scheduled instruction given to students. Also referred to as\\ncontact hour.\\nContinuous basis (for program enrollment): A calendar system classification that is used by institutions that enroll\\nstudents at any time during the academic year. For example, a cosmetology school or a word processing school might\\nallow students to enroll and begin studies at various times, with no requirement that classes begin on a certain date.\\nCooperative education program: A program that provides for alternate class attendance and employment in business,\\nindustry, or government.\\nCooperative housing: College-owned, -operated, or -affiliated housing in which students share room and board expenses\\nand participate in household chores to reduce living expenses.\\n*Counseling service: Activities designed to assist students in making plans and decisions related to their education,\\ncareer, or personal development.\\nCredit: Recognition of attendance or performance in an instructional activity (course or program) that can be applied by a\\nrecipient toward the requirements for a degree, diploma, certificate, or recognized postsecondary credential.\\nCredit course: A course that, if successfully completed, can be applied toward the number of courses required for\\nachieving a degree, diploma, certificate, or other recognized postsecondary credential.\\nCredit hour: A unit of measure representing an hour (50 minutes) of instruction over a 15-week period in a semester or\\ntrimester system or a 10-week period in a quarter system. It is applied toward the total number of hours needed for\\ncompleting the requirements of a degree, diploma, certificate, or recognized postsecondary credential.\\nCross-registration: A system whereby students enrolled at one institution may take courses at another institution without\\nhaving to apply to the second institution.\\nDeferred admission: The practice of permitting admitted students to postpone enrollment, usually for a period of one\\nacademic term or one year.\\nDegree: An award conferred by a college, university, or other postsecondary education institution as official recognition for\\nthe successful completion of a program of studies.\\nDegree-seeking students: Students enrolled in courses for credit who are recognized by the institution as seeking a\\ndegree or recognized postsecondary credential. At the undergraduate level, this is intended to include students enrolled in\\nvocational or occupational programs.\\nDiffers by program (calendar system): A calendar system classification that is used by institutions that have\\noccupational/vocational programs of varying length. These schools may enroll students at specific times depending on the\\nprogram desired. For example, a school might offer a two-month program in January, March, May, September, andNovember; and a three-month program in January, April, and October.\\nDiploma: See Postsecondary award, certificate, or diploma.\\nDistance learning: An option for earning course credit at off-campus locations via cable television, internet, satellite\\nclasses, videotapes, correspondence courses, or other means.\\nDoctor’s degree-research/scholarship : A Ph.D. or other doctor\\'s degree that requires advanced work beyond the\\nmaster’s level, including the preparation and defense of a dissertation based on original research, or the planning and\\nexecution of an original project demonstrating substantial artistic or scholarly achievement. Some examples of this type ofdegree may include Ed.D., D.M.A., D.B.A., D.Sc., D.A., or D.M, and others, as designated by the awarding institution.\\nCDS-Definitions Page 39Common Data Set 2021-2022\\nCommon Data Set Definitions\\nDoctor’s degree-professional practice : A doctor’s degree that is conferred upon completion of a program providing the\\nknowledge and skills for the recognition, credential, or license required for professional practice. The degree is awarded\\nafter a period of study such that the total time to the degree, including both pre-professional and professional preparation,equals at least six full-time equivalent academic years. Some of these degrees were formerly classified as “first-professional” and may include: Chiropractic (D.C. or D.C.M.); Dentistry (D.D.S. or D.M.D.); Law (L.L.B. or J.D.); Medicine(M.D.); Optometry (O.D.); Osteopathic Medicine (D.O); Pharmacy (Pharm.D.); Podiatry (D.P.M., Pod.D., D.P.); or,Veterinary Medicine (D.V.M.), and others, as designated by the awarding institution.\\nDoctor’s degree-other : A doctor’s degree that does not meet the definition of a doctor’s degree - research/scholarship or\\na doctor’s degree - professional practice.\\nDouble major: Program in which students may complete two undergraduate programs of study simultaneously.\\nDual enrollment: A program through which high school students may enroll in college courses while still enrolled in high\\nschool. Students are not required to apply for admission to the college in order to participate.\\nEarly action plan: An admission plan that allows students to apply and be notified of an admission decision well in\\nadvance of the regular notification dates. If admitted, the candidate is not committed to enroll; the student may reply to the\\noffer under the college’s regular reply policy.\\nEarly admission: A policy under which students who have not completed high school are admitted and enroll full time in\\ncollege, usually after completion of their junior year.\\nEarly decision plan: A plan that permits students to apply and be notified of an admission decision (and financial aid offer\\nif applicable) well in advance of the regular notification date. Applicants agree to accept an offer of admission and, if\\nadmitted, to withdraw their applications from other colleges. There are three possible decisions for early decisionapplicants: admitted, denied, or not admitted but forwarded for consideration with the regular applicant pool, withoutprejudice.\\nEnglish as a Second Language (ESL): A course of study designed specifically for students whose native language is not\\nEnglish.\\nExchange student program-domestic: Any arrangement between a student and a college that permits study for a\\nsemester or more at another college in the United States without extending the amount of time required for a degree. See \\nalso Study abroad .\\nExternal degree program: A program of study in which students earn credits toward a degree through independent study,\\ncollege courses, proficiency examinations, and personal experience. External degree programs require minimal or no\\nclassroom attendance.\\nExtracurricular activities (as admission factor): Special consideration in the admissions process given for participation\\nin both school and nonschool-related activities of interest to the college, such as clubs, hobbies, student government,\\nathletics, performing arts, etc.\\nFirst-time student: A student attending any institution for the first time at the level enrolled. Includes students enrolled in\\nthe fall term who attended a postsecondary institution for the first time at the same level in the prior summer term. Also\\nincludes students who entered with advanced standing (college credit earned before graduation from high school).\\nFirst-time, first-year (freshman) student: A student attending any institution for the first time at the undergraduate level.\\nIncludes students enrolled in the fall term who attended college for the first time in the prior summer term. Also includes\\nstudents who entered with advanced standing (college credits earned before graduation from high school).\\nFirst-year student: A student who has completed less than the equivalent of 1 full year of undergraduate work; that is, less\\nthan 30 semester hours (in a 120-hour degree program) or less than 900 clock hours.\\nFreshman: A first-year undergraduate student.\\n*Freshman/new student orientation: Orientation addressing the academic, social, emotional, and intellectual issues\\ninvolved in beginning college. May be a few hours or a few days in length; at some colleges, there is a fee.\\nFull-time student (undergraduate): A student enrolled for 12 or more semester credits, 12 or more quarter credits, or 24\\nor more clock hours a week each term.\\nGeographical residence (as admission factor): Special consideration in the admission process given to students from a\\nparticular region, state, or country of residence.\\nCDS-Definitions Page 40Common Data Set 2021-2022\\nCommon Data Set Definitions\\nGrade-point average (academic high school GPA): The sum of grade points a student has earned in secondary school\\ndivided by the number of courses taken. The most common system of assigning numbers to grades counts four points for\\nan A, three points for a B, two points for a C, one point for a D, and no points for an E or F. Unweighted GPA’s assign thesame weight to each course. Weighting gives students additional points for their grades in advanced or honors courses.\\nGraduate student: A student who holds a bachelor’s or equivalent, and is taking courses at the post-baccalaureate level.\\n*Health services: Free or low cost on-campus primary and preventive health care available to students.\\nHigh school diploma or recognized equivalent: A document certifying the successful completion of a prescribed\\nsecondary school program of studies, or the attainment of satisfactory scores on the Tests of General Educational\\nDevelopment (GED), or another state-specified examination.\\nHispanic or Latino: A person of Mexican, Puerto Rican, Cuban, South or Central American, or other Spanish culture or\\norigin, regardless of race.\\nHonors program: Any special program for very able students offering the opportunity for educational enrichment,\\nindependent study, acceleration, or some combination of these. \\nIndependent study: Academic work chosen or designed by the student with the approval of the department concerned,\\nunder an instructor’s supervision, and usually undertaken outside of the regular classroom structure.\\nIn-state tuition: The tuition charged by institutions to those students who meet the state’s or institution’s residency\\nrequirements.\\nInternational student: See Nonresident alien.\\nInternational student group: Student groups that facilitate cultural dialogue, support a diverse campus, assist\\ninternational students in acclimation and creating a social network.  \\nInternship: Any short-term, supervised work experience usually related to a student’s major field, for which the student\\nearns academic credit. The work can be full- or part-time, on- or off-campus, paid or unpaid.\\n*Learning center: Center offering assistance through tutors, workshops, computer programs, or audiovisual equipment in\\nreading, writing, math, and skills such as taking notes, managing time, taking tests.\\n*Legal services: Free or low cost legal advice for a range of issues (personal and other).\\nLiberal arts/career combination: Program in which a student earns undergraduate degrees in two separate fields, one in\\na liberal arts major and the other in a professional or specialized major, whether on campus or through cross -registration.\\nMaster\\'s degree : An award that requires the successful completion of a program of study of generally one or two full-time\\nequivalent academic years of work beyond the bachelor\\'s degree. Some of these degrees, such as those in Theology\\n(M.Div., M.H.L./Rav) that were formerly classified as \"first-professional\", may require more than two full-time equivalentacademic years of work. \\nMinority affiliation (as admission factor): Special consideration in the admission process for members of designated\\nracial/ethnic minority groups.\\n*Minority student center: Center with programs, activities, and/or services intended to enhance the college experience of\\nstudents of color.\\nModel United Nations: A simulation activity focusing on conflict resolution, globalization, and diplomacy. Assuming roles\\nas foreign ambassadors and “delegates,” students conduct research, engage in debate, draft resolutions, and may\\nparticipate in a national Model UN conference.  \\nNative Hawaiian or Other Pacific Islander: A person having origins in any of the original peoples of Hawaii, Guam,\\nSamoa, or other Pacific Islands.\\nNonresident alien: A person who is not a citizen or national of the United States and who is in this country on a visa or\\ntemporary basis and does not have the right to remain indefinitely.\\n*On-campus day care: Licensed day care for students’ children (usually age 3 and up); usually for a fee.\\nOpen admission: Admission policy under which virtually all secondary school graduates or students with GED equivalency\\ndiplomas are admitted without regard to academic record, test scores, or other qualifications.\\nCDS-Definitions Page 41Common Data Set 2021-2022\\nCommon Data Set Definitions\\nOther expenses (costs): Include average costs for clothing, laundry, entertainment, medical (if not a required fee), and\\nfurnishings.\\nOut-of-state tuition: The tuition charged by institutions to those students who do not meet the institution’s or state’s\\nresidency requirements.\\nPart-time student (undergraduate): A student enrolled for fewer than 12 credits per semester or quarter, or fewer than 24\\nclock hours a week each term.\\n*Personal counseling : One-on-one or group counseling with trained professionals for students who want to explore\\npersonal, educational, or vocational issues.\\nPost-baccalaureate certificate: An award that requires completion of an organized program of study requiring 18 credit\\nhours beyond the bachelor’s; designed for persons who have completed a baccalaureate degree but do not meet the\\nrequirements of academic degrees carrying the title of master.\\nPost-master’s certificate: An award that requires completion of an organized program of study of 24 credit hours beyond\\nthe master’s degree but does not meet the requirements of academic degrees at the doctoral level.\\nPostsecondary award, certificate, or diploma: Includes the following three IPEDS definitions for postsecondary awards,\\ncertificates, and diplomas of varying durations and credit/contact/clock hour requirements:\\nLess Than 1 Academic Year :Requires completion of an organized program of study at the postsecondary level (below\\nthe baccalaureate degree) in less than 1 academic year (2 semesters or 3 quarters) or in less than 900 clock hours by a\\nstudent enrolled full-time.\\nAt Least 1 But Less Than 2 Academic Years: Requires completion of an organized program of study at the\\npostsecondary level (below the baccalaureate degree) in at least 1 but less than 2 full-time equivalent academic years, or\\ndesigned for completion in at least 30 but less than 60 credit hours, or in at least 900 but less than 1,800 clock hours.\\nAt Least 2 But Less Than 4 Academic Years: Requires completion of an organized program of study at the\\npostsecondary level (below the baccalaureate degree) in at least 2 but less than 4 full-time equivalent academic years, or\\ndesigned for completion in at least 60 but less than 120 credit hours, or in at least 1,800 but less than 3,600 clock hours.\\nPrivate institution: An educational institution controlled by a private individual(s) or by a nongovernmental agency, usually\\nsupported primarily by other than public funds, and operated by other than publicly elected or appointed officials.\\nPrivate for-profit institution: A private institution in which the individual(s) or agency in control receives compensation,\\nother than wages, rent, or other expenses for the assumption of risk.\\nPrivate nonprofit institution: A private institution in which the individual(s) or agency in control receives no compensation, \\nother than wages, rent, or other expenses for the assumption of risk. These include both independent nonprofit schools\\nand those affiliated with a religious organization.\\nProprietary institution: See Private for-profit institution.\\nPublic institution: An educational institution whose programs and activities are operated by publicly elected or appointed\\nschool officials, and which is supported primarily by public funds.\\nQuarter calendar system: A calendar system in which the academic year consists of three sessions called quarters of\\nabout 12 weeks each. The range may be from 10 to 15 weeks. There may be an additional quarter in the summer.\\nRace/ethnicity: Category used to describe groups to which individuals belong, identify with, or belong in the eyes of the\\ncommunity. The categories do not denote scientific definitions of anthropological origins. A person may be counted in only\\none group.\\nRace/ethnicity unknown: Category used to classify students or employees whose race/ethnicity is not known and whom\\ninstitutions are unable to place in one of the specified racial/ethnic categories.\\nCDS-Definitions Page 42Common Data Set 2021-2022\\nCommon Data Set Definitions\\nRecognized Postsecondary Credential: Includes both Title IV eligible degrees, certificates, and other recognized\\npostsecondary credentials. Any credential that is received after completion of a program that is eligible for Title IV federal\\nstudent aid. Credentials that are awarded to recognize an individual’s attainment of measurable technical orindustry/occupational skills necessary to obtain employment or advance within an industry occupation. (Generally based onstandards developed or endorsed by employers or industry associations).\\nReligious affiliation/commitment (as admission factor): Special consideration given in the admission process for\\naffiliation with a certain church or faith/religion, commitment to a religious vocation, or observance of certain religious\\ntenets/lifestyle. \\n*Religious counseling: One-on-one or group counseling with trained professionals for students who want to explore\\nreligious problems or issues.\\n*Remedial services: Instructional courses designed for students deficient in the general competencies necessary for a\\nregular postsecondary curriculum and educational setting.\\nRequired fees: Fixed sum charged to students for items not covered by tuition and required of such a large proportion of\\nall students that the student who does NOT pay is the exception. Do not include application fees or optional fees such as\\nlab fees or parking fees. \\nResident alien or other eligible non-citizen: A person who is not a citizen or national of the United States and who has\\nbeen admitted as a legal immigrant for the purpose of obtaining permanent resident alien status (and who holds either an\\nalien registration card [Form I-551 or I-151], a Temporary Resident Card [Form I-688], or an Arrival-Departure Record[Form I-94] with a notation that conveys legal immigrant status, such as Section 207 Refugee, Section 208 Asylee,Conditional Entrant Parolee or Cuban-Haitian).\\nRoom and board (charges)—on campus: Assume double occupancy in institutional housing and 19 meals per week (or\\nmaximum meal plan).\\nSecondary school record (as admission factor): Information maintained by the secondary school that may include such\\nthings as the student’s high school transcript, class rank, GPA, and teacher and counselor recommendations.\\nSemester calendar system: A calendar system that consists of two semesters during the academic year with about 16\\nweeks for each semester of instruction. There may be an additional summer session.\\nStudent-designed major: A program of study based on individual interests, designed with the assistance of an adviser.\\nStudy abroad: Any arrangement by which a student completes part of the college program studying in another country.\\nCan be at a campus abroad or through a cooperative agreement with some other U.S. college or an institution of another\\ncountry. \\n*Summer session: A summer session is shorter than a regular semester and not considered part of the academic year. It\\nis not the third term of an institution operating on a trimester system or the fourth term of an institution operating on a\\nquarter calendar system. The institution may have 2 or more sessions occurring in the summer months. Some schools,such as vocational and beauty schools, have year-round classes with no separate summer session.\\nTalent/ability (as admission factor): Special consideration given to students with demonstrated talent/abilities in areas of\\ninterest to the institution (e.g., sports, the arts, languages, etc.).\\nTeacher certification program: Program designed to prepare students to meet the requirements for certification as\\nteachers in elementary, middle/junior high, and secondary schools.\\nTransfer applicant: An individual who has fulfilled the institution’s requirements to be considered for admission (including\\npayment or waiving of the application fee, if any) and who has previously attended another college or university and earned\\ncollege-level credit. \\nTransfer student: A student entering the institution for the first time but known to have previously attended a\\npostsecondary institution at the same level (e.g., undergraduate). The student may transfer with or without credit.\\nTransportation (costs): Assume two round trips to student’s hometown per year for students in institutional housing or\\ndaily travel to and from your institution for commuter students.\\nTrimester calendar system: An academic year consisting of 3 terms of about 15 weeks each.\\nTuition: Amount of money charged to students for instructional services. Tuition may be charged per term, per course, or\\nper credit. \\nCDS-Definitions Page 43Common Data Set 2021-2022\\nCommon Data Set Definitions\\n*Tutoring: May range from one-on-one tutoring in specific subjects to tutoring in an area such as math, reading, or writing.\\nMost tutors are college students; at some colleges, they are specially trained and certified.\\nUnit: a standard of measurement representing hours of academic instruction (e.g., semester credit, quarter credit, clock\\nhour).\\nUndergraduate: A student enrolled in a four- or five-year bachelor’s degree program, an associate degree program, or a\\nvocational or technical program below the baccalaureate.\\n*Veteran’s counseling: Helps veterans and their dependents obtain benefits for their selected program and provides\\ncertifications to the Veteran’s Administration. May also provide personal counseling on the transition from the military to a\\ncivilian life.\\n*Visually impaired: Any person whose sight loss is not correctable and is sufficiently severe as to adversely affect\\neducational performance.\\nVolunteer work (as admission factor): Special consideration given to students for activity done on a volunteer basis\\n(e.g., tutoring, hospital care, working with the elderly or disabled) as a service to the community or the public in general.\\nWait list: List of students who meet the admission requirements but will only be offered a place in the class if space\\nbecomes available. \\nWeekend college: A program that allows students to take a complete course of study and attend classes only on\\nweekends. \\nWhite:  A person having origins in any of the original peoples of Europe, the Middle East, or North Africa.\\n*Women’s center: Center with programs, academic activities, and/or services intended to promote an understanding of\\nthe evolving roles of women.\\nWork experience (as admission factor): Special consideration given to students who have been employed prior to\\napplication, whether for relevance to major, demonstration of employment-related skills, or as explanation of student’s\\nacademic and extracurricular record.\\nFinancial Aid Definitions\\nExternal scholarships and grants: Scholarships and grants received from outside (private) sources that students bring\\nwith them (e.g., Kiwanis, National Merit scholarships). The institution may process paperwork to receive the dollars, but it\\nhas no role in determining the recipient or the dollar amount awarded.\\nFinancial aid applicant: Any applicant who submits any one of the institutionally required financial aid applications/forms,\\nsuch as the FAFSA. \\nIndebtedness: Aggregate dollar amount borrowed through any loan program (federal, state, subsidized, unsubsidized,\\nprivate, etc.; excluding parent loans) while the student was enrolled at an institution. Student loans co-signed by a parent\\nare assumed to be the responsibility of the student and should  be included.\\nInstitutional scholarships and grants : Endowed scholarships, annual gifts and tuition funded grants for which the\\ninstitution determines the recipient.\\nFinancial need: As determined by your institution using the federal methodology and/or your institution\\'s own standards. \\nNeed-based aid: College-funded or college-administered award from institutional, state, federal, or other sources for which\\na student must have financial need to qualify. This includes both institutional and non-institutional student aid (grants, jobs,\\nand loans).\\nNeed-based scholarship or grant aid: Scholarships and grants from institutional, state, federal, or other sources for\\nwhich a student must have financial need to qualify.\\nCDS-Definitions Page 44Common Data Set 2021-2022\\nCommon Data Set Definitions\\nNeed-based self-help aid: Loans and jobs from institutional, state, federal, or other sources for which a student must\\ndemonstrate financial need to qualify.\\nNon-need-based scholarship or grant aid: Scholarships and grants, gifts, or merit-based aid from institutional, state,\\nfederal, or other sources (including unrestricted funds or gifts and endowment income) awarded solely on the basis of\\nacademic achievement, merit, or any other non-need-based reason. When reporting questions H1 and H2, non-need-based aid that is used to meet need should be counted as need-based aid. \\nNote: Suggested order of precedence for counting non-need money as need-based:\\n1.\\n        Non-need institutional grants\\n2.        Non-need tuition waivers\\n3.        Non-need athletic awards\\n4.        Non-need federal grants\\n5.        Non-need state grants\\n6.        Non-need outside grants\\n7.        Non-need student loans\\n8.        Non-need parent loans\\n9.        Non-need work\\nNon-need-based self-help aid: Loans and jobs from institutional, state, or other sources for which a student need not\\ndemonstrate financial need to qualify.\\nWork study and employment : Federal and state work study aid, and any employment packaged by your institution in\\nfinancial aid awards.\\nCDS-Definitions Page 45'"
            ]
          },
          "execution_count": 9,
          "metadata": {},
          "output_type": "execute_result"
        }
      ],
      "source": [
        "raw_text"
      ]
    },
    {
      "cell_type": "code",
      "execution_count": 10,
      "metadata": {
        "colab": {
          "base_uri": "https://localhost:8080/"
        },
        "id": "-99IkxPFBAz2",
        "outputId": "17e916d4-bfb6-401b-ce08-6993870f3f4d"
      },
      "outputs": [
        {
          "name": "stdout",
          "output_type": "stream",
          "text": [
            "4/24/24, 11:46 PM Computer Science (CSC) < Sacramento State\n",
            "https://catalog.csus.edu/courses-a-z/csc/ 1/22Computer Science (CSC)\n",
            "How to Read Course Descriptions\n",
            "CSC 1.     Introduction to Computer Science. 3 Units\n",
            "Prerequisite(s): Intermediate algebra.\n",
            "Term Typically Oﬀered: Fall, Spring\n",
            "Fundamental concepts of computers, computation and programming; history and principles of computing; problem solving; input,\n",
            "output; data representation, storage, and ﬁle organization; computer hardware, networking and data communication; social,\n",
            "economic and ethical implications; computer security and privacy. Students will solve problems using a programming language.\n",
            "Lecture, two hours; technical activity and laboratory, two hours.\n",
            "CSC 1A.     Introduction to Computer Science for Advanced Students. 3 Units\n",
            "Term Typically Oﬀered: Fall, Spring\n",
            "Same material as covered in CSC 1 but intended for students who already have signiﬁcant knowledge of the fundamental\n",
            "concepts of computers and/or computer programming. Students must attend the orientation session during the ﬁrst class\n",
            "meeting. Two placement tests, one on programming and one on concepts, will be scheduled and used to determine student's\n",
            "prior preparation.\n",
            "Note: May be taken by those wishing to obtain credit by examination. Please refer to examination credit guidelines in the\n",
            "University catalog. Not open to students who have received credit for CSC 1 or MIS 5.\n",
            "Credit/No Credit\n",
            "CSC 5.     Personal Computing. 3 Units\n",
            "Term Typically Oﬀered: Fall, Spring\n",
            "Introduction to the role and use of personal computers, emphasizing the use and relevancy of common software for word\n",
            "processing, database, spreadsheet analysis, graphics, and communications. Examination of the personal computing milieu and\n",
            "the applications environment. Lecture two hours, technical activity and laboratory two hours.\n",
            "CSC 8.     Introduction to Internet Technologies. 3 Units\n",
            "Prerequisite(s): Basic computer literacy recommended.\n",
            "Term Typically Oﬀered: Summer only\n",
            "Internet applications such as email, instant messaging, ﬁle transfer, secure communications, the web, and related tools and\n",
            "protocols. Basics of the web-publishing process and methods used to locate authoritative information on the internet. Webpage\n",
            "design, internet security and emerging technologies on the internet.\n",
            "CSC 8S.     Self-Paced Introduction to Internet Technologies. 3 Units\n",
            "Prerequisite(s): Basic computer literacy recommended.\n",
            "Term Typically Oﬀered: Fall, Spring\n",
            "Covers the same material as CSC 8, Introduction to Internet Technologies. Provided by electronic means in addition to meetings\n",
            "for orientation, laboratory demonstrations, and tests. Internet applications such as Email, instant messaging, ﬁle transfer, secure\n",
            "communications, the Web, and related tools and protocols. Basics of the Web-publishing process and methods used to locate\n",
            "authoritative information on the Internet. Webpage design, Internet security and emerging/declining technologies on the Internet.\n",
            "Credit/No Credit4/24/24, 11:46 PM Computer Science (CSC) < Sacramento State\n",
            "https://catalog.csus.edu/courses-a-z/csc/ 2/22CSC 10.     Introduction to Programming Logic. 3 Units\n",
            "Prerequisite(s): Math 11 or equivalent\n",
            "Term Typically Oﬀered: Fall, Spring\n",
            "Introduction to computer science with an emphasis on programming concepts and methodology. Intended to assist students with\n",
            "little or no programming experience to understand the basic principles of programming logic. Topics include computer hardware\n",
            "and software, problem solving and algorithm development, ﬂow of control, modular design using techniques that can be applied\n",
            "to common programming languages. Lecture two hours, technical activity and laboratory two hours.\n",
            "CSC 10A.     Accelerated Introduction to Programming Logic. 3 Units\n",
            "Term Typically Oﬀered: Fall, Spring\n",
            "Introduction to computer science with an emphasis on programming concepts, logic, and methodology: computer hardware and\n",
            "software, problem solving and algorithm development, ﬂow of control, and modular design. Accelerated and more in-depth study\n",
            "of programming concepts than CSC 10. Intended for computer science and computer engineering majors who have little or no\n",
            "programming experience. Lecture two house, technical activity and laboratory, two hours. Not open to students who have\n",
            "received credit for CSC 10. Preqrequisite: Math 11\n",
            "CSC 15.     Programming Concepts and Methodology I. 3 Units\n",
            "Prerequisite(s): CSC 10, or programming experience in a high-level programming language. Not currently enrolled in CSC 15.\n",
            "Term Typically Oﬀered: Fall, Spring, Summer\n",
            "Programming concepts using an object-oriented programming language. Introduction to methodologies for program design,\n",
            "development, testing, and documentation. Topics include program design, algorithm design, number systems, classes and\n",
            "objects, methods (functions), control structures, arrays, and interactive input/output. Lecture two hours, technical activity and\n",
            "laboratory two hours.\n",
            "CSC 15P.     Peer-Assisted Learning CSC 15. 1 Unit\n",
            "Corequisite(s): CSC 15\n",
            "Term Typically Oﬀered: Fall, Spring\n",
            "Students concurrently enrolled in CSC 15 work through faculty-designed problem sets under the guidance of a trained student\n",
            "facilitator to improve their understanding of CSC 15 content. Pedagogical strategies that encourage active, engaged learning are\n",
            "employed to facilitate student success. Discussion, 2 hours.\n",
            "Credit/No Credit\n",
            "CSC 15W.     Programming Methodology I Workshop. 1 Unit\n",
            "Corequisite(s): CSC 15.\n",
            "Term Typically Oﬀered: Fall, Spring, Summer\n",
            "Designed to assist students in developing a more thorough understanding of programming methodology and problem solving\n",
            "techniques. Activity two hours.\n",
            "Credit/No Credit\n",
            "CSC 20.     Programming Concepts and Methodology II. 3 Units\n",
            "Prerequisite(s): CSC 15.\n",
            "Term Typically Oﬀered: Fall, Spring\n",
            "Application of object-oriented techniques for systematic problem analysis and speciﬁcation, design, coding, testing, and\n",
            "documentation. Semester-long project approach emphasizing larger programs. Managing program complexity using abstraction.4/24/24, 11:46 PM Computer Science (CSC) < Sacramento State\n",
            "https://catalog.csus.edu/courses-a-z/csc/ 3/22Introduction to algorithm analysis and Big-O notation. Advanced language features. Basic sorting and searching algorithms.\n",
            "Recursion. Lecture two hours, technical activity and laboratory two hours.\n",
            "CSC 20P.     Peer-Assisted Learning CSC 20. 1 Unit\n",
            "Corequisite(s): CSC 20\n",
            "Term Typically Oﬀered: Fall, Spring\n",
            "Students concurrently enrolled in CSC 20 work through faculty-designed problem sets under the guidance of a trained student\n",
            "facilitator to improve their understanding of CSC 20 content. Pedagogical strategies that encourage active, engaged learning are\n",
            "employed to facilitate student success. Discussion, 2 hours.\n",
            "Credit/No Credit\n",
            "CSC 21.     First Year Seminar: Becoming an Educated Person. 3 Units\n",
            "General Education Area/Graduation Requirement: Understanding Personal Development (E)\n",
            "Term Typically Oﬀered: Fall only\n",
            "Introduction to the nature and possible meanings of higher education, and the functions and resources of the University.\n",
            "Designed to help students develop and exercise fundamental academic success strategies and to improve their basic learning\n",
            "skills. Development of information competence and computer literacy. Students interact with fellow students and the seminar\n",
            "leader to build a community of academic and personal support.\n",
            "CSC 22.     Visual Programming in BASIC. 3 Units\n",
            "Prerequisite(s): Intermediate Algebra.\n",
            "Term Typically Oﬀered: Fall, Spring\n",
            "Computer Programming using Visual Basic. Topics include the Visual Basic Integrated Development Environment, visual user\n",
            "interface development, concepts of object-oriented programming, variables, control structures, arrays, functions, subroutines,\n",
            "strings, ﬁles, and database access. Applications will be created in areas such as business, games, and multimedia. Lecture two\n",
            "hours, technical activity and laboratory two hours.\n",
            "CSC 25.     Introduction to C Programming. 3 Units\n",
            "Term Typically Oﬀered: Fall only\n",
            "Topics include: types, operators, control structures, input/output, arithmetic operations, the C library and preprocessor, functions\n",
            "and parameters, arrays, strings, pointers, and structures. Program design and style will be emphasized. Students will use a\n",
            "compiler.\n",
            "Note: Students with signiﬁcant programming experience should take CSC 60 rather than CSC 25. Lecture two hours, technical\n",
            "activity and laboratory two hours.\n",
            "CSC 28.     Discrete Structures for Computer Science. 3 Units\n",
            "Prerequisite(s): Score of 76 or higher on ALEKS PPL exam or MATH 26A or MATH 29 or MATH 29B or MATH 30; and CSC 20.\n",
            "CSC 20 and MATH 30 may be taken concurrently.\n",
            "Term Typically Oﬀered: Fall, Spring\n",
            "Introduction to the essential discrete structures used in Computer Science, with emphasis on their applications. Topics include:\n",
            "counting methods, elementary formal logic and set theory, recursive programming, digital logic and combinational circuits, real\n",
            "number representation, regular expressions, ﬁnite automata.\n",
            "CSC 35.     Introduction to Computer Architecture. 3 Units\n",
            "Prerequisite(s): CSC 15.4/24/24, 11:46 PM Computer Science (CSC) < Sacramento State\n",
            "https://catalog.csus.edu/courses-a-z/csc/ 4/22Term Typically Oﬀered: Fall, Spring\n",
            "Internal representation of numeric and non-numeric data, assembly level machine architecture, addressing modes, subroutine\n",
            "linkage, polled input/output, interrupts, high-level language interfacing, macros and pseudo operations. Lecture two hours,\n",
            "technical activity and laboratory two hours.\n",
            "CSC 60.     Introduction to Systems Programming in UNIX. 3 Units\n",
            "Prerequisite(s): CSC 20, CSC 35.\n",
            "Term Typically Oﬀered: Fall, Spring\n",
            "Features of the C language commonly used in systems programming, application to systems programming in a UNIX\n",
            "environment. Topics include C preprocessor macros, I/O, bit-manipulation facilities, timesharing system concepts, ﬁle\n",
            "permissions, shell script programming, make ﬁles and source code control, basic system calls like fork and exec, pointers and\n",
            "dynamic memory allocation, libraries and relocation and linking concepts including assembler handling of symbol tables. Prior\n",
            "knowledge of a C like programming language is presumed.\n",
            "CSC 80.     Web Development with HTML/XHTML and Tools. 3 Units\n",
            "Prerequisite(s): CSC 8 or equivalent computer and Internet experience.\n",
            "Term Typically Oﬀered: Fall, Spring\n",
            "Hands-on course covering the processes and guidelines for creating and customizing interactive webpages. Emphasis on use of\n",
            "HTML/XHTML, CSS, and tools to create webpages. HTML/XHTML syntax to create, format, and link documents. Use of tables,\n",
            "graphics, styles, forms, multimedia, and other features in webpages. Eﬀective webpage design and website organization. Lecture\n",
            "two hours and technical activity and laboratory two hours.\n",
            "CSC 110.     Introduction to Programming Logic for Teachers. 3 Units\n",
            "Term Typically Oﬀered: Fall, Spring, Summer\n",
            "An introduction to computer science with an emphasis on programming concepts and methodology. Intended to assist students\n",
            "with no programming experience to understand the basic principles of programming logic for computational thinking.\n",
            "Programming language is blocky-style. Topics include: computer devices and software, programming concepts and methodology,\n",
            "blocky-style programming, K-12 computer science curriculum development for introduction to computational thinking.\n",
            "CSC 111.     Programming Concepts and Methodology for Teachers. 4 Units\n",
            "Prerequisite(s): CSC 110\n",
            "Term Typically Oﬀered: Fall, Spring, Summer\n",
            "Computer science teacher professional development based on equity, curriculum development, and computer science.\n",
            "Programming languages including blocky-style, web, and an object-oriented programming language. Introduction to computer\n",
            "science methodologies for program design, development, testing, and documentation. Computer science content includes\n",
            "program design, algorithm design, number systems, classes and objects, methods, control structures, arrays, and simple\n",
            "interactive input/output. Pedagogical content includes strategies for teaching and retaining students by developing engaging\n",
            "learning experiences and designing student assessment in computer science.\n",
            "CSC 112.     Data Structures, Algorithms, and Software Engineering for Teachers. 3 Units\n",
            "Prerequisite(s): CSC 111\n",
            "Term Typically Oﬀered: Fall, Spring, Summer\n",
            "Introduction of data structures, algorithms, and software engineering to give teachers the background to lead instruction in\n",
            "computer science curriculum. Topics include linked lists, queues, sets, algorithm analysis, recursion, basic searching, and sorting.\n",
            "Software Engineering topics include the methodologies and techniques in planning, engineering and implementing a software4/24/24, 11:46 PM Computer Science (CSC) < Sacramento State\n",
            "https://catalog.csus.edu/courses-a-z/csc/ 5/22system to solve a problem, and social, ethical, and legal impacts of computing. Pedagogical content includes strategies for\n",
            "teaching students by developing engaging learning experiences in computer science.\n",
            "CSC 113.     Computer Networking and Cyber Security for Teachers. 3 Units\n",
            "Prerequisite(s): CSC 110 and CSC 111. Not currently enrolled in CSC 113.\n",
            "Term Typically Oﬀered: Fall, Spring, Summer\n",
            "Introduction to basic components of digital devices and computing systems. Overview, structure, and types of computer\n",
            "networks. The layered model of networks and common protocols in each layer, such as HTTP and IP. Introduction to common\n",
            "network applications such as web, email, and videos. Common cyber security problems and solutions. Cyber safety. Pedagogical\n",
            "content includes strategies for teaching and retaining students by developing engaging learning experiences and designing\n",
            "student assessment in computer science.\n",
            "CSC 114.     Digital Evidence and Computer Crime. 3 Units\n",
            "Prerequisite(s): CSC 1 and CSC 8 or CSC 8S or CSC 80; or instructor permission.\n",
            "Term Typically Oﬀered: Fall, Spring\n",
            "Topics include technology and law, computer basics for digital investigations, network basics for digital investigations,\n",
            "investigation of computer crime, and the handling of digital evidence.\n",
            "CSC 115.     Internet Security. 3 Units\n",
            "Prerequisite(s): CSC 1 and CSC 8 or CSC 8S or CSC 80; or instructor permission.\n",
            "Term Typically Oﬀered: Summer only\n",
            "Internet security problems and discussion of potential solutions: network vulnerabilities and attacks, secure communication and\n",
            "use of cryptography, Internet security protocols and tools to defend against network attacks, network intrusion detection, and\n",
            "wireless network security. Survey and use of software tools for network security.\n",
            "CSC 116.     Cyber Forensics. 3 Units\n",
            "Prerequisite(s): CSC 1 and CSC 8 or CSC 8S or CSC 80; or instructor permission.\n",
            "Term Typically Oﬀered: Summer only\n",
            "Fundamentals of computer forensics and cyber-crime scene analysis including laws, regulations, and international standards;\n",
            "formal methodology for conducting security incident investigations; categories of electronic evidence. Projects involving digital\n",
            "forensic tools.\n",
            "CSC 120.     Web Server Administration. 3 Units\n",
            "Prerequisite(s): CSC 80.\n",
            "Term Typically Oﬀered: Fall, Spring\n",
            "Managing and maintaining Web servers. Administering open source and commercial Web servers, Web hosting alternatives,\n",
            "professional standards and practices of website hosting, Web server installation, conﬁguration, management, and security.\n",
            "Selecting and using technologies to support professional quality websites. Lecture two hours; technical activity and laboratory\n",
            "two hours.\n",
            "CSC 121.     Client-Side Web Programming. 3 Units\n",
            "Prerequisite(s): CSC 22, CSC 80 or equivalents; OR PCSC/CSC Major, CSC 60, CSC 130.\n",
            "Term Typically Oﬀered: Fall, Spring\n",
            "Client-side Web programming using JavaScript, DHTML, and client-side Web technologies. Event-driven programming, dynamic\n",
            "data types, control structures, and introduction to object-oriented programming and program design. Use of cookies and built-in4/24/24, 11:46 PM Computer Science (CSC) < Sacramento State\n",
            "https://catalog.csus.edu/courses-a-z/csc/ 6/22objects. Validation and processing of forms. Basic features of the Document Object Model.\n",
            "CSC 122.     Web Database Applications. 3 Units\n",
            "Prerequisite(s): CSC 10 or CSC 22; and CSC 80 or equivalent.\n",
            "Term Typically Oﬀered: Fall, Spring\n",
            "Fundamentals of building eﬀective database-driven web applications. Particular emphasis on database access via web\n",
            "interfaces. Introduction to database management systems, their structure and usage, SQL, integrating web applications with\n",
            "databases, design and implementation of dynamic web database applications.\n",
            "CSC 123.     Web Application Development. 3 Units\n",
            "Prerequisite(s): CSC 22, CSC 121, CSC 122, or equivalent experience; OR PCSC/CSC Major, CSC 60, CSC 134.\n",
            "Term Typically Oﬀered: Fall, Spring\n",
            "Developing multi-tiered enterprise-level Web applications. Standards of Web services and other current Web technologies,\n",
            "including XML, AJAX, and server-side programming such as Java EE, .NET, or PHP. Development of Web applications such as\n",
            "those used for e-commerce, e-business, and content management. Format consists of two 1.5 hour lecture/lab sessions per\n",
            "week.\n",
            "CSC 126.     3D Computer Modeling. 3 Units\n",
            "Prerequisite(s): CSC 10 or ART 97 or equivalent.\n",
            "Term Typically Oﬀered: Fall only\n",
            "Techniques and processes to create 3D computer models and environments. Exercises, assignments and projects designed to\n",
            "build skill levels with 3D computer modeling tools. Demonstrations and workshops in the use of 3D computer modeling software.\n",
            "Critiques, discussion and presentations to develop students' conceptual grasp of 3D computer modeling and virtual reality\n",
            "environments. Example applications in art/new media and computer gaming.\n",
            "Note: May be taken twice for credit. Cross-listed as ART 142.\n",
            "CSC 127.     3D Computer Animation. 3 Units\n",
            "Prerequisite(s): ART 142 or CSC 126.\n",
            "Term Typically Oﬀered: Spring only\n",
            "Creative skills and techniques for animating 3D computer-modeled objects/environments. Topics include animation techniques;\n",
            "keyframing and interpolation; deformation and morphing; path control; skeletal animation; model rigging and skinning; forward\n",
            "and inverse kinematics, constraints and IK solvers; particle systems; ﬂuid, cloth, hair, and fur simulation; shape keys; and soft\n",
            "body animation. Emphasis on both skill development and creative application of modeling and animation techniques. Includes\n",
            "demos, in class and homework excercises, and self directed projects.\n",
            "Cross-listed: ART 143.\n",
            "CSC 130.     Data Structures and Algorithm Analysis. 3 Units\n",
            "Prerequisite(s): CSC 20, CSC 28; CSC 28 may be taken concurrently. Not currently enrolled in CSC 130.\n",
            "Term Typically Oﬀered: Fall, Spring\n",
            "Speciﬁcation, implementation, and manipulation of abstract data types and their structures: balanced trees, priority queues, sets,\n",
            "hash tables, and graphs; recursion; searching and sorting algorithms; asymptotic analysis; NP completeness; fundamental graph\n",
            "algorithms including graph search, shortest path, and minimum spanning trees\n",
            "CSC 131.     Computer Software Engineering. 3 Units\n",
            "Prerequisite(s): CSC 130; may be taken concurrently. Not currently enrolled in CSC 131.4/24/24, 11:46 PM Computer Science (CSC) < Sacramento State\n",
            "https://catalog.csus.edu/courses-a-z/csc/ 7/22Term Typically Oﬀered: Fall, Spring\n",
            "Principles of Software Engineering covering the software development life cycle, including software requirements engineering\n",
            "(elicitation, modeling, analysis and speciﬁcation), software design, software implementation and testing. Main topics include\n",
            "various software development process models, method and techniques for specifying requirements, architectural and detailed\n",
            "design speciﬁcation, prototyping, top-down and bottom-up software implementation and testing. Topics also include project\n",
            "management, project documentation and the development of communication skills through written documentation and oral\n",
            "presentation.\n",
            "CSC 132.     Computing Theory. 3 Units\n",
            "Prerequisite(s): CSC 28, CSC 130; CSC 130 may be taken concurrently.\n",
            "Term Typically Oﬀered: Fall, Spring\n",
            "Introduction to computing theory with examples and applications. Automata and formal languages; language recognition and\n",
            "generation; language hierarchy; deterministic and non-deterministic automata; regular expressions; pushdown automata and\n",
            "context-free grammars; properties of regular and context-free languages; Turing machines; computable and noncomputable\n",
            "functions; decidability.\n",
            "CSC 133.     Object-Oriented Computer Graphics Programming. 3 Units\n",
            "Prerequisite(s): CSC 130, CSC 131, not currently enrolled in CSC 133.\n",
            "Term Typically Oﬀered: Fall, Spring\n",
            "Introduction to computer graphics and to advanced topics in object-oriented programming. Mobile application development;\n",
            "implementation of event-driven systems; advanced object-oriented concepts such as inheritance and polymorphism;\n",
            "implementation of software design patterns; graphical user interface development; fundamentals of 2D graphics systems.\n",
            "Application of these topics to mobile programming.\n",
            "CSC 134.     Database Management Systems. 3 Units\n",
            "Prerequisite(s): CSC 130, and not currently enrolled in CSC 134\n",
            "Term Typically Oﬀered: Fall, Spring\n",
            "Entity-Relationship (ER) model; relational model; relational database design by ER-to-relational mapping; design of applications\n",
            "using database technology; SQL; schema deﬁnition, constraints, and queries; relational algebra; data normalization; access\n",
            "methods such as indexing and hash structures; introduction to transaction processing.\n",
            "CSC 135.     Computability and Formal Languages. 3 Units\n",
            "Prerequisite(s): CSC 28, CSC 35, CSC 130, and not currently enrolled in CSC 135.\n",
            "Term Typically Oﬀered: Fall, Spring\n",
            "Introduction to limits of computation and techniques for specifying and processing formal languages. Regular languages, regular\n",
            "expressions, ﬁnite automata, properties and limitations. Context-free languages, grammars, pushdown automata, properties and\n",
            "limitations. Applications in lexical and syntax analyses, including recursive-descent or table-driven parsing. Turing machines,\n",
            "halting problem, reductions. Introduction to functional programming and related programming language features.\n",
            "CSC 136.     Programming Languages. 3 Units\n",
            "Prerequisite(s): CSC 35, CSC 132.\n",
            "Term Typically Oﬀered: Fall, Spring\n",
            "Evolution and characteristics of programming languages. Scripting, procedural, object-oriented, functional and logic paradigms.\n",
            "Language speciﬁcation; interpreters and compilers; virtual machines; parsing techniques. Design and implementation of selected\n",
            "features of programming languages. Programming languages used in the development of intelligent systems, with introduction to\n",
            "Artiﬁcial Intelligence. Trends in programming languages.4/24/24, 11:46 PM Computer Science (CSC) < Sacramento State\n",
            "https://catalog.csus.edu/courses-a-z/csc/ 8/22CSC 137.     Computer Organization. 3 Units\n",
            "Prerequisite(s): CSC 28, CSC 60, CSC 130, not currently enrolled in CSC 137.\n",
            "Term Typically Oﬀered: Fall, Spring\n",
            "Introduction to computer organization and architecture. Combinational devices, sequential and synchronized circuits, memory\n",
            "organization, CPU architecture and organization, bus structures, input/output, interrupts, DMA, memory hierarchy, introduction to\n",
            "instruction level parallelism, multithreading, and multiprocessing.\n",
            "CSC 138.     Computer Networking Fundamentals. 3 Units\n",
            "Prerequisite(s): CSC 60, CSC 130. Not currently enrolled in CSC/CPE 138.\n",
            "Term Typically Oﬀered: Fall, Spring\n",
            "Overview, structure, models, concepts, principles and protocols of computer networking. Network architecture, ISO/OSI reference\n",
            "model, TCP/IP protocol stack, layering. Protocol, encapsulation, socket. HTTP, FTP, SMTP, DNS, P2P, TCP, UDP. Multiplexing and\n",
            "demultiplexing, reliable data transfer, ﬂow control, congestion control. Internet addressing, routing, forwarding, IP, ICMP. Error\n",
            "detection and correction, multiple access problem, LAN vs WAN, Ethernet, ARP, switching. Wireless standards. Network security,\n",
            "threats and attacks, defense and countermeasures.\n",
            "Cross Listed: CPE 138; only one may be counted for credit.\n",
            "CSC 139.     Operating System Principles. 3 Units\n",
            "Prerequisite(s): CSC 60 and CSC 130 and either CSC 137 or CPE 185. Not currently enrolled in CSC 139.\n",
            "Term Typically Oﬀered: Fall, Spring\n",
            "Concepts, principles, fundamental issues, organization and structure of contemporary operating systems. Topics include\n",
            "processes, threads, concurrency, parallelism on multi-processor and multi-core systems, CPU scheduling, inter- process\n",
            "communication and synchronization, deadlocks, real and virtual memory management, device management, ﬁle systems,\n",
            "security, and protection. Lecture three hours.\n",
            "CSC 140.     Advanced Algorithm Design and Analysis. 3 Units\n",
            "Prerequisite(s): CSC 130.\n",
            "Term Typically Oﬀered: Spring only\n",
            "Algorithm design using dynamic programming, randomization and greedy methods. Analysis using recurrence relations and\n",
            "amortization. String and network-ﬂow algorithms. NP-completeness, reductions, and approximation algorithms. Review of divide-\n",
            "and-conquer design and asymptotic notation.\n",
            "CSC 142.     Advanced Computer Organization. 3 Units\n",
            "Prerequisite(s): CSC 137 or CPE 166 and CPE 185.\n",
            "Term Typically Oﬀered: Fall, Spring\n",
            "Design and performance issues of computers. Instruction set architecture, computer arithmetic, processor design, survey of\n",
            "contemporary architectures, interfacing I/O devices, hierarchal memory design and analysis, parallelism and multiprocessing,\n",
            "distributed systems, techniques for enhancing performance, and an introduction to EDA tools for design and veriﬁcation of\n",
            "computers. Design and simulation of a microcomputer in an HDL.\n",
            "Note: Open to students with full CSC or CPE major standing only. Cross Listed: CPE 142; only one may be counted for credit.\n",
            "CSC 148.     Modeling and Experimental Design. 3 Units\n",
            "Prerequisite(s): MATH 26B or MATH 31, STAT 50 or ENGR 115, and proﬁciency in a programming language.\n",
            "Term Typically Oﬀered: Not oﬀered4/24/24, 11:46 PM Computer Science (CSC) < Sacramento State\n",
            "https://catalog.csus.edu/courses-a-z/csc/ 9/22Modeling and simulation techniques; Monte Carlo methods; queuing theory; model formulation, data collection and analysis,\n",
            "experimental design; model veriﬁcation and validation.\n",
            "CSC 151.     Compiler Construction. 3 Units\n",
            "Prerequisite(s): CSC 135\n",
            "Term Typically Oﬀered: Fall only\n",
            "Practical approach to compiler design and implementation. Organization of a compiler, algorithms for lexical, syntactic and\n",
            "semantic analysis, recursive descent and/or LALR parsing, organization of symbol tables, error detection and recovery, object\n",
            "code generation. Modular design will be emphasized.\n",
            "CSC 152.     Cryptography. 3 Units\n",
            "Prerequisite(s): CSC 60, CSC 130; and STAT 50 or ENGR 115\n",
            "Term Typically Oﬀered: Fall only\n",
            "Introduction to design and analysis of cryptographic systems. Symmetric cryptography: Block ciphers and secure hash functions.\n",
            "Asymmetric cryptography: Key exchange and public-key systems. Authentication and encryption in an adversarial model. Simple\n",
            "cryptanalysis. Protocol design and analysis.\n",
            "CSC 153.     Computer Forensics Principles and Practices. 3 Units\n",
            "Prerequisite(s): CSC 138 or CPE 138.\n",
            "Term Typically Oﬀered: Spring only\n",
            "Fundamentals of computer forensics, cyber-crime scene analysis and electronic discovery. Technical and formal methodology for\n",
            "conducting security incident investigations; ﬁle systems and storage analysis, data hiding techniques, network forensics; projects\n",
            "involving using, understanding, and designing digital forensics tools; anti-forensics; legal issues and standards.\n",
            "CSC 154.     Computer System Attacks and Countermeasures. 3 Units\n",
            "Prerequisite(s): CSC 138 or CPE 138.\n",
            "Term Typically Oﬀered: Fall only\n",
            "Introduction to network and computer security with a focus on how intruders gain access to systems, how they escalate\n",
            "privileges, and what steps can be taken to secure a system against such attacks. Topics include: Perimeter defenses, intrusion\n",
            "detection systems, social engineering, distributed denial of service attacks, buﬀer overﬂows, race conditions, trojans, and viruses.\n",
            "CSC 155.     Advanced Computer Graphics. 3 Units\n",
            "Prerequisite(s): CSC 133.\n",
            "Term Typically Oﬀered: Fall only\n",
            "Modeling, viewing, and rendering techniques in 3D computer graphics systems. Topics include modeling systems and data\n",
            "structures; polygonal and parametric surface representation; transformations, windowing, clipping and projections in 3D; hidden\n",
            "surface removal algorithms; techniques for realism such as shading, shadows, highlights, and texture; fractals and procedural\n",
            "models; introduction to animation; hardware support for computer graphics; and the application of graphics principles to virtual\n",
            "reality systems and 3D games.\n",
            "CSC 159.     Operating System Pragmatics. 3 Units\n",
            "Prerequisite(s): CSC 139.\n",
            "Term Typically Oﬀered: Fall, Spring\n",
            "Application of operating system principles to the design and implementation of a multitasking operating system. Students will\n",
            "write an operating system for a computer platform. Topics include: scheduling of processes, control and allocation of computer4/24/24, 11:46 PM Computer Science (CSC) < Sacramento State\n",
            "https://catalog.csus.edu/courses-a-z/csc/ 10/22resources, and user interfacing.\n",
            "Cross Listed: CPE 159; only one may be counted for credit.\n",
            "CSC 163.     Parallel Programming with GPUs. 3 Units\n",
            "Prerequisite(s): CSC 60, CSC 130, CSC 137; and either MATH 30 or MATH 26A.\n",
            "Term Typically Oﬀered: Fall, Spring\n",
            "Parallel programming with emphasis on developing GPU computing applications. Topics include the GPU architecture and\n",
            "programming model, mapping computations to parallel hardware, parallel computation patterns, parallel programming\n",
            "optimization techniques, and application case studies.\n",
            "CSC 165.     Computer Game Architecture and Implementation. 3 Units\n",
            "Prerequisite(s): CSC 130; CSC 133; MATH 26A or MATH 30; PHYS 5A or PHYS 11A.\n",
            "Term Typically Oﬀered: Spring only\n",
            "Architecture and implementation of computer game systems. Topics include game engine architecture; screen management and\n",
            "rendering control; geometric models; algorithms and data structures for spatial partitioning, occlusion, and collision detection;\n",
            "real-time interactive 3D graphics and animation techniques; behavioral control for autonomous characters; simulation of physical\n",
            "phenomena; sound and music in games; optimization techniques; multi-player games and networking; game development tools\n",
            "and environments. Substantial programming and project work.\n",
            "CSC 170.     Software Requirements and Speciﬁcation. 3 Units\n",
            "Prerequisite(s): CSC 131.\n",
            "Term Typically Oﬀered: Spring only – odd years\n",
            "Analysis and speciﬁcation of functional and non-functional requirements for real-time and non-real-time software systems in the\n",
            "context of a software development lifecycle. Determining customer and user software requirements and ensuring that\n",
            "speciﬁcations are correct, complete, and testable. Includes modeling techniques, methods for representing real-time\n",
            "requirements, and the use of Computer-Aided Software Engineering (CASE) tools to illustrate analysis concepts.\n",
            "CSC 171.     Software Engineering Project Management. 3 Units\n",
            "Prerequisite(s): CSC 131.\n",
            "Term Typically Oﬀered: Spring only – even years\n",
            "Fundamental issues in the management and economics of a software engineering project in the context of the software\n",
            "development lifecycle. Topics include: techniques for project planning (budgeting and scheduling), controlling (including quality\n",
            "assurance and conﬁguration management), organizing, staﬃng, and directing a software project (leadership and motivation); and\n",
            "contemporary issues in management.\n",
            "CSC 173.     Data Visualization. 3 Units\n",
            "Prerequisite(s): CSC 130, CSC 134, and STAT 50 or ENGR 115.\n",
            "Term Typically Oﬀered: Fall, Spring\n",
            "Design principles and concepts for visualizing data; current visualization systems and languages, exploratory data analysis,\n",
            "interaction techniques, high-dimensional data, network visualization, and text visualization.\n",
            "CSC 174.     Advanced Database Management Systems. 3 Units\n",
            "Prerequisite(s): CSC 131, CSC 134.\n",
            "Term Typically Oﬀered: Fall only4/24/24, 11:46 PM Computer Science (CSC) < Sacramento State\n",
            "https://catalog.csus.edu/courses-a-z/csc/ 11/22Enhanced Entity-Relationship (EER) modeling; relational database design based on EER; SQL views; integrity constraints and\n",
            "triggers; stored procedures and functions; database programming techniques; query processing and optimization; transactions\n",
            "concurrency and recovery techniques; relational decomposition and normalization algorithms; database schema and data\n",
            "security.\n",
            "CSC 176.     Database Architecture and Optimization. 3 Units\n",
            "Prerequisite(s): CSC 174.\n",
            "Term Typically Oﬀered: Spring only\n",
            "Advanced object-relational systems, advanced catalog systems, security mechanisms, distributed database processing,\n",
            "advanced schema design-partitioning, introduction to data warehousing and data mining, materialized views, Internet\n",
            "technologies, parallel query processing, system utilities, database tuning, DBA tools and techniques.\n",
            "CSC 177.     Data Analytics and Mining. 3 Units\n",
            "Prerequisite(s): CSC 134 and STAT 50 or ENGR 115.\n",
            "Term Typically Oﬀered: Spring only\n",
            "Theory and implementation of techniques for data analytics and mining with emphasis on big data. Topics include data cleaning,\n",
            "exploratory data analysis, data visualization, feature engineering, classiﬁcation, clustering, association rule mining, predictive\n",
            "model evaluation, parameter tuning, natural language processing, and selected advanced data mining topics. Design and\n",
            "implementation of systems using contemporary data analysis and mining programming libraries for automatic discovery of\n",
            "patterns and knowledge.\n",
            "CSC 179.     Software Testing and Quality Assurance. 3 Units\n",
            "Prerequisite(s): CSC 131.\n",
            "Term Typically Oﬀered: Spring only – even years\n",
            "Testing, veriﬁcation, validation, and control of real-time and non-real-time software systems in the context of a software\n",
            "development lifecycle. Topics include: unit, integration and system testing; veriﬁcation and validation (V&V), quality assurance,\n",
            "metrics, and conﬁguration management.\n",
            "CSC 180.     Intelligent Systems. 3 Units\n",
            "Prerequisite(s): MATH 26B or MATH 31; STAT 50 or ENGR 115; CSC 130 and CSC 135.\n",
            "Term Typically Oﬀered: Spring only\n",
            "Theory and implementation of a variety of techniques used to simulate intelligent behavior. Expert systems, fuzzy logic, neural\n",
            "networks, evolutionary computation, and two-player game-tree search will be covered in depth. Knowledge representation,\n",
            "pattern recognition, hybrid approaches, and handling uncertainty will also be discussed.\n",
            "CSC 190.     Senior Project - Part I. 2 Units\n",
            "Prerequisite(s): Senior status, WPJ score of 70+ or at least a C- in ENGL 109M/W, completed CSC 130, CSC 131, and four\n",
            "additional 3-unit upper-division CSC courses that fulﬁll the major requirements (excluding CSC 192-195, 198, and 199), not\n",
            "currently enrolled in CSC190.\n",
            "Term Typically Oﬀered: Fall, Spring\n",
            "The ﬁrst of a two-course sequence in which student teams undertake an industry-grade a project to develop and deliver a\n",
            "software product. Teams apply software engineering principles in the preparation of a software proposal, a project management\n",
            "plan, a software product backlog, and a high-ﬁdelity prototype. All technical work is published using guidelines modeled after\n",
            "IEEE documentation standards. Oral and written reports are required. Lecture one hour, laboratory three hours..\n",
            "CSC 191.     Senior Project - Part II. 2 Units\n",
            "Prerequisite(s): CSC 190, not currently enrolled in CSC191.4/24/24, 11:46 PM Computer Science (CSC) < Sacramento State\n",
            "https://catalog.csus.edu/courses-a-z/csc/ 12/22Term Typically Oﬀered: Fall, Spring\n",
            "Continuation of the team group project begun in CSC 190. Teams apply software engineering principles to the design,\n",
            "implementation, testing, and deployment of their software product. All technical work is published using guidelines modeled after\n",
            "IEEE documentation standards. Oral and written reports are required. Senior project is completed with the successful delivery,\n",
            "installation and demonstration of the software along with all approved documentation. Lecture one hour, laboratory three hours.\n",
            "CSC 192.     Career Planning. 1 Unit\n",
            "Prerequisite(s): CSC 130 and three additional upper-division courses that fulﬁll major requirements with a C- grade or better\n",
            "(excluding CSC 190-195, CSC 198, and CSC 199).\n",
            "Term Typically Oﬀered: Fall, Spring\n",
            "Designed to help students learn more about the labor market and opportunities in the Computer Science ﬁeld. Students will\n",
            "examine their interests, consider their goals, and learn how to conduct an eﬀective proactive job search. Strategies for long term\n",
            "career growth will be identiﬁed.\n",
            "Credit/No Credit\n",
            "CSC 193A.     Web Programming. 1 Unit\n",
            "Prerequisite(s): CSC 130 and not currently enrolled in CSC 193A\n",
            "Term Typically Oﬀered: Fall, Spring\n",
            "Introduction to the World Wide Web; relationship between clients and servers, how web pages are created using several\n",
            "technologies: HyperText Markup Language (HTML), Cascading Style Sheets (CSS), JavaScript, Asynchronous JavaScript and\n",
            "XML (Ajax), server-side web services, integrate web applications with databases.\n",
            "CSC 194.     Computer Science Seminar. 1 Unit\n",
            "Prerequisite(s): Upper division or graduate status in CSC.\n",
            "Term Typically Oﬀered: Spring only\n",
            "Series of weekly seminars on Computer Science topics. These topics cover subjects not normally taught in the course of a school\n",
            "year and they range from the very theoretical in Computer Science through applications to presentations by industry on working\n",
            "conditions, real world environment and job opportunities.\n",
            "Note: May be repeated for credit.\n",
            "CSC 195.     Fieldwork in Computer Science. 1 - 4 Units\n",
            "Prerequisite(s): Instructor permission.\n",
            "Term Typically Oﬀered: Fall, Spring\n",
            "Directed observations and work experience in computer science with ﬁrms in the industry or public agencies. Supervision is\n",
            "provided by the instructional staﬀ and the cooperating agencies.\n",
            "Note: Faculty approval required. May be repeated for credit.\n",
            "Credit/No Credit\n",
            "CSC 195A.     Professional Practice. 1 - 12 Units\n",
            "Prerequisite(s): Instructor permission.\n",
            "Term Typically Oﬀered: Fall, Spring\n",
            "Supervised employment in a professional engineering or computer science environment. Placement arranged through the Career\n",
            "Center.4/24/24, 11:46 PM Computer Science (CSC) < Sacramento State\n",
            "https://catalog.csus.edu/courses-a-z/csc/ 13/22Note: Requires satisfactory completion of the work assignment and a written report.\n",
            "Credit/No Credit\n",
            "CSC 195B.     Professional Practice. 1 - 12 Units\n",
            "Prerequisite(s): Instructor permission.\n",
            "Term Typically Oﬀered: Fall, Spring\n",
            "Supervised employment in a professional engineering or computer science environment. Placement arranged through the Career\n",
            "Center.\n",
            "Note: Requires satisfactory completion of the work assignment and a written report.\n",
            "Credit/No Credit\n",
            "CSC 196A.     Computational Biology. 3 Units\n",
            "Prerequisite(s): CSC 130, and STAT 50 or ENGR 115\n",
            "Term Typically Oﬀered: Fall, Spring, Summer\n",
            "Introduction to computational biology, computational methods with complex biological and biomedical challenges. Focus on\n",
            "biological problems and computational solutions. Coverage includes cell biology, sequencing technologies, statistical hypothesis\n",
            "testing, and omics data visualization. Emphasis on computational techniques for handling large-scale biological data like genome\n",
            "sequencing and microarray technologies. No prior biology knowledge required.\n",
            "CSC 196D.     Introduction to Blockchain. 3 Units\n",
            "Prerequisite(s): CSC130, Currently not enrolled in CSC196D\n",
            "Introduction to blockchain technologies, cryptocurrencies and distributed ledger. Topics include crypto wallet, crypto assets,\n",
            "blockchain programming languages, escrow services, cross-chain atomic swaps, and incentivization mechanism. Explore\n",
            "consensus fundamentals, byzantine generals' problems, the sybil attacks, and the strawman protocol. Design and evaluation of\n",
            "decentralized applications, blocks, transactions, and gas calculation. Analysis of scalable blockchain solutions. Development of\n",
            "decentralized application using blockchain networks.\n",
            "CSC 196P.     Cloud and Mobile Computing Pragmatics. 3 Units\n",
            "Prerequisite(s): CSC 134, CSC 138, and CSC 139\n",
            "Introduction to cloud computing. Cloud services. Deployment options. The installation, conﬁguration, and deployment of a cloud\n",
            "infrastructure based upon industrial standards. Step-by-step cloud setup as well as the development of scripts for automated\n",
            "deployment. The installation, building, deployment, testing, and provisioning of a multi-tier cloud based mobile application as a\n",
            "cloud service.\n",
            "CSC 196W.     Web Programming. 1 Unit\n",
            "Prerequisite(s): CSC 130\n",
            "Term Typically Oﬀered: Fall, Spring\n",
            "Introduction to the World Wide Web; relationship between clients and servers, how web pages are created using several\n",
            "technologies: HyperText Markup Language (HTML), Cascading Style Sheets (CSS), JavaScript, Asynchronous JavaScript and\n",
            "XML (Ajax), server-side web services, integrate web applications with databases.\n",
            "Note: Oﬀered Online\n",
            "CSC 196Z.     Advanced Computer Graphics II. 3 Units\n",
            "Prerequisite(s): CSC 155, not currently enrolled in CSC196Z or CSC 296Z\n",
            "Term Typically Oﬀered: Fall only4/24/24, 11:46 PM Computer Science (CSC) < Sacramento State\n",
            "https://catalog.csus.edu/courses-a-z/csc/ 14/22Introduction of 3D Computer Graphics (CG) algorithms to render computational imageries with better quality. Topics include 3D\n",
            "computer graphics concepts and representations, 3D model editing and rendering, acceleration structure for rendering, visual\n",
            "eﬀects, basic simulations and animations, and recent computer graphics techniques.\n",
            "CSC 198.     Co-Curricular Activities in Computer Science. 1 - 3 Units\n",
            "Term Typically Oﬀered: Fall, Spring\n",
            "Students will serve in leadership roles in computer science activities, provide tutoring or technical assistance in labs, assist\n",
            "instructors in grading coursework, or assist in other activities related to the subject matter and concerns of the department.\n",
            "Credit/No Credit\n",
            "CSC 199.     Special Problems. 1 - 3 Units\n",
            "Term Typically Oﬀered: Fall, Spring\n",
            "Individual projects or directed reading in speciﬁed topics in computer science.\n",
            "Note: Open only to students who appear competent to carry on individual work; approval of faculty supervisor and advisor\n",
            "required. May be repeated for credit.\n",
            "Credit/No Credit\n",
            "CSC 200.     Professional Writing in Computer Science. \u00003 Units\n",
            "Prerequisite(s): Graduate standing in Computer Science or Software Engineering\n",
            "Term Typically Oﬀered: Fall, Spring\n",
            "Immersion in the discourse of Computer Science: genres, literacies, stylistic conventions. Writing process, academic writing in\n",
            "various academic genres, revising, and editing. Tools for technical writing. Ethical issues in connection with scientiﬁc writing.\n",
            "CSC 201.     Programming Language Principles. 3 Units\n",
            "Prerequisite(s): Fully classiﬁed graduate status in Computer Science or Software Engineering.\n",
            "Term Typically Oﬀered: Fall, Spring\n",
            "Notations for the speciﬁcation of programming language syntax and semantics; attribute, translational, operational, axiomatic,\n",
            "algebraic, denotational, and action semantics. Applications of programming language syntax and programming language\n",
            "semantics. Use of meta languages to generate executable language deﬁnitions for language implementation, program\n",
            "transformation, program property analysis, and rapid software prototyping. Principles of logic, functional, and object-oriented\n",
            "programming languages.\n",
            "CSC 204.     Data Models for Database Management Systems. 3 Units\n",
            "Prerequisite(s): Fully classiﬁed graduate status in Computer Science or Software Engineering.\n",
            "Term Typically Oﬀered: Fall, Spring\n",
            "Database management system (DBMS) architecture; database ﬁle organizations and access methods; the relational model and\n",
            "relational algebra; SQL query language; introduction to query optimization; concurrent transaction processing and backup and\n",
            "recovery; applications using embedded SQL, object types, and stored procedures; database analysis and design notations: EER,\n",
            "UML, and XML; web database environments; database security and administration throughout course.\n",
            "Note: Not intended for students who have completed CSC 174.\n",
            "CSC 205.     Computer Systems Structure. 3 Units\n",
            "Prerequisite(s): Fully classiﬁed graduate status in Computer Science, Software Engineering or Computer Engineering.\n",
            "Term Typically Oﬀered: Fall, Spring4/24/24, 11:46 PM Computer Science (CSC) < Sacramento State\n",
            "https://catalog.csus.edu/courses-a-z/csc/ 15/22Overview of computer systems organization and design. Concepts of instruction set architecture, interactions of hardware-\n",
            "software interface, principles of performance analysis, processor design, instruction level parallelism, survey of contemporary\n",
            "architectures, hierarchical memory design and analysis, interfacing I/O devices, parallel processing and multiprocessing, and\n",
            "introduction to EDA tools and methodologies for computer systems design and veriﬁcation.\n",
            "CSC 206.     Algorithms And Paradigms. 3 Units\n",
            "Prerequisite(s): Fully classiﬁed graduate status in Computer Science or Software Engineering.\n",
            "Term Typically Oﬀered: Fall, Spring\n",
            "Design and analysis of algorithms. Classical design paradigms including greedy, divide-and-conquer, dynamic programming, and\n",
            "backtracking algorithmic methods. Alternative paradigms of computing including parallel and numerical approaches. Theoretical\n",
            "limits of computation. Selected additional topics such as genetic, approximation, and probabilistic algorithms.\n",
            "CSC 209.     Research Methodology. 1 Unit\n",
            "Prerequisite(s): Enrolled in at least 3 units of 200-level courses in Computer Science.\n",
            "Term Typically Oﬀered: Fall, Spring\n",
            "Research methodology, problem formulation, and problem solving. Orientation to the requirements for Master's Thesis or Project.\n",
            "Presentations on various research topics.\n",
            "Credit/No Credit\n",
            "CSC 212.     Bioinformatics: Data Integration and Algorithms. 3 Units\n",
            "Prerequisite(s): CSC 130, STAT 50, and graduate status; BIO 10 recommended.\n",
            "Term Typically Oﬀered: Fall, Spring\n",
            "The application of information technology and computer science to biological problems, in particular to biomedical science issues\n",
            "involving genetic sequences. Algorithms and their applications to DNA sequencing and protein database search; tools and\n",
            "techniques for data integration to transform genetic sequencing data into comprehensible information to study biological\n",
            "processes.\n",
            "CSC 214.     Knowledge-Based Systems. 3 Units\n",
            "Prerequisite(s): Fully classiﬁed graduate status in Computer Science or Software Engineering.\n",
            "Term Typically Oﬀered: Fall, Spring\n",
            "Historical perspective of knowledge-based systems and their relationship to artiﬁcial intelligence. Concepts of knowledge\n",
            "representation and automated reasoning. Survey of expert systems in a variety of applications in engineering and other ﬁelds.\n",
            "Implementation of expert systems and expert system shells.\n",
            "CSC 215.     Artiﬁcial Intelligence. 3 Units\n",
            "Prerequisite(s): Fully classiﬁed graduate status in Computer Science, Software Engineering or Computer Engineering.\n",
            "Term Typically Oﬀered: Fall, Spring\n",
            "Nature of intelligence and possibility of its realization on digital computers via algorithmic and heuristic programming methods.\n",
            "Informed and uninformed search, adversarial search, stochastic search, machine learning, regular and deep neural networks, and\n",
            "knowledge representation and inference over uncertainty. Computer vision topics. Natural language processing. Design and\n",
            "implementation of systems using contemporary programming libraries to solve a variety of artiﬁcial intelligence problems.\n",
            "CSC 219.     Machine Learning. 3 Units\n",
            "Prerequisite(s): Fully classiﬁed graduate status in Computer Science, Software Engineering or Computer Engineering.\n",
            "Term Typically Oﬀered: Fall, Spring4/24/24, 11:46 PM Computer Science (CSC) < Sacramento State\n",
            "https://catalog.csus.edu/courses-a-z/csc/ 16/22Introduction to major paradigms and methods of machine learning. Inductive learning, explanation-based learning, classiﬁer\n",
            "systems and genetic algorithms, analogical reasoning, case-based learning, connectionist learning, data driven approaches to\n",
            "empirical discovery, and basis of learning theory. Focus is on representative systems that have been built.\n",
            "CSC 230.     Software System Engineering. 3 Units\n",
            "Prerequisite(s): Fully classiﬁed graduate status in Computer Science or Software Engineering; or Computer Engineering and\n",
            "CSC 131.\n",
            "Term Typically Oﬀered: Fall, Spring\n",
            "Integration of managerial and technical activities in system engineering that control the cost, schedule, and technical achievement\n",
            "of the developing software system. Application of the principles, activities, tasks and procedures of system engineering and\n",
            "software engineering to the development of a software system.\n",
            "CSC 231.     Software Engineering Metrics. 3 Units\n",
            "Prerequisite(s): Fully classiﬁed graduate status in Computer Science or Software Engineering.\n",
            "Term Typically Oﬀered: Fall, Spring\n",
            "Software quality and quantity metrics in software engineering. Measurement theory and metrics. Metrics include management\n",
            "metrics, indirect and direct metrics and predictive metrics. Uses of metrics include software cost and schedule estimates, model\n",
            "calibration, and software productivity measurements. Metrics techniques include the Goal-Question-Metric approach, COCOMO,\n",
            "and function point analysis.\n",
            "CSC 232.     Software Requirements Analysis and Design. 3 Units\n",
            "Prerequisite(s): Fully classiﬁed graduate status in Computer Science or Software Engineering.\n",
            "Term Typically Oﬀered: Fall, Spring\n",
            "Software engineering requirements including elicitation, analysis, speciﬁcation, veriﬁcation and management. Emphasizes IEEE\n",
            "software engineering requirements and standards and the concept of operations (ConOps) document. Techniques include\n",
            "structured analysis, use cases and object-oriented analysis.\n",
            "CSC 233.     Advanced Software Engineering Project Management. 3 Units\n",
            "Prerequisite(s): Fully classiﬁed graduate status in Computer Science or Software Engineering.\n",
            "Term Typically Oﬀered: Fall, Spring\n",
            "Advanced methods and procedures for managing a software development project. Includes project planning, scheduling, and\n",
            "cost estimation, project organizational types, staﬃng and training considerations, leading and motivating computer personnel,\n",
            "and methods for measuring and controlling a project. Emphasizes IEEE software engineering management standards and keys to\n",
            "project success.\n",
            "CSC 234.     Software Veriﬁcation and Validation. 3 Units\n",
            "Prerequisite(s): Fully classiﬁed graduate status in Computer Science or Software Engineering; or Computer Engineering and\n",
            "CSC 131.\n",
            "Term Typically Oﬀered: Fall, Spring\n",
            "Veriﬁcation and validation (V & V) techniques to identify and resolve software problems and high-risk issues early in the software\n",
            "lifecycle. Application of V & V to all phases of the lifecycle process. Includes planning and reporting on the V & V eﬀort. Topics\n",
            "also include software quality assurance and software testing.\n",
            "CSC 235.     Software Architecture. 3 Units\n",
            "Prerequisite(s): Fully classiﬁed graduate status in Computer Science or Software Engineering.\n",
            "Term Typically Oﬀered: Fall, Spring4/24/24, 11:46 PM Computer Science (CSC) < Sacramento State\n",
            "https://catalog.csus.edu/courses-a-z/csc/ 17/22Software architecture styles. Concepts and activities for software architecture design. Notations, models, and speciﬁcation\n",
            "languages for software architecture design. Engineering discipline and guidance for software architecture design. Techniques,\n",
            "methods, tools for designing, building, analyzing, and evaluating software architecture. Object-oriented approach for software\n",
            "architecture design. Architecture-based software development. Management of software architecture design. Reuse of software\n",
            "architecture design.\n",
            "CSC 236.     Formal Methods in Secure Software Engineering. 3 Units\n",
            "Prerequisite(s): Fully classiﬁed graduate status in Computer Science or Software Engineering.\n",
            "Term Typically Oﬀered: Fall, Spring\n",
            "Basic concepts of formal methods in secure software engineering; formal methods based software development models and\n",
            "methodologies; formal methods for software system speciﬁcation, modeling, analysis, veriﬁcation, information assurance and\n",
            "security; systems and tools for the application of formal methods in secure software engineering; advances of formal methods in\n",
            "secure software engineering.\n",
            "CSC 237.     Microprocessor Systems Architecture. 3 Units\n",
            "Prerequisite(s): CSC 205.\n",
            "Term Typically Oﬀered: Fall, Spring\n",
            "Microprocessor/microcomputer architecture and hardware/software interfacing design. RISC v. CISC architecture in-depth, case\n",
            "studies of several popular commercial advanced 32-bit microprocessors. Microcomputer ﬁrmware architecture is discussed and\n",
            "illustrated with detailed examples. Term project in which students specify, design and build the hardware and ﬁrmware of a\n",
            "computer system.\n",
            "CSC 238.     Human-Computer Interface Design. 3 Units\n",
            "Prerequisite(s): Fully classiﬁed graduate status in Computer Science or Software Engineering.\n",
            "Term Typically Oﬀered: Fall, Spring\n",
            "Issues involved in design of interaction between people and computers. Insight and experience in key issues of HCI design.\n",
            "Emphasis on identifying issues and tradeoﬀs in interaction design. Development and evaluation of alternative solutions to design\n",
            "problems.\n",
            "CSC 239.     Advanced Operating Systems Principles and Design. 3 Units\n",
            "Prerequisite(s): Fully classiﬁed graduate status in Computer Science, Software Engineering, or Computer Engineering.\n",
            "Term Typically Oﬀered: Fall, Spring\n",
            "Advanced concepts of concurrent processes, concurrent programming and operating systems. Virtual memory management\n",
            "systems, deadlock, ﬁle systems, operating system performance measurement and evaluation, device driver development.\n",
            "CSC 242.     Computer-Aided Systems Design and Veriﬁcation. 3 Units\n",
            "Prerequisite(s): CSC 205 or CSC/EEE 273.\n",
            "Term Typically Oﬀered: Fall, Spring\n",
            "Design and veriﬁcation methodology using hardware description and veriﬁcation languages (HDVLs). Advances in IC chip design;\n",
            "introduction to HDVLs such as System Verilog; HDVL language basics including data types, arrays, structures, unions, procedural\n",
            "blocks, tasks, functions, and interface concepts; design hierarchy; veriﬁcation planning and productivity; veriﬁcation\n",
            "infrastructure; guidelines for eﬃcient veriﬁcation of large designs; assertion-based veriﬁcation; comprehensive computer-related\n",
            "design projects.\n",
            "CSC 244.     Database System Design. 3 Units\n",
            "Prerequisite(s): Fully classiﬁed graduate status in Computer Science or Software Engineering4/24/24, 11:46 PM Computer Science (CSC) < Sacramento State\n",
            "https://catalog.csus.edu/courses-a-z/csc/ 18/22Term Typically Oﬀered: Fall, Spring\n",
            "SQL views, integrity constraints and triggers, stored procedures and functions. Advanced topics in database system design: an\n",
            "algebra for queries, query processing algorithms, query compiler, query optimization, transaction management, recovery,\n",
            "concurrency control. Special topics on data management.\n",
            "CSC 245.     Performance Modeling and Evaluation. 3 Units\n",
            "Prerequisite(s): Fully classiﬁed graduate status in Computer Science or Software Engineering.\n",
            "Term Typically Oﬀered: Fall, Spring\n",
            "Performance and cost measures; software and hardware performance monitors; data reduction and evaluation; analytic and\n",
            "simulation models of hardware and program behavior; performance-cost trade-oﬀs and resource allocation.\n",
            "CSC 250.     Computer Security. 3 Units\n",
            "Prerequisite(s): Fully classiﬁed graduate standing in Computer Science, Computer Engineering, or Software Engineering.\n",
            "Term Typically Oﬀered: Fall, Spring\n",
            "Principles and technologies behind computer security. Introduction to encryption and decryption; security mechanisms in\n",
            "computer programs, operating systems, databases, and networks; administration of computer security, and legal and ethical\n",
            "issues.\n",
            "CSC 251.     Principles of Compiler Design. 3 Units\n",
            "Prerequisite(s): CSC 151 or CSC 201.\n",
            "Term Typically Oﬀered: Fall, Spring\n",
            "Programming language translation, lexical analysis, syntax analysis including LR, LALR, and predictive techniques. Semantic\n",
            "analysis including semantic speciﬁcation. Code generation and optimization including control and data ﬂow analysis. Storage\n",
            "management. Error detection and recovery.\n",
            "CSC 252.     Cryptography Theory and Practice. 3 Units\n",
            "Prerequisite(s): Fully classiﬁed graduate status in Computer Science, Computer Engineering, or Software Engineering.\n",
            "Term Typically Oﬀered: Fall, Spring\n",
            "Introduction to design and analysis of cryptographic systems. Symmetric cryptography: block ciphers and secure hash functions.\n",
            "Asymmetric cryptography: key exchange and public-key systems. Authentication and encryption in an adversarial model. Simple\n",
            "cryptanalysis. Protocol design and analysis.\n",
            "CSC 253.     Computer Forensics. 3 Units\n",
            "Prerequisite(s): Fully classiﬁed graduate status in Computer Science, Computer Engineering, or Software Engineering.\n",
            "Term Typically Oﬀered: Fall, Spring\n",
            "Structured security incident investigations internal and external; emphasis on analysis of electronic evidence and proper audit;\n",
            "utilization of scientiﬁc aids in obtaining information from computing devices; legal electronic evidence.\n",
            "CSC 254.     Network Security. 3 Units\n",
            "Prerequisite(s): Fully classiﬁed graduate status in Computer Science, Computer Engineering, or Software Engineering.\n",
            "Term Typically Oﬀered: Fall, Spring\n",
            "In-depth study of network security problems and discussion of potential solutions. Topics include: network vulnerabilities and\n",
            "attacks, secure communication, Internet security protocols and tools to defend against network attacks, network intrusion\n",
            "detection, and wireless network security. Survey and demonstration of software tools used for network security.4/24/24, 11:46 PM Computer Science (CSC) < Sacramento State\n",
            "https://catalog.csus.edu/courses-a-z/csc/ 19/22CSC 255.     Computer Networks. 3 Units\n",
            "Prerequisite(s): Fully classiﬁed graduate status in Computer Science, Software Engineering, or a Computer Engineering.\n",
            "Term Typically Oﬀered: Fall, Spring\n",
            "Computer networking fundamentals with emphasis on higher level protocols and functions. Network design considerations,\n",
            "software design and layering concepts, interface design, routing and congestion control algorithms, internetworking, transport\n",
            "protocol design, and end-to-end communication, session and application protocols. Speciﬁc examples of commercial and\n",
            "international standards.\n",
            "CSC 258.     Distributed Systems. 3 Units\n",
            "Prerequisite(s): Fully classiﬁed graduate status in Computer Science, Software Engineering, or Computer Engineering.\n",
            "Term Typically Oﬀered: Fall, Spring\n",
            "Distributed system architectures, distributed object model, component-based design, time and global states, coordination and\n",
            "agreement, distributed transactions and concurrency control, replication, security, distributed multimedia systems, message\n",
            "passing and distributed shared memory, Web services and Service-Oriented Architecture (SOA), Cloud and Ubiquitous\n",
            "computing. Emphasis on scalability, manageability, security, and dependability of distributed systems.\n",
            "CSC 273.     Hierarchical Digital Design Methodology. 3 Units\n",
            "Prerequisite(s): CSC 205, CPE 64, or equivalent.\n",
            "Term Typically Oﬀered: Fall, Spring\n",
            "Advanced logic modeling, simulation, and synthesis techniques. Topics include modeling, simulation, and synthesis techniques,\n",
            "using Hardware Description Language (HDL's), Register Transfer Level (RTL) representation, high-level functional partitioning,\n",
            "functional veriﬁcation and testing, computer-aided logic synthesis, logical veriﬁcation and testing, timing and delay analysis,\n",
            "automated place and route process, and design with Application Speciﬁc Integrated Circuits (ASICs) and programmable logic.\n",
            "Cross Listed: EEE 273; only one may be counted for credit.\n",
            "CSC 275.     Advanced Data Communication Systems. 3 Units\n",
            "Prerequisite(s): Fully classiﬁed graduate status in Computer Science, Software Engineering, or Computer Engineering.\n",
            "Term Typically Oﬀered: Fall, Spring\n",
            "Fundamental concepts, principles and issues of data communication systems. The ISO/OSI reference model is used as a vehicle\n",
            "for discussion and emphasizes the lower layer of the model. Speciﬁc topics include: motivation and objectives, layered\n",
            "architectures, physical layer principles and protocols, data link and medium access control principles and protocols, circuit,\n",
            "packet and cell switching, local area network design principles and performance comparisons, high speed networking,\n",
            "introduction to wide area network architectures. Typical examples and standards are cited for point-to-point, satellite, packet\n",
            "radio and local area networks.\n",
            "CSC 280.     Advanced Computer Architecture. 3 Units\n",
            "Prerequisite(s): CSC 205 and fully classiﬁed graduate status in Computer Science or Software Engineering.\n",
            "Term Typically Oﬀered: Fall, Spring\n",
            "Introduction to parallel architecture covering computer classiﬁcation schemes, ﬁne and coarse grain parallelism, processor\n",
            "interconnections, and performance issues of multiprocessor systems. Includes parallel and pipelined instruction execution,\n",
            "structure of multiprocessor systems, memory hierarchy and coherency in shared memory systems, programming issues of\n",
            "multiprocessor systems, arithmetic pipeline design, and design for testability.\n",
            "Cross Listed: EEE 280; only one may be counted for credit.4/24/24, 11:46 PM Computer Science (CSC) < Sacramento State\n",
            "https://catalog.csus.edu/courses-a-z/csc/ 20/22CSC 288.     Special Topics in Computer Science - Software Engineering. 3 Units\n",
            "Term Typically Oﬀered: Fall, Spring\n",
            "Contemporary topics in computer science will be oﬀered as needed. Topics oﬀered:\n",
            "CSC 290.     Preparation for Culminating Experience. 3 Units\n",
            "Prerequisite(s): Fully classiﬁed, CSC 200; may be taken concurrently.\n",
            "Term Typically Oﬀered: Fall, Spring\n",
            "Planning, preparing, and conducting the thesis or project work for the completion of culminating experience under the supervision\n",
            "of a faculty advisor. May be repeated, but only three (3) units count toward the master¿s degree.\n",
            "CSC 295.     Fieldwork. 1 - 3 Units\n",
            "Term Typically Oﬀered: Fall, Spring\n",
            "Directed observations and work experience in computer science with ﬁrms in the industry or public agencies. Supervision is\n",
            "provided by the instructional staﬀ and the cooperating agencies.\n",
            "Note: Faculty approval required. May be repeated for credit.\n",
            "Credit/No Credit\n",
            "CSC 296P.     Theory and Practice of Parallel Programming with GPUs. 3 Units\n",
            "Prerequisite(s): CSC 137, fully classiﬁed graduate status in Computer Science; and not currently enrolled in CSC 163 or\n",
            "CSC 296P.\n",
            "Term Typically Oﬀered: Fall, Spring\n",
            "Theory and practice of parallel programming with emphasis on developing GPU computing applications. Topics include the GPU\n",
            "architecture and programming model, mapping computations to parallel hardware, parallel computation patterns, parallel\n",
            "programming optimization techniques, and application case studies. Evaluation and discussion of the prominent research in\n",
            "selected GPU computing methodologies and their utilization.\n",
            "Note: Students cannot receive credit for both CSC 163 and CSC 296P.\n",
            "CSC 296R.     Computer Vision. 3 Units\n",
            "Prerequisite(s): CSC 206, and Math 35 or Math 100; not currently enrolled in CSC 296R\n",
            "Term Typically Oﬀered: Fall, Spring\n",
            "Topics in computer vision including fundamentals of image formation, image transformations and rotation, Fourier transform and\n",
            "frequencies, lighting and optics, ﬁltering, edge and line detection and Hough transform, feature detection and matching, a brief\n",
            "introduction to machine learning and classiﬁers, recognition, large-scale retrieval, object detection, and face recognition.\n",
            "Mathematical fundamentals and methods, design and implementation of various computer vision applications.\n",
            "CSC 296T.     Fundamentals in Cybersecurity for Teachers. 3 Units\n",
            "Prerequisite(s): Education, teaching, and/or professional experience qualiﬁed for admission into the National Cybersecurity\n",
            "Teaching Academy program at Sacramento State.\n",
            "Term Typically Oﬀered: Fall, Spring, Summer\n",
            "Introduction to network and computer security with a focus on how intruders gain access to systems, how they escalate\n",
            "privileges, and what steps can be taken to secure a system against such attacks. Topics include: computer networking basics,\n",
            "operating system basics, vulnerability and attacks, intrusion penetration, cyber defenses, network hardening, system hardening,\n",
            "security administration. This course is designed for K-12 teachers, and does not meet regular degree requirements in Computer\n",
            "Science, Software Engineering, or Computer Engineering.4/24/24, 11:46 PM Computer Science (CSC) < Sacramento State\n",
            "https://catalog.csus.edu/courses-a-z/csc/ 21/22CSC 296U.     Introduction to Digital Forensics for Teachers. 3 Units\n",
            "Prerequisite(s): Education, teaching, and/or professional experience qualiﬁed for admission into the National Cybersecurity\n",
            "Teaching Academy program at Sacramento State.\n",
            "Term Typically Oﬀered: Fall, Spring, Summer\n",
            "Introduction to computer forensics, cyber-crime scene analysis and electronic discovery. Digital forensics related legal issues,\n",
            "procedures and standards. Technical methodologies for setting up forensic workstations; data acquisition; ﬁle systems and\n",
            "storage analysis for Linux, Mac and Windows systems; data hiding techniques; graphics ﬁle recovery; network forensics; and\n",
            "mobile forensics. Hands-on activities for using and understanding digital forensic tools. This course is designed for K-12\n",
            "teachers, and does not meet regular degree requirements in Computer Science, Software Engineering, or Computer Engineering.\n",
            "CSC 296V.     Cybersecurity Teaching Methods for Teachers. 3 Units\n",
            "Prerequisite(s): Education, teaching, and/or professional experience qualiﬁed for admission into the National Cybersecurity\n",
            "Teaching Academy program at Sacramento State, and CSC 296T.\n",
            "Term Typically Oﬀered: Fall, Spring, Summer\n",
            "Introduction to existing generally accepted guidelines and frameworks (such as HSCCG, CSEC, CAE Knowledge Units, NCWF) in\n",
            "the discipline of cybersecurity. Methods for teaching cybersecurity to transform cybersecurity subject matter, with pedagogical\n",
            "content knowledge, into student learning. Topics include: culturally-relevant methods, scaﬀolding knowledge, diﬀerentiation,\n",
            "assessment, and cybersecurity instructional technologies (ranges, CTFs, competitions, and unplugged activities). This course is\n",
            "designed for K-12 teachers, and does not meet regular degree requirements in Computer Science, Software Engineering, or\n",
            "Computer Engineering.\n",
            "CSC 296W.     Cybersecurity Practicum for Teachers. 3 Units\n",
            "Prerequisite(s): Education, teaching, and/or professional experience qualiﬁed for admission into the National Cybersecurity\n",
            "Teaching Academy program at Sacramento State, CSC 296T and CSC 296U.\n",
            "Term Typically Oﬀered: Fall, Spring, Summer\n",
            "Exposure to cybersecurity operations through service projects, research, or industry experience. This course is designed for\n",
            "students to work with industry or the community in a cybersecurity operations environment to apply knowledge in the\n",
            "development, implementation, testing and documentation of security controls. This course is designed for K-12 teachers, and\n",
            "does not meet regular degree requirements in Computer Science, Software Engineering, or Computer Engineering.\n",
            "CSC 296Z.     Computer Graphics Theories and Algorithms. 3 Units\n",
            "Prerequisite(s): CSC 155, fully classiﬁed graduate status in Computer Science, not currently enrolled in CSC196Z or CSC 296Z\n",
            "Term Typically Oﬀered: Fall only\n",
            "Advanced theories and concepts of 3D computer graphics technique to render realistic computational imageries. Topics include\n",
            "geometry processing, computational geometry, physical-based rendering, particle system, mass-spring model, forward and\n",
            "inverse kinematics and recent graphics technologies. Survey of the latest research works in computer graphics.\n",
            "CSC 299.     Special Problems. 1 - 3 Units\n",
            "Term Typically Oﬀered: Fall, Spring\n",
            "Any properly qualiﬁed student who wishes to pursue a problem of his own choice may do so if the proposed subject is\n",
            "acceptable to the member of the staﬀ with whom he/she works and to his/her advisor.\n",
            "Note: May be repeated for credit.\n",
            "Credit/No Credit\n",
            "CSC 500.     Master's Thesis. 1 - 5 Units4/24/24, 11:46 PM Computer Science (CSC) < Sacramento State\n",
            "https://catalog.csus.edu/courses-a-z/csc/ 22/22Prerequisite(s): CSC 209; advanced to candidacy.\n",
            "Term Typically Oﬀered: Fall, Spring\n",
            "Completion of a thesis approved for the Master's degree.\n",
            "Note: May be repeated for credit.\n",
            "CSC 500C.     Master's Thesis Continuous Enrollment. 1 Unit\n",
            "Prerequisite(s): CSC 500\n",
            "Term Typically Oﬀered: Fall, Spring\n",
            "Continuation of a thesis approved for the Master's degree.\n",
            "Note: May be repeated for credit\n",
            "Credit/No Credit\n",
            "CSC 502.     Master's Project. 1 - 2 Units\n",
            "Prerequisite(s): CSC 209; advanced to candidacy.\n",
            "Term Typically Oﬀered: Fall, Spring\n",
            "Completion of a project approved for the Master's degree.\n",
            "CSC 502C.     Master's Project Continuous Enrollment. 1 Unit\n",
            "Prerequisite(s): CSC 502\n",
            "Term Typically Oﬀered: Fall, Spring\n",
            "Continuation of a project approved for the Master's degree.\n",
            "Note: May be repeated for credit.\n",
            "Credit/No Credit\n"
          ]
        }
      ],
      "source": [
        "raws_text = ''\n",
        "pdf_readers = PdfReader(pdf_paths)\n",
        "for i, page in enumerate(pdf_readers.pages):\n",
        "    content = page.extract_text()\n",
        "    if content:\n",
        "        raws_text += content\n",
        "\n",
        "# Print the extracted text\n",
        "print(raws_text)"
      ]
    },
    {
      "cell_type": "code",
      "execution_count": null,
      "metadata": {
        "id": "JazXpqY3BA-C"
      },
      "outputs": [],
      "source": []
    },
    {
      "cell_type": "code",
      "execution_count": 11,
      "metadata": {
        "colab": {
          "base_uri": "https://localhost:8080/"
        },
        "id": "197CsfafUJ8Q",
        "outputId": "8daedfb4-e3ad-4e97-fee6-63216c95ed09"
      },
      "outputs": [
        {
          "name": "stderr",
          "output_type": "stream",
          "text": [
            "WARNING:langchain_text_splitters.base:Created a chunk of size 733, which is longer than the specified 556\n"
          ]
        }
      ],
      "source": [
        "# We need to split the text using Character Text Split such that it sshould not increse token size\n",
        "text_splitter = CharacterTextSplitter(\n",
        "    separator = \"\\n\",\n",
        "    chunk_size = 556,\n",
        "    chunk_overlap  = 200,\n",
        "    length_function = len,\n",
        ")\n",
        "texts = text_splitter.split_text(raw_text)"
      ]
    },
    {
      "cell_type": "code",
      "execution_count": 12,
      "metadata": {
        "id": "zhybw586ws9t"
      },
      "outputs": [],
      "source": [
        "# Process Excel data\n",
        "excel_chunks = []\n",
        "for index, row in excel_df.iterrows():\n",
        "    # Process each row of the Excel data (example: concatenate specific columns)\n",
        "    excel_chunks.append(\" \".join(row.values))\n"
      ]
    },
    {
      "cell_type": "code",
      "execution_count": 13,
      "metadata": {
        "id": "Kzc8a3b_Gjkf"
      },
      "outputs": [],
      "source": [
        "# We need to split the text using Character Text Split such that it sshould not increse token size\n",
        "text_splitter = CharacterTextSplitter(\n",
        "    separator = \"\\n\",\n",
        "    chunk_size = 556,\n",
        "    chunk_overlap  = 200,\n",
        "    length_function = len,\n",
        ")\n",
        "textx = text_splitter.split_text(raws_text)"
      ]
    },
    {
      "cell_type": "code",
      "execution_count": null,
      "metadata": {
        "id": "lD0TgRFVGjsy"
      },
      "outputs": [],
      "source": []
    },
    {
      "cell_type": "code",
      "execution_count": 14,
      "metadata": {
        "colab": {
          "base_uri": "https://localhost:8080/"
        },
        "id": "PO5TsmD7w65q",
        "outputId": "a6ad17c6-ff87-49f2-d96e-88e03411061a"
      },
      "outputs": [
        {
          "name": "stdout",
          "output_type": "stream",
          "text": [
            "\n",
            "Excel Chunks:\n",
            "Chunk 1: Jinsong Ouyang Specialization not found ouyangj@ecs.csus.edu RVR 3018G\n",
            "Chunk 2: Anna Baynes Specialization not found abaynes@ecs.csus.edu RVR 3018H\n",
            "Chunk 3: Haiquan (Victor) Chen Specialization not found chenh@ecs.csus.edu RVR 5018 / 3018I\n",
            "Chunk 4: Behnam Arad Specialization not found arad@csus.edu RVR 5044\n",
            "Chunk 5: Syed Badruddoja Computer Systems, Security, and Artificial Intelligence badruddoja@csus.edu RVR 3006\n",
            "Chunk 6: Anna Baynes Specialization not found abaynes@ecs.csus.edu RVR 3004\n",
            "Chunk 7: Haiquan (Victor) Chen Specialization not found chenh@ecs.csus.edu RVR 5018\n",
            "Chunk 8: Nikrouz Faroughi Specialization not found faroughi@csus.edu RVR 5004\n",
            "Chunk 9: V. Scott Gordon Specialization not found gordonvs@ecs.csus.edu RVR 5040\n",
            "Chunk 10: Ying Jin Specialization not found jiny@ecs.csus.edu RVR 5038\n",
            "Chunk 11: Ted Krovetz Specialization not found krovetz@ecs.csus.edu RVR 5012\n",
            "Chunk 12: Kin Chung Kwan Computer Graphics & Game Engineering kwan@csus.edu RVR 5016\n",
            "Chunk 13: Pinar Muyan-Ozcelik Specialization not found pmuyan@ecs.csus.edu RVR 5008\n",
            "Chunk 14: Jinsong Ouyang Specialization not found ouyangj@ecs.csus.edu RVR 5046\n",
            "Chunk 15: Hady (Parham) Ahmady Phoulady Specialization not found phoulady@csus.edu RVR 5003\n",
            "Chunk 16: Ahmed Salem Specialization not found salema@ecs.csus.edu RVR 5005\n",
            "Chunk 17: Ghassan Shobaki Specialization not found shobaki@ecs.csus.edu RVR 5020\n",
            "Chunk 18: Bang Tran Artificial Intelligence, Machine Learning, & Data Mining s.tran@csus.edu RVR 5042\n",
            "Chunk 19: Cui Zhang Specialization not found zhangc@ecs.csus.edu RVR 5052\n",
            "Chunk 20: Isaac Ghansah Specialization not found ghansah@ecs.csus.edu Location not found\n",
            "Chunk 21: Meiliu Lu Specialization not found mei@ecs.csus.edu Location not found\n"
          ]
        }
      ],
      "source": [
        "# Print Excel chunks\n",
        "print(\"\\nExcel Chunks:\")\n",
        "for i, chunk in enumerate(excel_chunks):\n",
        "    print(f\"Chunk {i + 1}: {chunk}\")"
      ]
    },
    {
      "cell_type": "code",
      "execution_count": 15,
      "metadata": {
        "colab": {
          "base_uri": "https://localhost:8080/"
        },
        "id": "rC2S4nWmab67",
        "outputId": "86fc5bb3-fea7-485e-8d45-fdfb4670e7da"
      },
      "outputs": [
        {
          "data": {
            "text/plain": [
              "250"
            ]
          },
          "execution_count": 15,
          "metadata": {},
          "output_type": "execute_result"
        }
      ],
      "source": [
        "len(texts)"
      ]
    },
    {
      "cell_type": "code",
      "execution_count": 16,
      "metadata": {
        "colab": {
          "base_uri": "https://localhost:8080/"
        },
        "id": "yjB6rBmFahvD",
        "outputId": "9fef3b7c-fd3f-4dfe-9ca8-5a1c4647f011"
      },
      "outputs": [
        {
          "name": "stderr",
          "output_type": "stream",
          "text": [
            "/usr/local/lib/python3.10/dist-packages/langchain_core/_api/deprecation.py:119: LangChainDeprecationWarning: The class `OpenAIEmbeddings` was deprecated in LangChain 0.0.9 and will be removed in 0.2.0. An updated version of the class exists in the langchain-openai package and should be used instead. To use it run `pip install -U langchain-openai` and import as `from langchain_openai import OpenAIEmbeddings`.\n",
            "  warn_deprecated(\n"
          ]
        }
      ],
      "source": [
        "# Download embeddings from OpenAI\n",
        "embeddings = OpenAIEmbeddings()"
      ]
    },
    {
      "cell_type": "code",
      "execution_count": 41,
      "metadata": {
        "id": "_risSLzpdAVk"
      },
      "outputs": [],
      "source": [
        "document_search = FAISS.from_texts(texts, embeddings)"
      ]
    },
    {
      "cell_type": "code",
      "execution_count": 42,
      "metadata": {
        "id": "poVtiFjyxPBe"
      },
      "outputs": [],
      "source": [
        "\n",
        "document_search = FAISS.from_texts(excel_chunks, embeddings)\n"
      ]
    },
    {
      "cell_type": "code",
      "execution_count": 50,
      "metadata": {
        "id": "iYO6I4jTGrby"
      },
      "outputs": [],
      "source": [
        "document_search = FAISS.from_texts(textx, embeddings)"
      ]
    },
    {
      "cell_type": "code",
      "execution_count": 51,
      "metadata": {
        "colab": {
          "base_uri": "https://localhost:8080/"
        },
        "id": "MyPl7ye5dJXI",
        "outputId": "c86f81e1-1af0-47fb-a572-57bbb134b098"
      },
      "outputs": [
        {
          "data": {
            "text/plain": [
              "<langchain_community.vectorstores.faiss.FAISS at 0x79e99d555390>"
            ]
          },
          "execution_count": 51,
          "metadata": {},
          "output_type": "execute_result"
        }
      ],
      "source": [
        "document_search"
      ]
    },
    {
      "cell_type": "code",
      "execution_count": 52,
      "metadata": {
        "id": "0eqjJUXZdMQA"
      },
      "outputs": [],
      "source": [
        "from langchain.chains.question_answering import load_qa_chain\n",
        "from langchain.llms import OpenAI"
      ]
    },
    {
      "cell_type": "code",
      "execution_count": 46,
      "metadata": {
        "id": "CZWpX2F0dxLI"
      },
      "outputs": [],
      "source": [
        "chain = load_qa_chain(OpenAI(), chain_type=\"stuff\")"
      ]
    },
    {
      "cell_type": "code",
      "execution_count": 53,
      "metadata": {
        "colab": {
          "base_uri": "https://localhost:8080/",
          "height": 35
        },
        "id": "BaYMFlGsdzv5",
        "outputId": "042b0e7d-ea27-46ed-fad6-b160f29339aa"
      },
      "outputs": [
        {
          "data": {
            "application/vnd.google.colaboratory.intrinsic+json": {
              "type": "string"
            },
            "text/plain": [
              "' Sacramento State, 6000 J St, Sacramento, CA 95819'"
            ]
          },
          "execution_count": 53,
          "metadata": {},
          "output_type": "execute_result"
        }
      ],
      "source": [
        "query = \"California State University Address\"\n",
        "docs = document_search.similarity_search(query)\n",
        "chain.run(input_documents=docs, question=query)"
      ]
    },
    {
      "cell_type": "code",
      "execution_count": null,
      "metadata": {
        "id": "0t60SCuSPDYA"
      },
      "outputs": [],
      "source": []
    },
    {
      "cell_type": "code",
      "execution_count": 54,
      "metadata": {
        "colab": {
          "base_uri": "https://localhost:8080/",
          "height": 53
        },
        "id": "Xfin7g9gd8DZ",
        "outputId": "6606231f-7b8b-4e99-f4eb-890ffdd18db1"
      },
      "outputs": [
        {
          "data": {
            "application/vnd.google.colaboratory.intrinsic+json": {
              "type": "string"
            },
            "text/plain": [
              "\" I don't know the answer to this question, as it is not clear what specific information is being requested. Please provide more context or clarify the question.\""
            ]
          },
          "execution_count": 54,
          "metadata": {},
          "output_type": "execute_result"
        }
      ],
      "source": [
        "query = \"Admission Email\"\n",
        "docs = document_search.similarity_search(query)\n",
        "chain.run(input_documents=docs, question=query)"
      ]
    },
    {
      "cell_type": "code",
      "execution_count": 62,
      "metadata": {
        "colab": {
          "base_uri": "https://localhost:8080/",
          "height": 71
        },
        "id": "QZo6oNG8eNp6",
        "outputId": "3f405aba-a5db-4e06-90b3-d9599db94620"
      },
      "outputs": [
        {
          "data": {
            "application/vnd.google.colaboratory.intrinsic+json": {
              "type": "string"
            },
            "text/plain": [
              "' Career and placement services are resources provided by educational institutions to assist students with finding and securing employment opportunities. They may include coordinating employer visits to campus, providing career counseling and resources, and offering assistance with resume writing and job searching. '"
            ]
          },
          "execution_count": 62,
          "metadata": {},
          "output_type": "execute_result"
        }
      ],
      "source": [
        "query = \"yes\"\n",
        "docs = document_search.similarity_search(query)\n",
        "chain.run(input_documents=docs, question=query)"
      ]
    },
    {
      "cell_type": "code",
      "execution_count": 61,
      "metadata": {
        "colab": {
          "base_uri": "https://localhost:8080/",
          "height": 53
        },
        "id": "T7Ek3UH9efZj",
        "outputId": "de3fdc18-ed8f-4605-e724-501fc160f27e"
      },
      "outputs": [
        {
          "data": {
            "application/vnd.google.colaboratory.intrinsic+json": {
              "type": "string"
            },
            "text/plain": [
              "' Admission assistance, support, orientation, and other services expressly for adults who have started college for the first time, or who are re-entering after a lapse of a few years.'"
            ]
          },
          "execution_count": 61,
          "metadata": {},
          "output_type": "execute_result"
        }
      ],
      "source": [
        "query = \"Adult student services\"\n",
        "docs = document_search.similarity_search(query)\n",
        "chain.run(input_documents=docs, question=query)"
      ]
    },
    {
      "cell_type": "code",
      "execution_count": 180,
      "metadata": {
        "colab": {
          "base_uri": "https://localhost:8080/",
          "height": 35
        },
        "id": "2s0aihddtIba",
        "outputId": "fd867d64-255d-470c-f6a4-ee4935f27a0f"
      },
      "outputs": [
        {
          "data": {
            "application/vnd.google.colaboratory.intrinsic+json": {
              "type": "string"
            },
            "text/plain": [
              "' kwan@csus.edu'"
            ]
          },
          "execution_count": 180,
          "metadata": {},
          "output_type": "execute_result"
        }
      ],
      "source": [
        "query = \"Professor Kin Chung Kwan Email\"\n",
        "docs = document_search.similarity_search(query)\n",
        "chain.run(input_documents=docs, question=query)"
      ]
    },
    {
      "cell_type": "code",
      "execution_count": 181,
      "metadata": {
        "colab": {
          "base_uri": "https://localhost:8080/",
          "height": 35
        },
        "id": "9vojc-Cx0HiL",
        "outputId": "852b172a-c0e1-4ba3-c603-2fb259bf4955"
      },
      "outputs": [
        {
          "data": {
            "application/vnd.google.colaboratory.intrinsic+json": {
              "type": "string"
            },
            "text/plain": [
              "' Computer Graphics & Game Engineering'"
            ]
          },
          "execution_count": 181,
          "metadata": {},
          "output_type": "execute_result"
        }
      ],
      "source": [
        "query = \"Professor Kin Chung Kwan specialization\"\n",
        "docs = document_search.similarity_search(query)\n",
        "chain.run(input_documents=docs, question=query)"
      ]
    },
    {
      "cell_type": "markdown",
      "metadata": {
        "id": "z5xniY4Q2wiw"
      },
      "source": []
    },
    {
      "cell_type": "code",
      "execution_count": 91,
      "metadata": {
        "colab": {
          "base_uri": "https://localhost:8080/",
          "height": 35
        },
        "id": "FASANWoy0KjF",
        "outputId": "8579942c-6994-42fb-e6ce-d32aebbd8270"
      },
      "outputs": [
        {
          "data": {
            "application/vnd.google.colaboratory.intrinsic+json": {
              "type": "string"
            },
            "text/plain": [
              "' Bang Tran and Syed Badruddoja'"
            ]
          },
          "execution_count": 91,
          "metadata": {},
          "output_type": "execute_result"
        }
      ],
      "source": [
        "query = \"Professor names who are specialization in Artificial Intelligence\"\n",
        "docs = document_search.similarity_search(query)\n",
        "chain.run(input_documents=docs, question=query)"
      ]
    },
    {
      "cell_type": "code",
      "execution_count": 106,
      "metadata": {
        "colab": {
          "base_uri": "https://localhost:8080/",
          "height": 35
        },
        "id": "dSXDd_9Y26bU",
        "outputId": "c793c1a4-599e-499c-861b-af047f73bf4f"
      },
      "outputs": [
        {
          "data": {
            "application/vnd.google.colaboratory.intrinsic+json": {
              "type": "string"
            },
            "text/plain": [
              "' Nikrouz Faroughi, Behnam Arad, Syed Badruddoja, V. Scott Gordon'"
            ]
          },
          "execution_count": 106,
          "metadata": {},
          "output_type": "execute_result"
        }
      ],
      "source": [
        "query = \"Professor names who are in RVR\"\n",
        "docs = document_search.similarity_search(query)\n",
        "chain.run(input_documents=docs, question=query)"
      ]
    },
    {
      "cell_type": "code",
      "execution_count": 55,
      "metadata": {
        "colab": {
          "base_uri": "https://localhost:8080/",
          "height": 107
        },
        "id": "m2GmtiiU3AUO",
        "outputId": "82eabdfe-759a-49ea-e5e6-59cc1e08498b"
      },
      "outputs": [
        {
          "data": {
            "application/vnd.google.colaboratory.intrinsic+json": {
              "type": "string"
            },
            "text/plain": [
              "\" CSC 502 is a Master's Project course that is typically offered in the Fall and Spring terms. It has a prerequisite of CSC 209 and is only open to students who have advanced to candidacy. It can be taken for 1-2 units and can be repeated for credit. There is also a CSC 502C course that is a continuation of the project approved for the Master's degree and can be taken for 1 unit. Both courses are Credit/No Credit and are not intended for students who have completed CSC 174.\""
            ]
          },
          "execution_count": 55,
          "metadata": {},
          "output_type": "execute_result"
        }
      ],
      "source": [
        "query = \"What is CSC 502\"\n",
        "docs = document_search.similarity_search(query)\n",
        "chain.run(input_documents=docs, question=query)"
      ]
    },
    {
      "cell_type": "code",
      "execution_count": 56,
      "metadata": {
        "colab": {
          "base_uri": "https://localhost:8080/",
          "height": 35
        },
        "id": "7R94KJ2HGELk",
        "outputId": "afb0f222-6915-4c42-85e1-faf3dbf5f661"
      },
      "outputs": [
        {
          "data": {
            "application/vnd.google.colaboratory.intrinsic+json": {
              "type": "string"
            },
            "text/plain": [
              "' CSC 135, CSC 195, and Introduction to Cybersecurity'"
            ]
          },
          "execution_count": 56,
          "metadata": {},
          "output_type": "execute_result"
        }
      ],
      "source": [
        "query = \"List all Courses  are Typically offered in Fall Term?\"\n",
        "docs = document_search.similarity_search(query)\n",
        "chain.run(input_documents=docs, question=query)"
      ]
    },
    {
      "cell_type": "code",
      "execution_count": 57,
      "metadata": {
        "colab": {
          "base_uri": "https://localhost:8080/",
          "height": 35
        },
        "id": "DTbu6xjgHCWu",
        "outputId": "87517384-f00e-48b7-8936-6ae4ac055802"
      },
      "outputs": [
        {
          "data": {
            "application/vnd.google.colaboratory.intrinsic+json": {
              "type": "string"
            },
            "text/plain": [
              "\" I don't know.\""
            ]
          },
          "execution_count": 57,
          "metadata": {},
          "output_type": "execute_result"
        }
      ],
      "source": [
        "query = \"List Course  which was  offered in Summer Term only? \"\n",
        "docs = document_search.similarity_search(query)\n",
        "chain.run(input_documents=docs, question=query)"
      ]
    },
    {
      "cell_type": "code",
      "execution_count": 59,
      "metadata": {
        "colab": {
          "base_uri": "https://localhost:8080/",
          "height": 71
        },
        "id": "hx-ZWYJIHiiR",
        "outputId": "f3b466f9-51ee-4f6d-8322-1a0f7a15d458"
      },
      "outputs": [
        {
          "data": {
            "application/vnd.google.colaboratory.intrinsic+json": {
              "type": "string"
            },
            "text/plain": [
              "' CSC 135 is a course on intelligent systems that covers expert systems, fuzzy logic, neural networks, evolutionary computation, two-player game-tree search, knowledge representation, pattern recognition, hybrid approaches, and handling uncertainty.'"
            ]
          },
          "execution_count": 59,
          "metadata": {},
          "output_type": "execute_result"
        }
      ],
      "source": [
        "query = \"What is CSC 135? \"\n",
        "docs = document_search.similarity_search(query)\n",
        "chain.run(input_documents=docs, question=query)"
      ]
    },
    {
      "cell_type": "code",
      "execution_count": 25,
      "metadata": {
        "colab": {
          "base_uri": "https://localhost:8080/",
          "height": 35
        },
        "id": "pR_5U4roH6Eh",
        "outputId": "df493977-a1ba-4e90-a4f6-a797bc6c5607"
      },
      "outputs": [
        {
          "data": {
            "application/vnd.google.colaboratory.intrinsic+json": {
              "type": "string"
            },
            "text/plain": [
              "' 3 Units'"
            ]
          },
          "execution_count": 25,
          "metadata": {},
          "output_type": "execute_result"
        }
      ],
      "source": [
        "query = \"No of units for CSC 135? \"\n",
        "docs = document_search.similarity_search(query)\n",
        "chain.run(input_documents=docs, question=query)"
      ]
    },
    {
      "cell_type": "code",
      "execution_count": 60,
      "metadata": {
        "colab": {
          "base_uri": "https://localhost:8080/",
          "height": 35
        },
        "id": "QUWFsGOFH-sY",
        "outputId": "b8e145d8-3e76-4baa-8c8b-b7fd33d928b7"
      },
      "outputs": [
        {
          "data": {
            "application/vnd.google.colaboratory.intrinsic+json": {
              "type": "string"
            },
            "text/plain": [
              "' CSC 165'"
            ]
          },
          "execution_count": 60,
          "metadata": {},
          "output_type": "execute_result"
        }
      ],
      "source": [
        "query = \"Course number for Computer Game Architecture and Implementation? \"\n",
        "docs = document_search.similarity_search(query)\n",
        "chain.run(input_documents=docs, question=query)"
      ]
    },
    {
      "cell_type": "code",
      "execution_count": 61,
      "metadata": {
        "colab": {
          "base_uri": "https://localhost:8080/",
          "height": 35
        },
        "id": "RYlpKh_FIxl9",
        "outputId": "177bf743-9e0c-4221-f356-a3df160b03c0"
      },
      "outputs": [
        {
          "data": {
            "application/vnd.google.colaboratory.intrinsic+json": {
              "type": "string"
            },
            "text/plain": [
              "' CSC 130, CSC 133, MATH 26A or MATH 30, PHYS 5A or PHYS 11A'"
            ]
          },
          "execution_count": 61,
          "metadata": {},
          "output_type": "execute_result"
        }
      ],
      "source": [
        "query = \"Prerequisite for Computer Game Architecture and Implementation? \"\n",
        "docs = document_search.similarity_search(query)\n",
        "chain.run(input_documents=docs, question=query)"
      ]
    },
    {
      "cell_type": "code",
      "execution_count": 28,
      "metadata": {
        "colab": {
          "base_uri": "https://localhost:8080/",
          "height": 35
        },
        "id": "cHN7fG3UI6KQ",
        "outputId": "d2be77a9-f805-466e-d664-35e79cac728b"
      },
      "outputs": [
        {
          "data": {
            "application/vnd.google.colaboratory.intrinsic+json": {
              "type": "string"
            },
            "text/plain": [
              "' Spring only'"
            ]
          },
          "execution_count": 28,
          "metadata": {},
          "output_type": "execute_result"
        }
      ],
      "source": [
        "query = \"In which term  Computer Game Architecture and Implementation is offered? \"\n",
        "docs = document_search.similarity_search(query)\n",
        "chain.run(input_documents=docs, question=query)"
      ]
    },
    {
      "cell_type": "code",
      "execution_count": 34,
      "metadata": {
        "colab": {
          "base_uri": "https://localhost:8080/",
          "height": 35
        },
        "id": "KEEzkZdhJAb2",
        "outputId": "b41a38be-cf28-4f10-c419-1f50e83b25c2"
      },
      "outputs": [
        {
          "data": {
            "application/vnd.google.colaboratory.intrinsic+json": {
              "type": "string"
            },
            "text/plain": [
              "'\\nSTAT 50'"
            ]
          },
          "execution_count": 34,
          "metadata": {},
          "output_type": "execute_result"
        }
      ],
      "source": [
        "query = \"List all STAT courses number \"\n",
        "docs = document_search.similarity_search(query)\n",
        "chain.run(input_documents=docs, question=query)"
      ]
    },
    {
      "cell_type": "code",
      "execution_count": 157,
      "metadata": {
        "colab": {
          "base_uri": "https://localhost:8080/",
          "height": 35
        },
        "id": "Ejbc6JtjJLja",
        "outputId": "f4d2047f-9b65-4c12-f542-8299230f21fc"
      },
      "outputs": [
        {
          "data": {
            "application/vnd.google.colaboratory.intrinsic+json": {
              "type": "string"
            },
            "text/plain": [
              "' CSC 177, CSC 212'"
            ]
          },
          "execution_count": 157,
          "metadata": {},
          "output_type": "execute_result"
        }
      ],
      "source": [
        "query = \"What courses have data  \"\n",
        "docs = document_search.similarity_search(query)\n",
        "chain.run(input_documents=docs, question=query)"
      ]
    },
    {
      "cell_type": "code",
      "execution_count": 35,
      "metadata": {
        "colab": {
          "base_uri": "https://localhost:8080/",
          "height": 35
        },
        "id": "-p8Oy_1HJSG0",
        "outputId": "b69a3db3-8167-4f59-edc9-ee4060919069"
      },
      "outputs": [
        {
          "data": {
            "application/vnd.google.colaboratory.intrinsic+json": {
              "type": "string"
            },
            "text/plain": [
              "' 1 - 2 Units'"
            ]
          },
          "execution_count": 35,
          "metadata": {},
          "output_type": "execute_result"
        }
      ],
      "source": [
        "query = \"CSC 502 units?  \"\n",
        "docs = document_search.similarity_search(query)\n",
        "chain.run(input_documents=docs, question=query)"
      ]
    },
    {
      "cell_type": "code",
      "execution_count": 36,
      "metadata": {
        "colab": {
          "base_uri": "https://localhost:8080/",
          "height": 35
        },
        "id": "6XBkzJAnJdRX",
        "outputId": "8d1fc052-b624-4ed5-80ad-933df557dcc0"
      },
      "outputs": [
        {
          "data": {
            "application/vnd.google.colaboratory.intrinsic+json": {
              "type": "string"
            },
            "text/plain": [
              "' Yes, according to the context, CSC 502 has a prerequisite of advanced to candidacy.'"
            ]
          },
          "execution_count": 36,
          "metadata": {},
          "output_type": "execute_result"
        }
      ],
      "source": [
        "query = \"Does CSC 502 needs advanced to candidacy?  \"\n",
        "docs = document_search.similarity_search(query)\n",
        "chain.run(input_documents=docs, question=query)"
      ]
    },
    {
      "cell_type": "code",
      "execution_count": 182,
      "metadata": {
        "colab": {
          "base_uri": "https://localhost:8080/",
          "height": 35
        },
        "id": "HOp979WuJ98k",
        "outputId": "b935616c-d16e-4e3b-f9a9-c33bb1f379ad"
      },
      "outputs": [
        {
          "data": {
            "application/vnd.google.colaboratory.intrinsic+json": {
              "type": "string"
            },
            "text/plain": [
              "' phoulady@csus.edu'"
            ]
          },
          "execution_count": 182,
          "metadata": {},
          "output_type": "execute_result"
        }
      ],
      "source": [
        "query = \"professor Pharam Ahamad Email?  \"\n",
        "docs = document_search.similarity_search(query)\n",
        "chain.run(input_documents=docs, question=query)"
      ]
    },
    {
      "cell_type": "code",
      "execution_count": 38,
      "metadata": {
        "colab": {
          "base_uri": "https://localhost:8080/",
          "height": 35
        },
        "id": "qrtqR5pVKEa0",
        "outputId": "383ab927-db74-4cef-c4e1-e023a2dde7c4"
      },
      "outputs": [
        {
          "data": {
            "application/vnd.google.colaboratory.intrinsic+json": {
              "type": "string"
            },
            "text/plain": [
              "\" I don't know, as this information is not provided in the given context. \""
            ]
          },
          "execution_count": 38,
          "metadata": {},
          "output_type": "execute_result"
        }
      ],
      "source": [
        "query = \"professor Pharam Ahamad Location?  \"\n",
        "docs = document_search.similarity_search(query)\n",
        "chain.run(input_documents=docs, question=query)"
      ]
    },
    {
      "cell_type": "code",
      "execution_count": 184,
      "metadata": {
        "colab": {
          "base_uri": "https://localhost:8080/",
          "height": 35
        },
        "id": "a_TirgvFKppy",
        "outputId": "b866847b-8253-4828-9504-21e32f6ddc7f"
      },
      "outputs": [
        {
          "data": {
            "application/vnd.google.colaboratory.intrinsic+json": {
              "type": "string"
            },
            "text/plain": [
              "\" I don't know.\""
            ]
          },
          "execution_count": 184,
          "metadata": {},
          "output_type": "execute_result"
        }
      ],
      "source": [
        "query = \"professor Pharam Ahamad Specialization?  \"\n",
        "docs = document_search.similarity_search(query)\n",
        "chain.run(input_documents=docs, question=query)"
      ]
    },
    {
      "cell_type": "code",
      "execution_count": 202,
      "metadata": {
        "colab": {
          "base_uri": "https://localhost:8080/"
        },
        "id": "3BfOE-FxMEaU",
        "outputId": "e48f36f9-dcac-4a2c-deed-36630f4c1aba"
      },
      "outputs": [
        {
          "name": "stdout",
          "output_type": "stream",
          "text": [
            "Collecting Chain\n",
            "  Using cached chain-1.0-py3-none-any.whl\n",
            "Installing collected packages: Chain\n",
            "Successfully installed Chain-1.0\n"
          ]
        }
      ],
      "source": [
        "!pip install Chain"
      ]
    },
    {
      "cell_type": "code",
      "execution_count": 205,
      "metadata": {
        "colab": {
          "base_uri": "https://localhost:8080/"
        },
        "id": "Ij9XGERCMzfc",
        "outputId": "86029235-86d9-48fe-bc16-055823107359"
      },
      "outputs": [
        {
          "name": "stderr",
          "output_type": "stream",
          "text": [
            "[nltk_data] Downloading package punkt to /root/nltk_data...\n",
            "[nltk_data]   Unzipping tokenizers/punkt.zip.\n",
            "[nltk_data] Downloading package wordnet to /root/nltk_data...\n",
            "[nltk_data] Downloading package stopwords to /root/nltk_data...\n",
            "[nltk_data]   Unzipping corpora/stopwords.zip.\n"
          ]
        }
      ],
      "source": [
        "\n",
        "import nltk\n",
        "from nltk.corpus import stopwords\n",
        "from nltk.tokenize import word_tokenize\n",
        "from nltk.stem import WordNetLemmatizer\n",
        "from sklearn.feature_extraction.text import TfidfVectorizer\n",
        "from sklearn.metrics.pairwise import cosine_similarity\n",
        "from PyPDF2 import PdfReader\n",
        "\n",
        "# Initialize NLTK resources\n",
        "nltk.download('punkt')\n",
        "nltk.download('wordnet')\n",
        "nltk.download('stopwords')\n",
        "\n",
        "# Define a function to preprocess text\n",
        "def preprocess_text(text):\n",
        "    stop_words = set(stopwords.words('english'))\n",
        "    word_tokens = word_tokenize(text.lower())\n",
        "    filtered_text = [word for word in word_tokens if word.isalnum() and word not in stop_words]\n",
        "    lemmatizer = WordNetLemmatizer()\n",
        "    lemmatized_text = [lemmatizer.lemmatize(word) for word in filtered_text]\n",
        "    return ' '.join(lemmatized_text)"
      ]
    },
    {
      "cell_type": "code",
      "execution_count": 206,
      "metadata": {
        "colab": {
          "base_uri": "https://localhost:8080/"
        },
        "id": "51uOTwvpM3BP",
        "outputId": "84d80027-0c9d-454d-fea6-397526b8e2f4"
      },
      "outputs": [
        {
          "name": "stdout",
          "output_type": "stream",
          "text": [
            "Please enter your query: professor Pharam Ahamad Location?\n"
          ]
        }
      ],
      "source": [
        "# Define a function to answer a query\n",
        "def answer_query(query, text):\n",
        "    # Preprocess query and text\n",
        "    preprocessed_query = preprocess_text(query)\n",
        "    preprocessed_text = preprocess_text(text)\n",
        "\n",
        "    # Calculate TF-IDF vectors\n",
        "    vectorizer = TfidfVectorizer()\n",
        "    tfidf_matrix = vectorizer.fit_transform([preprocessed_query, preprocessed_text])\n",
        "\n",
        "    # Calculate cosine similarity\n",
        "    cosine_sim = cosine_similarity(tfidf_matrix[0], tfidf_matrix[1])[0][0]\n",
        "\n",
        "    return cosine_sim\n",
        "\n",
        "# Get user input for the query\n",
        "query = input(\"Please enter your query: \")\n"
      ]
    },
    {
      "cell_type": "code",
      "execution_count": 223,
      "metadata": {
        "colab": {
          "base_uri": "https://localhost:8080/"
        },
        "id": "pvRFGZQQP6zV",
        "outputId": "509bb534-a0c3-4ae1-e7e4-aaca3bc6428f"
      },
      "outputs": [
        {
          "name": "stdout",
          "output_type": "stream",
          "text": [
            "You: CSC 502 course name?\n",
            "ChatBot:  Master's Project\n"
          ]
        }
      ],
      "source": [
        "from langchain.chains.question_answering import load_qa_chain\n",
        "from langchain.llms import OpenAI\n",
        "\n",
        "# Load the OpenAI API instance\n",
        "openai_api = OpenAI()\n",
        "\n",
        "# Load the question-answering chain\n",
        "chain = load_qa_chain(openai_api, chain_type=\"stuff\")\n",
        "\n",
        "# Function to perform document search and get response from the chatbot\n",
        "def get_chatbot_response(query):\n",
        "    # Perform document search\n",
        "    docs = document_search.similarity_search(query)\n",
        "\n",
        "    # Run the question-answering chain with input documents\n",
        "    response = chain.run(input_documents=docs, question=query)\n",
        "    return response\n",
        "\n",
        "# Main function\n",
        "def main():\n",
        "    # Prompt the user to enter a query\n",
        "    query = input(\"You: \")\n",
        "\n",
        "    # Get response from the chatbot\n",
        "    response = get_chatbot_response(query)\n",
        "\n",
        "    # Print the chatbot's response\n",
        "    print(\"ChatBot:\", response)\n",
        "\n",
        "# Run the main function\n",
        "if __name__ == \"__main__\":\n",
        "    main()\n"
      ]
    },
    {
      "cell_type": "code",
      "execution_count": 62,
      "metadata": {
        "colab": {
          "base_uri": "https://localhost:8080/"
        },
        "id": "t0FGB_ahQKsA",
        "outputId": "1c5e628a-b4a6-48d6-f47e-613aa56958b7"
      },
      "outputs": [
        {
          "name": "stdout",
          "output_type": "stream",
          "text": [
            "ChatBot: Hi there! How can I help you today?\n",
            "You: CSC 502 requirements ?\n",
            "ChatBot:  The prerequisites for CSC 502 are CSC 209 and being advanced to candidacy. It is typically offered in the Fall and Spring terms and is a 1-2 unit course for completing a project approved for the Master's degree. CSC 502C is a continuation of CSC 502 and also requires being enrolled in CSC 502. It is offered in the Fall and Spring terms and can be repeated for credit. Additionally, students must also complete an additional 3-unit upper-division CSC course that fulfills major requirements, excluding CSC 192-195, 198, and 199. CSC 502 is the first of a two-course sequence for an industry-grade project and CSC 502C is the second course.\n",
            "ChatBot: Do you have any other questions? (yes/no): yes\n",
            "You: California State University Address\n",
            "ChatBot:  I don't know.\n",
            "ChatBot: Do you have any other questions? (yes/no): yes\n",
            "You: California State University Address\n",
            "ChatBot:  Sacramento State is located in Sacramento, California.\n",
            "ChatBot: Do you have any other questions? (yes/no): yes\n",
            "You: Does CSC 502 needs advanced to candidacy? \n",
            "ChatBot:  Yes, according to the context provided, CSC 502 has a prerequisite of CSC 209 and advanced to candidacy. \n",
            "ChatBot: Do you have any other questions? (yes/no): yes\n",
            "You: In which term  Computer Game Architecture and Implementation is offered?\n",
            "ChatBot:  Spring only\n",
            "ChatBot: Do you have any other questions? (yes/no): yes\n",
            "You: Prerequisite for Computer Game Architecture and Implementation?\n",
            "ChatBot:  CSC 130; CSC 133; MATH 26A or MATH 30; PHYS 5A or PHYS 11A\n",
            "ChatBot: Do you have any other questions? (yes/no): no\n"
          ]
        }
      ],
      "source": [
        "from langchain.chains.question_answering import load_qa_chain\n",
        "from langchain.llms import OpenAI\n",
        "\n",
        "# Load the OpenAI API instance\n",
        "openai_api = OpenAI()\n",
        "\n",
        "# Load the question-answering chain\n",
        "chain = load_qa_chain(openai_api, chain_type=\"stuff\")\n",
        "\n",
        "# Function to perform document search and get response from the chatbot\n",
        "def get_chatbot_response(query):\n",
        "    # Perform document search\n",
        "    docs = document_search.similarity_search(query)\n",
        "\n",
        "    # Run the question-answering chain with input documents\n",
        "    response = chain.run(input_documents=docs, question=query)\n",
        "    return response\n",
        "\n",
        "# Main function\n",
        "def main():\n",
        "    # Initial prompt\n",
        "    print(\"ChatBot: Hi there! How can I help you today?\")\n",
        "\n",
        "    # Start conversation loop\n",
        "    while True:\n",
        "        # Prompt the user to enter a query\n",
        "        query = input(\"You: \")\n",
        "\n",
        "        # Get response from the chatbot\n",
        "        response = get_chatbot_response(query)\n",
        "\n",
        "        # Print the chatbot's response\n",
        "        print(\"ChatBot:\", response)\n",
        "\n",
        "        # Ask if the user wants to continue the conversation\n",
        "        continue_conversation = input(\"ChatBot: Do you have any other questions? (yes/no): \")\n",
        "        if continue_conversation.lower() != \"yes\":\n",
        "            break\n",
        "\n",
        "# Run the main function\n",
        "if __name__ == \"__main__\":\n",
        "    main()\n"
      ]
    },
    {
      "cell_type": "code",
      "execution_count": null,
      "metadata": {
        "id": "baGx6UW4QLGK"
      },
      "outputs": [],
      "source": []
    }
  ],
  "metadata": {
    "colab": {
      "provenance": []
    },
    "kernelspec": {
      "display_name": "Python 3",
      "name": "python3"
    },
    "language_info": {
      "name": "python"
    }
  },
  "nbformat": 4,
  "nbformat_minor": 0
}
